{
 "cells": [
  {
   "cell_type": "markdown",
   "metadata": {},
   "source": [
    "# HRI 2. 社会中的机器人 (Robots in Society)"
   ]
  },
  {
   "cell_type": "markdown",
   "metadata": {},
   "source": [
    "## 1. Roobts in the wild\n",
    "\n",
    "There are a lot of robots around us, such as:\n",
    "- Domestic robot\n",
    "- Telepresence robot\n",
    "- Industrial robot\n",
    "- Medical robot\n",
    "\n",
    "### Worries\n",
    "\n",
    "Robots take the job\n",
    "\n",
    "Robot outside the lab is considered as in the wild.\n",
    "\n",
    "### Unconny valley\n",
    "\n",
    "very like human but not excatly human will be treated as aliens. Not make a robot like a zombie."
   ]
  }
 ],
 "metadata": {
  "language_info": {
   "name": "python"
  },
  "orig_nbformat": 4
 },
 "nbformat": 4,
 "nbformat_minor": 2
}
