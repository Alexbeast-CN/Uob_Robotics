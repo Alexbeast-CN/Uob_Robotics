{
 "cells": [
  {
   "cell_type": "markdown",
   "metadata": {},
   "source": [
    "# DS 1. 一个简单的数据分析项目\n",
    "\n",
    "> 本文是实战导向的教程，使用 python 外加 Numpy, Pandas, Matplotlib, Seaborn, SK-learn 等 python 库。\n",
    "> - 教程的来源为: [Youtube, FreeCodeCamp | Data Analysis with Python](https://www.youtube.com/watch?v=r-uOLxNrNk8&t=1s&ab_channel=freeCodeCamp.org)\n",
    "> - 本文中所涉及的项目 Github 地址为: [FreeCodeCamp-Pandas-Real-Life-Example\n",
    "](https://github.com/ine-rmotr-curriculum/FreeCodeCamp-Pandas-Real-Life-Example/blob/master/Lecture_1.ipynb)"
   ]
  },
  {
   "cell_type": "markdown",
   "metadata": {},
   "source": []
  },
  {
   "cell_type": "code",
   "execution_count": null,
   "metadata": {},
   "outputs": [],
   "source": []
  }
 ],
 "metadata": {
  "language_info": {
   "name": "python"
  },
  "orig_nbformat": 4
 },
 "nbformat": 4,
 "nbformat_minor": 2
}
