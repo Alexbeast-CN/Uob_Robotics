{
 "cells": [
  {
   "cell_type": "markdown",
   "metadata": {},
   "source": [
    "# Pytorch 1. 介绍(Intro)\n",
    "\n",
    "> 此教程跟随 youtuber: Sentdex 的[Pytorch 教程](https://www.youtube.com/watch?v=ixathu7U-LQ&list=PLQVvvaa0QuDdeMyHEYc0gxFpYwHY2Qfdh&index=3&ab_channel=sentdex) 创作。其英文版的链接如下：\n",
    "> https://pythonprogramming.net/introduction-deep-learning-neural-network-pytorch/\n",
    "\n",
    "## 1. 环境\n",
    "\n",
    "通常来说，深度学习需要有 GPU 加速训练神经网络。所以对于本地有不错 GPU 的选手(RTX 2070 以上)可以选择在本地训练一个神经网络。如果你像我没有 GPU 的话，可以选择使用 GPU 云服务器。不想花钱的话可以使用 Google Colab 或者 Kaggle 白嫖 GPU 。但这些平台通常都是限时的，所以对于大型的程序而言，训练到一半被平台踢出来真的很不爽，之前的东西都白训练了 (Colab Pro 也没啥用)。所以如果是要做大型的项目，最好还是花钱租用 GPU 云服务器，平台很多，价格都差不多的贵。。。"
   ]
  },
  {
   "cell_type": "markdown",
   "metadata": {},
   "source": [
    "## 2. 什么是 Pytorch\n",
    "\n",
    "Pytorch 库与其他深度学习库一样，实际上只是一个对张量进行操作的库。张量用一个不太成熟的理解，就是矩阵，而 Pytorch 就是一个可以调用 GPU 的 numpy 库。\n",
    "\n",
    "### 2.1 什么是张量 (Tensor)\n",
    "\n",
    "通过下面的代码我们就可以创建一些 Tensor，他们看上去就和向量差不多。"
   ]
  },
  {
   "cell_type": "code",
   "execution_count": 8,
   "metadata": {},
   "outputs": [
    {
     "name": "stdout",
     "output_type": "stream",
     "text": [
      "tensor([10,  3])\n"
     ]
    }
   ],
   "source": [
    "# if you don't have pytorch, you can install it by:\n",
    "# pip install torch torchvision\n",
    "\n",
    "# pytorch is like a numpy running on gpu\n",
    "import torch\n",
    "\n",
    "# We can treat tensor like an array for now\n",
    "# Now let's do some math\n",
    "x = torch.tensor([5,3])\n",
    "y = torch.tensor([2,1])\n",
    "\n",
    "print(x*y)"
   ]
  },
  {
   "cell_type": "markdown",
   "metadata": {},
   "source": [
    "下面会继续探索一些 pytorch 的其他基础功能。这些功能大多都和 numpy 的矩阵操作类似。"
   ]
  },
  {
   "cell_type": "code",
   "execution_count": 2,
   "metadata": {},
   "outputs": [
    {
     "name": "stdout",
     "output_type": "stream",
     "text": [
      "tensor([[0., 0., 0., 0., 0.],\n",
      "        [0., 0., 0., 0., 0.]])\n"
     ]
    },
    {
     "data": {
      "text/plain": [
       "torch.Size([2, 5])"
      ]
     },
     "execution_count": 2,
     "metadata": {},
     "output_type": "execute_result"
    }
   ],
   "source": [
    "x = torch.zeros([2,5])\n",
    "print(x)\n",
    "x.shape"
   ]
  },
  {
   "cell_type": "code",
   "execution_count": 4,
   "metadata": {},
   "outputs": [
    {
     "data": {
      "text/plain": [
       "tensor([[0.6910, 0.3738, 0.5051, 0.0293, 0.1903],\n",
       "        [0.5467, 0.8598, 0.3174, 0.6280, 0.4812]])"
      ]
     },
     "execution_count": 4,
     "metadata": {},
     "output_type": "execute_result"
    }
   ],
   "source": [
    "y = torch.rand([2,5])\n",
    "y"
   ]
  },
  {
   "cell_type": "markdown",
   "metadata": {},
   "source": [
    "对于矩阵的变形，比如将一个 $2\\times 2$ 的矩阵变成一个 $1 \\times 4$ 的矩阵。在 numpy 中我们使用的函数是 reshape()，但 pytorch 使用 view() 来操作。"
   ]
  },
  {
   "cell_type": "code",
   "execution_count": 7,
   "metadata": {},
   "outputs": [
    {
     "data": {
      "text/plain": [
       "tensor([[0.6910, 0.3738, 0.5051, 0.0293, 0.1903, 0.5467, 0.8598, 0.3174, 0.6280,\n",
       "         0.4812]])"
      ]
     },
     "execution_count": 7,
     "metadata": {},
     "output_type": "execute_result"
    }
   ],
   "source": [
    "y = y.view([1,10])\n",
    "y"
   ]
  }
 ],
 "metadata": {
  "interpreter": {
   "hash": "c6d9031e658debb2ea8943e06a648314df12deac922ea91a3af9df8928bf1d5c"
  },
  "kernelspec": {
   "display_name": "Python 3.9.7 64-bit ('base': conda)",
   "language": "python",
   "name": "python3"
  },
  "language_info": {
   "codemirror_mode": {
    "name": "ipython",
    "version": 3
   },
   "file_extension": ".py",
   "mimetype": "text/x-python",
   "name": "python",
   "nbconvert_exporter": "python",
   "pygments_lexer": "ipython3",
   "version": "3.9.7"
  },
  "orig_nbformat": 4
 },
 "nbformat": 4,
 "nbformat_minor": 2
}
