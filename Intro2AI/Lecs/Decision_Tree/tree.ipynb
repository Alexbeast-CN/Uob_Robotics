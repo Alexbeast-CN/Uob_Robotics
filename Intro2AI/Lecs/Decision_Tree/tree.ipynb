{
 "cells": [
  {
   "cell_type": "markdown",
   "metadata": {},
   "source": [
    "# AI 4. 决策树 (Decision Tree)\n",
    "\n",
    "> 参考：\n",
    "> - Meduim Blog [Decision Trees in Machine Learning](https://towardsdatascience.com/decision-trees-in-machine-learning-641b9c4e8052)"
   ]
  }
 ],
 "metadata": {
  "language_info": {
   "name": "python"
  },
  "orig_nbformat": 4
 },
 "nbformat": 4,
 "nbformat_minor": 2
}
