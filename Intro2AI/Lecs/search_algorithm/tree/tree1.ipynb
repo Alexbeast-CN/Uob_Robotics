{
 "cells": [
  {
   "cell_type": "markdown",
   "metadata": {},
   "source": [
    "# AI 2. 搜索问题 (Search Problem)\n",
    "\n",
    "> 参考：\n",
    "> \n",
    "> - [Stanford Intro to AI Lec5](https://www.youtube.com/watch?v=aIsgJJYrlXk&list=PLoROMvodv4rO1NB9TD4iUZ3qghGEGtqNX&index=5&ab_channel=stanfordonline)\n"
   ]
  },
  {
   "cell_type": "markdown",
   "metadata": {},
   "source": [
    "我们之前讲过的模型大多是基于反射的模型(reflex-based models)。在这种模型中，我们只需要找到一个符合问题描述的最佳答案即可。而在搜索问题中，我们需要一系列有顺序的答案。对于这样的问题，我们使用的模型叫做基于状态的模型 (state-based\n",
    "model)。\n",
    "\n",
    "下面举一个小学奥数题的例子：现在有农夫，白菜，山羊，和狼。他们要过河。河面上只有一条船，船只能载一个人和一个物品。但如果狼和羊在一起，而农夫不在，羊就会被狼吃掉。如果羊和白菜在一起，而农夫不在，白菜就会被羊吃掉。问，要让他们四个都安全过河，至少需要开船几次？\n",
    "\n",
    "![开船问题](./pics/problem.png)\n",
    "\n",
    "## 1. 树状搜索 (Tree search)\n",
    "\n",
    "### 1.1 引例分析"
   ]
  },
  {
   "cell_type": "markdown",
   "metadata": {},
   "source": [
    "为了解答上面的问题，我们可以使用一个叫做树状搜索的方法。首先我们列出农夫可以做的所有动作：\n",
    "\n",
    "- 农夫自己过河\n",
    "- 农夫自己从对岸回来\n",
    "- 农夫和白菜一起过河\n",
    "- 农夫和白菜一起从对岸回来\n",
    "- 农夫和羊一起过河\n",
    "- 农夫和羊一起从对岸回来\n",
    "- 农夫和狼一起过河\n",
    "- 农夫和狼一起从对岸回来\n",
    "\n",
    "为了简化表达，用他们的首字母来代替以上的这些动作：\n",
    "\n",
    "![动作](./pics/actions.png)\n",
    "\n",
    "下面，我们对于该问题可能出现的所有状态进行树状搜索。初始状态是所有人和物都在河的左岸，我们用 `FCGW||` 来表示。我们希望达到的最终情况是 `||FCGW`。下面我们列出从初始情况开始，在上面列出的动作作用下，所有可能出现的情况。其中失败（羊和狼在一起，或羊和白菜在一起）的情况，会用红色标注出来。成功的情况 会用绿色标出来。\n",
    "\n",
    "![树状图](./pics/tree_FWGC.png)\n"
   ]
  },
  {
   "cell_type": "markdown",
   "metadata": {},
   "source": [
    "为了完成该问题，我们可以定义一些内容：\n",
    "- $S_{start}$：初始状态\n",
    "- $Actions(s)$：基于当前状态 $s$ 可以做的动作\n",
    "- $Cost(s,a)$：状态 $s$ 下动作 $a$ 的代价\n",
    "- $Succ(s,a)$: 状态 $s$ 下动作 $a$ 导致的下一个状态\n",
    "- $IsFail(s)$: 判断该状态是否是失败的\n",
    "- $IsEnd(s)$: 达到了最终状态"
   ]
  },
  {
   "cell_type": "markdown",
   "metadata": {},
   "source": [
    "为了让我们找到最佳结果，我们使用回溯搜索法 (Backtracking search)。该方法就是让程序将所有可能的结果全部找出来，然后返回代价最小的那个结果。"
   ]
  },
  {
   "cell_type": "markdown",
   "metadata": {},
   "source": [
    "### 1.2 代码实现\n",
    "\n",
    "由于该问题的次数比较少，人类可以很轻松的解答出来，所以就不编程了。下面写一个次数多一些的例子：\n",
    "\n",
    "我们要从 $1$ 号街区 到 $n$ 号街区。可以采取的行动有两种，一个是 `走路` 产生的效果是当前状态 $s+1$，代价是 `1`。另外一种是 `搭电车` 产生的效果是：当前状态 $s \\times 2$，代价是 `2`。问从从 $1$ 到 $n$的最少次数。"
   ]
  },
  {
   "cell_type": "markdown",
   "metadata": {},
   "source": [
    "下面开始设计程序："
   ]
  },
  {
   "cell_type": "code",
   "execution_count": 2,
   "metadata": {},
   "outputs": [],
   "source": [
    "import sys\n",
    "# Since the program will continue to recurse, \n",
    "# in order to prevent the number of program recursion from exceeding \n",
    "# the upper limit set by the system, \n",
    "# a relatively high upper limit is firstly set here.\n",
    "sys.setrecursionlimit(10000)"
   ]
  },
  {
   "cell_type": "markdown",
   "metadata": {},
   "source": [
    "下面开始为树状搜索模型构建元素。由于问题比较简单，所以之前所说的一些定义合并，只留下面的一些定义：\n",
    "- $S_{start}$：初始状态\n",
    "- $IsEnd(s)$: 达到了最终状态\n",
    "- $succAndCost(s,a)$：这里记载了由当前状态通过某动作到达一下的状态。并记录该动作的消耗。"
   ]
  },
  {
   "cell_type": "code",
   "execution_count": 3,
   "metadata": {},
   "outputs": [],
   "source": [
    "### Model (search problem)\n",
    "\n",
    "class TransportationProblem(object):\n",
    "    def __init__(self, N, weights):\n",
    "        # N = number of blocks\n",
    "        # weights = specifies the costs of actions\n",
    "        self.N = N\n",
    "        self.weights = weights\n",
    "    def startState(self):\n",
    "        return 1\n",
    "    def isEnd(self, state):\n",
    "        return state == self.N\n",
    "    def succAndCost(self, state):\n",
    "        # Returns list of (action, newState, cost) triples\n",
    "        result = []\n",
    "        if state + 1 <= self.N:\n",
    "            result.append(('walk', state + 1, self.weights['walk']))\n",
    "        if 2 * state <= self.N:\n",
    "            result.append(('tram', 2 * state, self.weights['tram']))\n",
    "        return result"
   ]
  },
  {
   "cell_type": "markdown",
   "metadata": {},
   "source": [
    "> 由于每更新一个状态，都会面临两个选择。 \"Walk\" or \"Tram\"，而这两个选择的限制是不可以超过 $N$，所以这里的 $succAndCost$ 是这样写的"
   ]
  },
  {
   "cell_type": "markdown",
   "metadata": {},
   "source": [
    "我们用递归的方式实现回溯搜索："
   ]
  },
  {
   "cell_type": "markdown",
   "metadata": {},
   "source": [
    "算法思路如下：\n",
    "\n",
    "![Backtracking Search](./pics/back.png)"
   ]
  },
  {
   "cell_type": "code",
   "execution_count": 5,
   "metadata": {},
   "outputs": [],
   "source": [
    "def backtrackingSearch(problem):\n",
    "    # Best solution found so far \n",
    "    # (dictionary because of python scoping technicality)\n",
    "    best = {\n",
    "        'cost': float('inf'),\n",
    "        'history': None\n",
    "        }\n",
    "    def recurese(state, history, totalCost):\n",
    "        # At state, having undergone history, accmulated totalCost.\n",
    "        # Explore the rest of the search space.\n",
    "        if problem.isEnd(state):\n",
    "            # update the best solution so far.\n",
    "            if totalCost < best['cost']:\n",
    "                best['cost'] = totalCost\n",
    "                best['history'] = history\n",
    "            return\n",
    "        # Recurse on chidren\n",
    "        for action, newState, cost in problem.succAndCost(state):\n",
    "            recurese(newState, history + [(action, newState, cost)], totalCost + cost)\n",
    "    recurese(problem.startState(), history = [], totalCost = 0)\n",
    "    return (best['cost'], best['history'])"
   ]
  },
  {
   "cell_type": "markdown",
   "metadata": {},
   "source": [
    "写一个打印结果的函数"
   ]
  },
  {
   "cell_type": "code",
   "execution_count": 6,
   "metadata": {},
   "outputs": [],
   "source": [
    "def printSolution(solution):\n",
    "    totalCost, history = solution\n",
    "    print(('totalCost:', totalCost))\n",
    "    for item in history:\n",
    "        print(item)"
   ]
  },
  {
   "cell_type": "markdown",
   "metadata": {},
   "source": [
    "下面写一个主函数，来测试一下："
   ]
  },
  {
   "cell_type": "code",
   "execution_count": 10,
   "metadata": {},
   "outputs": [
    {
     "name": "stdout",
     "output_type": "stream",
     "text": [
      "('totalCost:', 18)\n",
      "('walk', 2, 1)\n",
      "('walk', 3, 1)\n",
      "('walk', 4, 1)\n",
      "('tram', 8, 2)\n",
      "('walk', 9, 1)\n",
      "('tram', 18, 2)\n",
      "('tram', 36, 2)\n",
      "('walk', 37, 1)\n",
      "('tram', 74, 2)\n",
      "('walk', 75, 1)\n",
      "('tram', 150, 2)\n",
      "('tram', 300, 2)\n"
     ]
    }
   ],
   "source": [
    "problem = TransportationProblem(N = 300, weights = {'walk': 1, 'tram': 2})\n",
    "solution = backtrackingSearch(problem)\n",
    "printSolution(solution)"
   ]
  },
  {
   "cell_type": "markdown",
   "metadata": {},
   "source": [
    "> Time cost: 1m19.3s"
   ]
  },
  {
   "cell_type": "markdown",
   "metadata": {},
   "source": [
    "简单分析一下该算法。我们通过回溯，所有可能的路径都探索出来，然后比较他们的代价。假如树的广度是 $b$，深度是 $D$。那么它的空间复杂度就是 $O(D)$，时间复杂度为 $O(b^D)$。"
   ]
  },
  {
   "cell_type": "markdown",
   "metadata": {},
   "source": [
    "除了回溯搜索外，还有深度优先和广度优先的算法。这里贴出算法之间的比较但不做拓展：\n",
    "\n",
    "![算法之间的比较](./pics/table.png)"
   ]
  },
  {
   "cell_type": "markdown",
   "metadata": {},
   "source": [
    "> 拓展视频：\n",
    "> - MIT 6.006 Introduction to Algorithms [13. Breadth-First Search (BFS)](https://www.youtube.com/watch?v=s-CYnVz-uh4&ab_channel=MITOpenCourseWare)\n",
    "> - MIT 6.006 Introduction to Algorithms [14. Depth-First Search (DFS), Topological Sort](https://www.youtube.com/watch?v=AfSk24UTFS8&ab_channel=MITOpenCourseWare)"
   ]
  },
  {
   "cell_type": "markdown",
   "metadata": {},
   "source": [
    "## 2. 动态编程 (Dynamic Programming)\n",
    "\n",
    "为了降低计算的复杂度。我们使用另外一个方法，叫做动态编程法。\n",
    "\n",
    "我们依然以上面的例子来说明。\n",
    "\n",
    "![树状图示例](./pics/tree_from_slides.png)"
   ]
  },
  {
   "cell_type": "markdown",
   "metadata": {},
   "source": [
    "对于之前的例子来说，我们将树的所有枝干都探索出来。这其中有着很多重复的节点，从这些相同的节点出发，生出来的枝干也是相同的，从这个优化观点出发，我们引出了动态编程。对于动态编程来说，我们只关注当前的状态 $s$，以及从当前状态可以达到的一下个状态$s'$，和此过程的代价 $cost(s,a)$。我们不需要关注当前状态 $s$ 是怎么来的。\n",
    "\n",
    "![](./pics/dy_gram.png)"
   ]
  },
  {
   "cell_type": "markdown",
   "metadata": {},
   "source": [
    "其中 $FutureCost(s)$ 是一个递归函数，其算法为：\n",
    "\n",
    "$$\n",
    "FutrueCost(s)=\n",
    "\\left\\{\n",
    "    \\begin{array}{lr}\n",
    "    0 & if IsEnd(S)\\\\\n",
    "    min_{a\\in Action(s)}[Cost(s,a)]+FutureCost(Succ(s,a))&Otherwise\n",
    "    \\end{array}\n",
    "\\right.\n",
    "$$"
   ]
  },
  {
   "cell_type": "markdown",
   "metadata": {},
   "source": [
    "其算法的伪代码可以写作：\n",
    "\n",
    "![动态编程的伪代码](./pics/dy_gram_al.png)"
   ]
  },
  {
   "cell_type": "markdown",
   "metadata": {},
   "source": [
    "下面，我们使用该算法对上面的问题进行编程："
   ]
  },
  {
   "cell_type": "code",
   "execution_count": 17,
   "metadata": {},
   "outputs": [],
   "source": [
    "def dynamicProgramming(problem):\n",
    "    cache = {}  # state => futureCost(state), action, newState, cost\n",
    "    def futureCost(state):\n",
    "        # Base case\n",
    "        if problem.isEnd(state):\n",
    "            return 0\n",
    "        if state in cache:  # Exponential savings!\n",
    "            return cache[state][0]\n",
    "        # Actually do work\n",
    "        result = min((cost + futureCost(newState), action, newState, cost) \\\n",
    "            for action, newState, cost in problem.succAndCost(state))\n",
    "        cache[state] = result\n",
    "        return result[0]\n",
    "\n",
    "    state = problem.startState()\n",
    "    totalCost = futureCost(state)\n",
    "\n",
    "    # Recover history\n",
    "    history = []\n",
    "    while not problem.isEnd(state):\n",
    "        _, action, newState, cost = cache[state]\n",
    "        history.append((action, newState, cost))\n",
    "        state = newState\n",
    "\n",
    "    return (totalCost, history)"
   ]
  },
  {
   "cell_type": "code",
   "execution_count": 18,
   "metadata": {},
   "outputs": [
    {
     "name": "stdout",
     "output_type": "stream",
     "text": [
      "('totalCost:', 18)\n",
      "('walk', 2, 1)\n",
      "('tram', 4, 2)\n",
      "('tram', 8, 2)\n",
      "('walk', 9, 1)\n",
      "('tram', 18, 2)\n",
      "('tram', 36, 2)\n",
      "('walk', 37, 1)\n",
      "('tram', 74, 2)\n",
      "('walk', 75, 1)\n",
      "('tram', 150, 2)\n",
      "('tram', 300, 2)\n"
     ]
    }
   ],
   "source": [
    "solution = dynamicProgramming(problem)\n",
    "printSolution(solution)"
   ]
  },
  {
   "cell_type": "markdown",
   "metadata": {},
   "source": [
    "> Time cost: 0.4s"
   ]
  },
  {
   "cell_type": "markdown",
   "metadata": {},
   "source": [
    "做一个总结：\n",
    "\n",
    "- 状态：是对过去行动的总结，且足以最优地选择未来行动。(Summary of past actions sufficient to choose future actions optimally)\n",
    "- 动态编程：带有记忆的回溯搜索 (backtracking search with memoization)"
   ]
  },
  {
   "cell_type": "markdown",
   "metadata": {},
   "source": [
    "## 3. 统一成本搜索 (Uniform cost search)\n",
    "\n",
    "我们用例子来说明一下该算法。\n",
    "\n",
    "假设我们需要再下面这张地图中从 $a$ 走到 $d$。\n",
    "\n",
    "![地图](./pics/UCS.png)\n",
    "\n",
    "在出发之前，我们先准备一个列表用于存放我们已经走过的地方(explored)，这些被走过的地方不会再被经过。 并且我们每到一个地方就会记录这一路过来的代价 $cost$。从 $a$ 出发，所以抵达该点没有任何代价 $cost = 0$。当$a$ 能达到的下一个点都被列出后，$a$ 就可以被放入 `explored list` 中了。 假如我们同时有多个出发点，比如 $b$ 和 $c$ 都可以出发，则选择先从当前总代价小的那个点开始探索。\n",
    "\n",
    "- $a$ 点可以到达的地方有两个， $b,  totalcost = 6$ 和 $c,  totalcost = 3$。 explored: $a$\n",
    "- $c$ 可以到达： $b,  totalcost = 11$ 和 $c,  totalcost = 5$。explored: $a, \\,d$\n",
    "- $e$ 可以到达： $d,  totalcost = 12$。explored: $a, \\,d, \\,e$\n",
    "- $b$ 可以到达：$d,  totalcost = 8$。explored: $a, \\,d, \\,e, \\,b$\n",
    "\n",
    "![过程解释](./pics/UCS2.png)"
   ]
  },
  {
   "cell_type": "markdown",
   "metadata": {},
   "source": [
    "由此可以选出最佳路径为 $a\\rightarrow b \\rightarrow d, totalcost = 8$"
   ]
  }
 ],
 "metadata": {
  "interpreter": {
   "hash": "c6d9031e658debb2ea8943e06a648314df12deac922ea91a3af9df8928bf1d5c"
  },
  "kernelspec": {
   "display_name": "Python 3.9.7 ('base')",
   "language": "python",
   "name": "python3"
  },
  "language_info": {
   "codemirror_mode": {
    "name": "ipython",
    "version": 3
   },
   "file_extension": ".py",
   "mimetype": "text/x-python",
   "name": "python",
   "nbconvert_exporter": "python",
   "pygments_lexer": "ipython3",
   "version": "3.9.7"
  },
  "orig_nbformat": 4
 },
 "nbformat": 4,
 "nbformat_minor": 2
}
