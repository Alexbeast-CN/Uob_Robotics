{
 "cells": [
  {
   "cell_type": "markdown",
   "metadata": {},
   "source": [
    "# AI 3. A* 搜索 (A* Search)\n",
    "\n",
    "> 参考：\n",
    "> - 一个非常直观的算法讲解视频：[A* (A Star) Search Algorithm - Computerphile](https://www.youtube.com/watch?v=ySN5Wnu88nE&t=735s&ab_channel=Computerphile)\n",
    "> - Stanford cs221：[Lecture 6: Search 2 - A* | Stanford CS221: AI (Autumn 2019)](https://www.youtube.com/watch?v=HEs1ZCvLH2s&list=PLoROMvodv4rO1NB9TD4iUZ3qghGEGtqNX&index=6&ab_channel=stanfordonline)\n",
    "> - GeeksforGeeks 博客：[A* Search Algorithm](https://www.geeksforgeeks.org/a-search-algorithm/)\n",
    "> - Amitp 大佬的博客：[Amit’s A* Pages](http://theory.stanford.edu/~amitp/GameProgramming/)"
   ]
  },
  {
   "cell_type": "markdown",
   "metadata": {},
   "source": [
    "## 1. 简介\n",
    "\n",
    "A* 搜索算法通常用于寻路，比如在游戏中，寻找一条可以令对象从起点到达目标点的好路径 -- 避开障碍物，避开敌人，并最大限度地降低成本（燃料、时间、距离、设备、金钱等）。比如下图所示的从红心 $*$ 出移动到 X 的路径：\n",
    "\n",
    "![A*算法的效果](./pics/a-search.png)"
   ]
  },
  {
   "cell_type": "markdown",
   "metadata": {},
   "source": [
    "这是一个便于人类理解的二维地图，但对于计算机来说，该地图是由一组节点 (Nodes) 和 连接节点的边 (Edges) 组成的。下面的演示图只是地图表现方式的其中一种，更多的表现方式可以查看 [Amitp的地图表示博客](http://theory.stanford.edu/~amitp/GameProgramming/MapRepresentations.html)\n",
    "\n",
    "![计算机中的地图](./pics/map_structure.png)"
   ]
  },
  {
   "cell_type": "markdown",
   "metadata": {},
   "source": [
    "对于上面的地图来说，我们将节点 i 用 $S_i$ 表示，开始节点为 $S_0$，终点为 $S_{e}$。节点 i 到下一个节点 j 的消耗 (Cost) 用 $C_ij$ 来表示（一个节点可能会连接多个不同的节点）。对于一个寻路算法来说，最直观的就是从 $S_0$每到一个节点都将该节点的所有连接点都探索清楚，直到找到 $S_{e}$。然后再比较每一个能到达终点的路径总消耗，从而找到总消耗最小的那条路径。这就是 Dijkstra's 算法的思路。但很明显，该算法的时间复杂度非常高。（因为需要探索的地图范围很大）\n",
    "\n",
    "![Dijkstra's 算法示意图](./pics/Dijkstra.png)"
   ]
  },
  {
   "cell_type": "markdown",
   "metadata": {},
   "source": [
    "如果我们可以每一步都向着一个大致的正确方向迈进，这样我们的时间复杂度就会大大减小。而如何做到这一点，就是 A* 算法需要探究的事情。"
   ]
  },
  {
   "cell_type": "markdown",
   "metadata": {},
   "source": [
    "> 为了更直观的理解各种不同搜索算法的区别可以查看 [Amitp 制作的动画效果演示](https://www.redblobgames.com/pathfinding/a-star/introduction.html)"
   ]
  },
  {
   "cell_type": "markdown",
   "metadata": {},
   "source": [
    "## 2. 算法讲解\n",
    "\n",
    "### 2.1 代价计算 (Cost calculation)\n",
    "\n",
    "为了使得算法每一步都朝着正确的方向迈进，我们需要为一个节点设置两个代价，一个是从之前的节点，一路走来的代价，我们称其为 $PastCost(s)$。另一个为未来代价，是从该点到目标点可能需要的代价，$FutureCost(s)$。\n",
    "\n",
    "![代价表达式](./pics/cost.png)\n",
    "\n",
    "但我们无法准确的得到未来代价，所以用启发式 $h(s)$ 表示，对该点未来代价的预测。\n",
    "\n",
    "所以，对于每一个节点来说，都有一个综合代价值 $Cost(s)$，该值为该点的过去代价值与未来预测代价之和：\n",
    "\n",
    "$$\n",
    "Cost(s) = PastCost(s) + h(s)\n",
    "$$\n",
    "\n",
    "### 2.2 启发值\n",
    "\n",
    "根据启发式(heuristic) 的算法，我们可以对每一个节点都设置一个启发值 $h(s)$，该启发值为该点离终点的预测距离 （依照实际问题选择距离的类型，$L_1, L_2$）。\n",
    "\n",
    "以 $L_2$ 距离为例，假设节点 a 的坐标为 $(x_a, y_a)$，终点 e 的坐标为 $(x_{e}, y_{e})$。那么该点的启发值为：$\\sqrt{(x_{e}-x_a)^2 + (y_{e}-y_a}^2)$。\n",
    "\n",
    "终点的启发值 $h(s_{e}) = 0$。\n",
    "\n",
    "一个启发式必须满足：\n",
    "\n",
    "$$0 \\leq h(s) \\leq FutureCost(s)$$\n",
    "\n",
    "![启发式的直观理解](./pics/heuristic.png)\n",
    "\n",
    "因为只有这样，算法才会向着正确的方向前进，从而获得最优的解。"
   ]
  },
  {
   "cell_type": "markdown",
   "metadata": {},
   "source": [
    "### 2.3 算法过程\n",
    "\n",
    "使用 A* 的时候，算法会从起点开始，计算其能够到达的下一个点的综合代价，并且不断的向综合代价小的节点的子节点方向探索。\n",
    "\n",
    "![Astar Explain - 1](./pics/AstarExampleEn.gif)\n",
    "\n",
    "![Astar Explain - 2](./pics/illustration.png)\n"
   ]
  },
  {
   "cell_type": "markdown",
   "metadata": {},
   "source": [
    "## 3. 代码实现\n",
    "\n",
    "> - 完整的 python 代码：[implementation.py](https://www.redblobgames.com/pathfinding/a-star/implementation.py)\n",
    "> - 完整的 c++ 代码：[implementation.cpp](https://www.redblobgames.com/pathfinding/a-star/implementation.cpp)\n",
    "> - 如果想玩一些 demo 可以查看这个 [Javascript仓库和演示](https://github.com/anvaka/ngraph.path)"
   ]
  },
  {
   "cell_type": "markdown",
   "metadata": {},
   "source": [
    "下面我主要讲解用 python 实现的 A*\n",
    "\n",
    "### 3.1 创建地图\n"
   ]
  },
  {
   "cell_type": "code",
   "execution_count": 1,
   "metadata": {},
   "outputs": [],
   "source": [
    "from __future__ import annotations\n",
    "# some of these types are deprecated: https://www.python.org/dev/peps/pep-0585/\n",
    "from typing import Protocol, Dict, List, Iterator, Tuple, TypeVar, Optional\n",
    "T = TypeVar('T')"
   ]
  },
  {
   "cell_type": "markdown",
   "metadata": {},
   "source": [
    "地图实际上就是一个位置类型以及一个具有获取相邻位置的方法的类"
   ]
  },
  {
   "cell_type": "markdown",
   "metadata": {},
   "source": [
    "#### 3.1.1 一个简单地图"
   ]
  },
  {
   "cell_type": "code",
   "execution_count": null,
   "metadata": {},
   "outputs": [],
   "source": [
    "Location = TypeVar('Location')\n",
    "class Graph(Protocol):\n",
    "    def neighbors(self, id: Location) -> List[Location]: pass"
   ]
  },
  {
   "cell_type": "code",
   "execution_count": 2,
   "metadata": {},
   "outputs": [],
   "source": [
    "class SimpleGraph:\n",
    "    def __init__(self):\n",
    "        self.edges: Dict[Location, List[Location]] = {}\n",
    "    \n",
    "    def neighbors(self, id: Location) -> List[Location]:\n",
    "        return self.edges[id]"
   ]
  },
  {
   "cell_type": "markdown",
   "metadata": {},
   "source": [
    "现在我们可以利用上面的数据类型来创建一个如下所示的简单地图：\n",
    "\n",
    "![简单地图](./pics/implementation-example-graph.png)"
   ]
  },
  {
   "cell_type": "code",
   "execution_count": 12,
   "metadata": {},
   "outputs": [
    {
     "name": "stdout",
     "output_type": "stream",
     "text": [
      "From Location C, we can go to:  ['B', 'D', 'F']\n"
     ]
    }
   ],
   "source": [
    "example_graph = SimpleGraph()\n",
    "example_graph.edges = {\n",
    "    'A': ['B'],\n",
    "    'B': ['C'],\n",
    "    'C': ['B', 'D', 'F'],\n",
    "    'D': ['C', 'E'],\n",
    "    'E': ['F'],\n",
    "    'F': [],\n",
    "}\n",
    "\n",
    "print('From Location C, we can go to: ', example_graph.neighbors('C'))"
   ]
  },
  {
   "cell_type": "markdown",
   "metadata": {},
   "source": [
    "#### 3.1.2 格子地图"
   ]
  },
  {
   "cell_type": "markdown",
   "metadata": {},
   "source": [
    "除了上面的这种地图外，我们也会经常见到格子地图。\n",
    "\n",
    "> 为了简化文章，一些函数没有直接表示，但会从 [implementation.py](https://www.redblobgames.com/pathfinding/a-star/implementation.py) 文件中直接调用"
   ]
  },
  {
   "cell_type": "markdown",
   "metadata": {},
   "source": [
    "在格子地图，一般来说，一个点的东南西北四个点都是可以到达的邻居。但有一些例外需要被剔除，一些超出点图边界的点，比如 (-1,0)，和地图中的障碍物。然后将其他可以通行的点，储存为该点的 Edges。"
   ]
  },
  {
   "cell_type": "code",
   "execution_count": 13,
   "metadata": {},
   "outputs": [],
   "source": [
    "GridLocation = Tuple[int, int]\n",
    "\n",
    "class SquareGrid:\n",
    "    def __init__(self, width: int, height: int):\n",
    "        self.width = width\n",
    "        self.height = height\n",
    "        self.walls: List[GridLocation] = []\n",
    "    \n",
    "    def in_bounds(self, id: GridLocation) -> bool:\n",
    "        (x, y) = id\n",
    "        return 0 <= x < self.width and 0 <= y < self.height\n",
    "    \n",
    "    def passable(self, id: GridLocation) -> bool:\n",
    "        return id not in self.walls\n",
    "    \n",
    "    def neighbors(self, id: GridLocation) -> Iterator[GridLocation]:\n",
    "        (x, y) = id\n",
    "        neighbors = [(x+1, y), (x-1, y), (x, y-1), (x, y+1)] # E W N S\n",
    "        # see \"Ugly paths\" section for an explanation:\n",
    "        if (x + y) % 2 == 0: neighbors.reverse() # S N W E\n",
    "        results = filter(self.in_bounds, neighbors)\n",
    "        results = filter(self.passable, results)\n",
    "        return results"
   ]
  },
  {
   "cell_type": "markdown",
   "metadata": {},
   "source": [
    "下面我们来随便画一个地图："
   ]
  },
  {
   "cell_type": "code",
   "execution_count": 16,
   "metadata": {},
   "outputs": [
    {
     "name": "stdout",
     "output_type": "stream",
     "text": [
      "__________________________________________________________________________________________\n",
      " .  .  .  .  .  .  .  .  .  .  .  .  .  .  .  .  .  .  .  .  . ###### .  .  .  .  .  .  . \n",
      " .  .  .  .  .  .  .  .  .  .  .  .  .  .  .  .  .  .  .  .  . ###### .  .  .  .  .  .  . \n",
      " .  .  .  .  .  .  .  .  .  .  .  .  .  .  .  .  .  .  .  .  . ###### .  .  .  .  .  .  . \n",
      " .  .  . ###### .  .  .  .  .  .  .  .  .  .  .  .  .  .  .  . ###### .  .  .  .  .  .  . \n",
      " .  .  . ###### .  .  .  .  .  .  .  . ###### .  .  .  .  .  . ###### .  .  .  .  .  .  . \n",
      " .  .  . ###### .  .  .  .  .  .  .  . ###### .  .  .  .  .  . ############### .  .  .  . \n",
      " .  .  . ###### .  .  .  .  .  .  .  . ###### .  .  .  .  .  . ############### .  .  .  . \n",
      " .  .  . ###### .  .  .  .  .  .  .  . ###### .  .  .  .  .  .  .  .  .  .  .  .  .  .  . \n",
      " .  .  . ###### .  .  .  .  .  .  .  . ###### .  .  .  .  .  .  .  .  .  .  .  .  .  .  . \n",
      " .  .  . ###### .  .  .  .  .  .  .  . ###### .  .  .  .  .  .  .  .  .  .  .  .  .  .  . \n",
      " .  .  . ###### .  .  .  .  .  .  .  . ###### .  .  .  .  .  .  .  .  .  .  .  .  .  .  . \n",
      " .  .  . ###### .  .  .  .  .  .  .  . ###### .  .  .  .  .  .  .  .  .  .  .  .  .  .  . \n",
      " .  .  .  .  .  .  .  .  .  .  .  .  . ###### .  .  .  .  .  .  .  .  .  .  .  .  .  .  . \n",
      " .  .  .  .  .  .  .  .  .  .  .  .  . ###### .  .  .  .  .  .  .  .  .  .  .  .  .  .  . \n",
      " .  .  .  .  .  .  .  .  .  .  .  .  . ###### .  .  .  .  .  .  .  .  .  .  .  .  .  .  . \n",
      "~~~~~~~~~~~~~~~~~~~~~~~~~~~~~~~~~~~~~~~~~~~~~~~~~~~~~~~~~~~~~~~~~~~~~~~~~~~~~~~~~~~~~~~~~~\n"
     ]
    }
   ],
   "source": [
    "from implementation import *\n",
    "g = SquareGrid(30, 15)\n",
    "g.walls = DIAGRAM1_WALLS # long list, [(21, 0), (21, 2), ...]\n",
    "draw_grid(g)"
   ]
  },
  {
   "cell_type": "markdown",
   "metadata": {},
   "source": [
    "#### 3.1.3 代价地图\n",
    "\n",
    "常规的地图高速我每一个节点的 Edges 有哪些，而代价地图告诉我沿着每一条边移动的成本。因此，我们需要写一个函数，用于记录从一个节点到另一个节点的 Cost。"
   ]
  },
  {
   "cell_type": "code",
   "execution_count": 17,
   "metadata": {},
   "outputs": [],
   "source": [
    "class GridWithWeights(SquareGrid):\n",
    "    def __init__(self, width: int, height: int):\n",
    "        super().__init__(width, height)\n",
    "        self.weights: Dict[GridLocation, float] = {}\n",
    "    \n",
    "    def cost(self, from_node: GridLocation, to_node: GridLocation) -> float:\n",
    "        return self.weights.get(to_node, 1)"
   ]
  },
  {
   "cell_type": "markdown",
   "metadata": {},
   "source": [
    "这里我们将代价简化了，使其只取决于 `to_node` 的权重。进而我们利用该上面的函数画一个简单的地图："
   ]
  },
  {
   "cell_type": "code",
   "execution_count": 26,
   "metadata": {},
   "outputs": [
    {
     "name": "stdout",
     "output_type": "stream",
     "text": [
      "______________________________\n",
      " .  .  .  .  .  .  .  .  .  . \n",
      " .  .  .  .  5  5  .  .  .  . \n",
      " .  .  .  .  5  5  5  .  .  . \n",
      " .  .  .  .  5  5  5  5  .  . \n",
      " .  .  .  5  5  5  5  5  .  . \n",
      " .  .  .  5  5  5  5  5  .  . \n",
      " .  .  .  .  5  5  5  .  .  . \n",
      " . ######### 5  5  5  .  .  . \n",
      " . ######### 5  5  .  .  .  . \n",
      " .  .  .  .  .  .  .  .  .  . \n",
      "~~~~~~~~~~~~~~~~~~~~~~~~~~~~~~\n"
     ]
    }
   ],
   "source": [
    "diagram4 = GridWithWeights(10, 10)\n",
    "diagram4.walls = [(1, 7), (1, 8), (2, 7), (2, 8), (3, 7), (3, 8)]\n",
    "diagram4.weights = {loc: 5 for loc in [(3, 4), (3, 5), (4, 1), (4, 2),\n",
    "                                       (4, 3), (4, 4), (4, 5), (4, 6),\n",
    "                                       (4, 7), (4, 8), (5, 1), (5, 2),\n",
    "                                       (5, 3), (5, 4), (5, 5), (5, 6),\n",
    "                                       (5, 7), (5, 8), (6, 2), (6, 3),\n",
    "                                       (6, 4), (6, 5), (6, 6), (6, 7),\n",
    "                                       (7, 3), (7, 4), (7, 5)]}\n",
    "                                    \n",
    "draw_grid(diagram4, number = diagram4.weights)"
   ]
  },
  {
   "cell_type": "markdown",
   "metadata": {},
   "source": [
    "### 3.2 A* 搜索"
   ]
  },
  {
   "cell_type": "markdown",
   "metadata": {},
   "source": [
    "我们首先定义启发式的计算方式。由于目标在此格子地图中只能上下左右的移动，所以这里的启发式我们使用曼哈顿距离：\n",
    "\n",
    "$$\n",
    "L_1 = |x_1 - x_2| + |y_1 - y_2|\n",
    "$$"
   ]
  },
  {
   "cell_type": "code",
   "execution_count": 30,
   "metadata": {},
   "outputs": [],
   "source": [
    "def heuristic(a: GridLocation, b: GridLocation) -> float:\n",
    "    (x1, y1) = a\n",
    "    (x2, y2) = b\n",
    "    return abs(x1 - x2) + abs(y1 - y2)"
   ]
  },
  {
   "cell_type": "markdown",
   "metadata": {},
   "source": [
    "对于搜索算法来说，我们主要使用的是一个有优先级的数列。将目前探索到的最接近终点（代价最小）的节点储存在优先队列的顶端。而后，我们每一次都将从队列顶端获取一个节点，并探索其 neighbors，直到队列顶端的节点为终点。"
   ]
  },
  {
   "cell_type": "code",
   "execution_count": 31,
   "metadata": {},
   "outputs": [],
   "source": [
    "def a_star_search(graph: WeightedGraph, start: Location, goal: Location):\n",
    "    frontier = PriorityQueue()\n",
    "    frontier.put(start, 0)\n",
    "    came_from: Dict[Location, Optional[Location]] = {}\n",
    "    cost_so_far: Dict[Location, float] = {}\n",
    "    came_from[start] = None\n",
    "    cost_so_far[start] = 0\n",
    "    \n",
    "    while not frontier.empty():\n",
    "        current: Location = frontier.get()\n",
    "        \n",
    "        if current == goal:\n",
    "            break\n",
    "        \n",
    "        for next in graph.neighbors(current):\n",
    "            new_cost = cost_so_far[current] + graph.cost(current, next)\n",
    "            # Avoid returning to the previous nodes \n",
    "            if next not in cost_so_far \\\n",
    "                or new_cost < cost_so_far[next]:\n",
    "\n",
    "                # update the cost_so_far and came_from\n",
    "                cost_so_far[next] = new_cost\n",
    "                priority = new_cost + heuristic(next, goal)\n",
    "                frontier.put(next, priority)\n",
    "                came_from[next] = current\n",
    "    \n",
    "    return came_from, cost_so_far"
   ]
  },
  {
   "cell_type": "markdown",
   "metadata": {},
   "source": [
    "下面我们快速验证一个 A* 算法："
   ]
  },
  {
   "cell_type": "code",
   "execution_count": 29,
   "metadata": {},
   "outputs": [
    {
     "name": "stdout",
     "output_type": "stream",
     "text": [
      "______________________________\n",
      " .  .  .  @  @  @  @  .  .  . \n",
      " .  .  .  @  5  5  @  @  .  . \n",
      " .  .  .  @  5  5  5  @  @  . \n",
      " .  @  @  @  5  5  5  5  @  . \n",
      " .  @  .  5  5  5  5  5  .  . \n",
      " .  .  .  5  5  5  5  5  .  . \n",
      " .  .  .  .  5  5  5  .  .  . \n",
      " . ######### 5  5  5  .  .  . \n",
      " . ######### 5  5  .  .  .  . \n",
      " .  .  .  .  .  .  .  .  .  . \n",
      "~~~~~~~~~~~~~~~~~~~~~~~~~~~~~~\n",
      "\n",
      "______________________________\n",
      " 5  4  5  6  7  8  9  10 11 12\n",
      " 4  3  4  5  10 13 10 11 12 13\n",
      " 3  2  3  4  9  14 15 12 13 14\n",
      " 2  1  2  3  8  13 .  17 Z  . \n",
      " 1  A  1  6  11 .  .  .  .  . \n",
      " 2  1  2  7  12 .  .  .  .  . \n",
      " 3  2  3  4  9  .  .  .  .  . \n",
      " 4 ######### .  .  .  .  .  . \n",
      " . ######### .  .  .  .  .  . \n",
      " .  .  .  .  .  .  .  .  .  . \n",
      "~~~~~~~~~~~~~~~~~~~~~~~~~~~~~~\n"
     ]
    }
   ],
   "source": [
    "start, goal = (1, 4), (8, 3)\n",
    "came_from, cost_so_far = a_star_search(diagram4, start, goal)\n",
    "draw_grid(\n",
    "    diagram4, \n",
    "    path=reconstruct_path(came_from, start=start, goal=goal),\n",
    "    number = diagram4.weights\n",
    "    )\n",
    "print()\n",
    "draw_grid(diagram4, number=cost_so_far, start=start, goal=goal)\n"
   ]
  },
  {
   "cell_type": "markdown",
   "metadata": {},
   "source": [
    "- 上篇：[AI 2. 搜索算法 (Search Algorithm)](https://zhuanlan.zhihu.com/p/467959715)\n",
    "- 下篇：[]()"
   ]
  }
 ],
 "metadata": {
  "interpreter": {
   "hash": "c6d9031e658debb2ea8943e06a648314df12deac922ea91a3af9df8928bf1d5c"
  },
  "kernelspec": {
   "display_name": "Python 3.9.7 ('base')",
   "language": "python",
   "name": "python3"
  },
  "language_info": {
   "codemirror_mode": {
    "name": "ipython",
    "version": 3
   },
   "file_extension": ".py",
   "mimetype": "text/x-python",
   "name": "python",
   "nbconvert_exporter": "python",
   "pygments_lexer": "ipython3",
   "version": "3.9.7"
  },
  "orig_nbformat": 4
 },
 "nbformat": 4,
 "nbformat_minor": 2
}
