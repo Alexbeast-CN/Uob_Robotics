{
 "cells": [
  {
   "cell_type": "markdown",
   "metadata": {},
   "source": [
    "# DRL1. 马尔可夫决策过程 (Markov Decision Processes, MDP)\n",
    "\n",
    "> 参考：\n",
    "> - stanford cs221: [Lecture 7: Markov Decision Processes - Value Iteration](https://www.youtube.com/watch?v=9g32v7bK3Co&list=PLoROMvodv4rO1NB9TD4iUZ3qghGEGtqNX&index=7&t=3993s&ab_channel=stanfordonline)\n",
    "> - Meduim Blog: [Reinforcement Learning : Markov-Decision Process (Part 1)](https://towardsdatascience.com/introduction-to-reinforcement-learning-markov-decision-process-44c533ebf8da)\n",
    "> - Meduim Blog: [Reinforcement Learning : Markov-Decision Process (Part 2)](https://towardsdatascience.com/reinforcement-learning-markov-decision-process-part-2-96837c936ec3)\n",
    "> - Web book: [Foundations of caputational agents](https://artint.info/html/ArtInt_224.html)\n",
    "> - Book: [Reinforcement Learning: An Intorduction](http://incompleteideas.net/book/RLbook2020.pdf) - Chap 3\n",
    "\n",
    "\n",
    "## 1. 强化学习简述\n",
    "\n",
    "> 在开始本章学习之前，读者需先掌握搜索算法\n",
    "\n",
    "### 1.1 概念描述\n",
    "\n",
    "在强化学习中，我们的学习者和决策者被称为一个 **代理(Agent)** ，他会从所处的 **环境(Enviroment)** 中得知自己当然的 **状态(State)** 并做出 **动作(Actions)** 使自己到达下一个 状态。环境 会依照他的所作的动作和状态给代理一个 **奖励值(Reward)**。而我们想要是执行一系列动作，从而使得代理获得的最大的奖励值。要达成这个目的，我们要使用的第一个工具叫做 **马尔可夫决策过程 (Markov Decision Processes)**，简称  MDP。\n",
    "\n",
    "\n",
    "![经典强化学习的框图](./pics/RL.png)\n",
    "\n",
    "> 本文只考虑有限 MDP\n"
   ]
  },
  {
   "cell_type": "markdown",
   "metadata": {},
   "source": [
    "### 1.2 引例\n",
    "\n",
    "![AI 吃豆人](./pics/pac.gif)\n",
    "\n",
    "在吃豆人游戏中，环境就是游戏本身。黄色的 pac-man 就是由我们代理控制的游戏角色。状态则是代理在环境中特定时间步长时所在的位置。每当代理执行操作的时候，都会得到一个奖励值，比如吃一个普通的豆奖励 9 分，如果走了一步但没有吃到豆则得 -1 分。如果被鬼撞到则会得 -10000 分。而我们要做的，就是让代理通过不断的试错，来学习游戏策略，最后找到能在吃豆人游戏不同地图都能获得高分的策略。"
   ]
  },
  {
   "cell_type": "markdown",
   "metadata": {},
   "source": [
    "### 1.3 强化学习术语"
   ]
  },
  {
   "cell_type": "markdown",
   "metadata": {},
   "source": [
    "在搜索问题中，我们已经遇到过两个术语，**状态** $s_t \\in \\mathcal S$ 和 **动作** $a_t\\in \\mathcal A(s)$。由这两个术语便可以使我们完成对地图的探索。\n",
    "\n",
    "![搜索问题](./pics/search.png)\n",
    "\n",
    "> 节点代表状态，箭头代表动作"
   ]
  },
  {
   "cell_type": "markdown",
   "metadata": {},
   "source": [
    "在强化学习中，还有一个关键术语：**奖励** $R_{t+1} \\in \\mathcal R(s,a)$。这是环境依据代理的上一个状态和动作做出的奖励。由以上术语，代理可以生成一条如下样子的路径：\n",
    "\n",
    "![MDP路径图](./pics/mdpnew.png)\n",
    "\n",
    "> 在有限 MDP 中，状态，动作，奖励集合中的元素都是有限的。"
   ]
  },
  {
   "cell_type": "markdown",
   "metadata": {},
   "source": [
    "## 2. MDP\n",
    "\n",
    "### 2.1 引理\n",
    "\n",
    "为了更清楚的说明 MDP，我们先举一个例子：\n",
    "\n",
    "我们现在玩一个骰子游戏，你有两个选择，摇骰子或退出，如果选择退出，你就能直接获得 $10，游戏结束。如果摇骰子你可以获得 $4。但如果摇到了 1 或 2，则游戏结束。如果是其他的，那么你便可以继续游戏下一轮的游戏。\n",
    "\n",
    "![游戏说明](./pics/block.png)"
   ]
  },
  {
   "cell_type": "markdown",
   "metadata": {},
   "source": [
    "### 2.2 转移概率和奖励\n",
    "\n",
    "对于这个游戏来说，我们有两种状态，in or end。在 in 的状态下，我们有两种动作，stay or quit。如果做出 stay 的动作，我们有 $\\frac{1}{3}$ 的概率达到状态 end，$\\frac{2}{3}$ 的概率达到状态 in。我们称这个概率为 **转移概率(transition probabilities)**。到达状态 $s'$ 获得的奖励为 $r$\n",
    "\n",
    "用一个表来总结上面的这段话就是：\n",
    "\n",
    "|s|a|s'|T(s,a,s')|r(s,a,s')|\n",
    "| - | - | - | - | - |\n",
    "|in|quit|end|1|$10|\n",
    "|in|stay|in|2/3|$4|\n",
    "|in|stay|end|1/3|$4|"
   ]
  },
  {
   "cell_type": "markdown",
   "metadata": {},
   "source": [
    "用概率论的公式来描述是 $T(s'|s,a)$，即在 $s$ 和 $a$ 发生的情况下，发生 $s'$ 概率。\n",
    "\n",
    "此外，$T$ 还有一个性质:\n",
    "\n",
    "$$\n",
    "\\sum_{s'\\in states} T(s'|s,a) = 1\n",
    "$$\n",
    "\n",
    "在 $(s,a) \\rightarrow s'$ 时的奖励也可以表示为概率的形式，$R(s'|s,a)$。"
   ]
  },
  {
   "cell_type": "markdown",
   "metadata": {},
   "source": [
    "### 2.3 策略和效用\n",
    "\n",
    "有了以上信息，我们还需要思考，如何通过一系列的动作获得最大的收益。这时我们就要让代理设计一套 **策略(policy)**， $\\pi$。由它来告诉我们在每一个状态下应该做什么。类似于搜索算法中我们的路径，搜索算法中希望得到的是最小代价路径，而在强化学习中，我们希望得到的是最大收益策略。\n",
    "\n",
    "![控制机器人运动的策略](./pics/policy.png)"
   ]
  },
  {
   "cell_type": "markdown",
   "metadata": {},
   "source": [
    "对于一套策略来说，我们使用 **效用(utility)** 来衡量其好坏。效用就是这条策略产生的收益之和。\n",
    "\n",
    "比如说，在骰子游戏中，我们连续选择了 3 次 stay 才结束游戏，那么其效用就是 $u_1 = 3\\times 4 = 12$\n",
    "\n",
    "但有时我们希望在最短的时间内获得最大的收益。假如每轮比赛的时间间隔是一周，那么我们就要考虑时间成本，我们将这个时间成本称为 **折扣系数(discount factor)**，用 $\\gamma$ 表示，$0 \\leq \\gamma \\leq 1$。\n",
    "\n",
    "因此，我们的效用公式就变成了：\n",
    "\n",
    "$$\n",
    "u = r_1 + \\gamma r_2 + \\gamma^2 r_3 + \\gamma^3 r_4 + ...\n",
    "$$\n",
    "\n",
    "这样的话，假如 $\\gamma = 0.8$，我们还是连续选择了 3 次 stay 才结束游戏，那么效用就是：\n",
    "\n",
    "$$\n",
    "u_2 = 4 + 0.8 \\times 4 + 0.8^2 \\times 4 = 9.76\n",
    "$$"
   ]
  },
  {
   "cell_type": "markdown",
   "metadata": {},
   "source": [
    "### 策略评估\n",
    "\n",
    "由于在执行策略的过程中，存在概率问题，所以同一个策略，可能会导致不同的效用。为了更好的衡量一个策略，我们引入另外两个值，一个是 **状态值，V值**，另一个是 **状态-动作值，Q值**。\n",
    "\n",
    "- V值：$V_{\\pi}(s)$ 是在状态 $s$ 时遵循策略 $\\pi$ 可以获得的预期效用。\n",
    "\n",
    "- Q值：$V_{\\pi}(s,a)$ 为从状态 $s$ 采取行动 $a$，然后遵循策略 $\\pi$ 的预期效用。\n",
    "\n",
    "![](./pics/VQ.png)\n",
    "\n",
    "这两个值之间的关系式是：\n",
    "\n",
    "$$\n",
    "\\begin{aligned}\n",
    "&V_{\\pi}(s) = \n",
    "\\begin{cases}\n",
    "    0 && if\\, Isend(s)\\\\\n",
    "    Q_{\\pi}(s,\\pi(s)) && otherwise\n",
    "\\end{cases}\\\\  \n",
    "&Q_{\\pi}(s,a) = \n",
    "\\sum_{s'}T(s'|s,a)[r(s'|s,a)+\\gamma V_{\\pi}(s')]\n",
    "\\end{aligned}\n",
    "$$\n",
    "\n",
    "这个关系式也被称为贝尔曼期望函数(Bellman Expectation Equation)"
   ]
  },
  {
   "cell_type": "markdown",
   "metadata": {},
   "source": [
    "下面，我们来计算一个给定策略的 V值 和 Q值。我们使用的思想，是迭代。先随便指定策略的 V值 和 Q值，然后通过一遍遍的重复策略获得奖励值，直到 V值 和 Q值 收敛于一定误差范围。\n",
    "\n",
    "**算法：**\n",
    "\n",
    "- 将所有的状态值初始化为：$V_{\\pi}^(0)(s)\\leftarrow 0$\n",
    "- 通过下面的式子对 V值 进行迭代：\n",
    "\n",
    "$$\n",
    "\\begin{aligned}\n",
    "&V_{\\pi}^{(t)}(s) = \\sum_{s'}T(s'|s,\\pi(s))[r(s'|s,\\pi(s)) + \\gamma V_{\\pi}^(t-1)(s')]\\\\\n",
    "&V_{\\pi}^{(t)}(s) = Q^{(t-1)}(s,\\pi(s))\n",
    "\\end{aligned}\n",
    "$$\n",
    "\n",
    "- 直到误差小于 $\\epsilon$ 结束迭代：\n",
    "\n",
    "$$\n",
    "\\max_{s\\in states}|V_{\\pi}^{(t)}(s)- V_{\\pi}^{(t-1)}(s)| \\leq \\epsilon\n",
    "$$\n"
   ]
  },
  {
   "cell_type": "markdown",
   "metadata": {},
   "source": [
    "现在我们利用上面的算法来计算之前的骰子问题。现在我们不考虑折扣，来计算一下当策略一直为 \"Stay\" 的 V值：\n",
    "\n",
    "$$\n",
    "\\begin{aligned}\n",
    "&V_{\\pi}^{(t)}(end) = 0\\\\\n",
    "&V_{\\pi}^{(t)}(in) = \\frac{1}{3}(4 + V_{\\pi}^{(t-1)}(end)) + \\frac{2}{3}(4 + V_{\\pi}^{(t-1)}(in))\n",
    "\\end{aligned}\n",
    "$$\n",
    "\n",
    "现在对其迭代 100 次"
   ]
  },
  {
   "cell_type": "code",
   "execution_count": 4,
   "metadata": {},
   "outputs": [
    {
     "name": "stdout",
     "output_type": "stream",
     "text": [
      "Policy 'Stay' has a V value of 12.0\n"
     ]
    }
   ],
   "source": [
    "V_end = 0\n",
    "V_in_last = 0\n",
    "\n",
    "for i in range (100):\n",
    "    V_in = 1/3*(4 + V_end) + 2/3*(4 + V_in_last)\n",
    "    V_in_last = V_in\n",
    "\n",
    "print(\"Policy 'Stay' has a V value of {:.1f}\".format(V_in+V_end))"
   ]
  },
  {
   "cell_type": "markdown",
   "metadata": {},
   "source": [
    "### 2.4 最优策略和最优价值函数\n",
    "\n",
    "至此，我们的我们已经可以对一个问题使用 MDP 建模了，并且有了评估模型策略的数值化方法。接下来，我们需要找到对于问题的最优策略。\n",
    "\n",
    "**最优状态值函数**\n",
    "\n",
    "在 MDP 中，根据不同的策略，存在许多不同的价值函数。最优状态值函数是一种与所有其他状态值函数相比产生最大值的状态值函数。其计算公式写作：\n",
    "\n",
    "$$\n",
    "v^*(s) = \\max_{\\pi} \\, v_{\\pi}(s)\n",
    "$$\n",
    "\n",
    "$v^*(s)$ 告诉我们可以从系统中获得的最大奖励是多少\n",
    "\n",
    "**最优状态-动作值函数**\n",
    "\n",
    "类似地，最优状态-动作价值函数告诉我们，如果我们处于状态 s 并从那里开始采取行动 a，我们将获得的最大奖励。\n",
    "\n",
    "$$\n",
    "q^*(s,a) = \\max_{\\pi} \\, q_{\\pi}(s,a)\n",
    "$$"
   ]
  },
  {
   "cell_type": "markdown",
   "metadata": {},
   "source": [
    "**最优策略**\n",
    "\n",
    "一个策略比另一个策略更好，即该策略 $\\pi$ 的任何一个状态值都大于等于其他任何一个策略 $\\pi'$ 的状态值，我们就称策略 $\\pi$ 为最优策略。\n",
    "\n",
    "$$\n",
    "\\pi^*(s) = arg\\max_{a\\in Actions(s)}q^*(s,a)\n",
    "$$"
   ]
  },
  {
   "cell_type": "markdown",
   "metadata": {},
   "source": [
    "下篇：[]()"
   ]
  }
 ],
 "metadata": {
  "interpreter": {
   "hash": "c6d9031e658debb2ea8943e06a648314df12deac922ea91a3af9df8928bf1d5c"
  },
  "kernelspec": {
   "display_name": "Python 3.9.7 ('base')",
   "language": "python",
   "name": "python3"
  },
  "language_info": {
   "codemirror_mode": {
    "name": "ipython",
    "version": 3
   },
   "file_extension": ".py",
   "mimetype": "text/x-python",
   "name": "python",
   "nbconvert_exporter": "python",
   "pygments_lexer": "ipython3",
   "version": "3.9.7"
  },
  "orig_nbformat": 4
 },
 "nbformat": 4,
 "nbformat_minor": 2
}
