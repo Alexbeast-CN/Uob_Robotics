{
 "cells": [
  {
   "cell_type": "markdown",
   "metadata": {},
   "source": [
    "# PWG0. 配置 Gym 的 Anaconda 环境\n",
    "\n",
    "> 以下操作均在 Linux 系统中完成，因此 Gym 对于 Windows 的支持并不友好。"
   ]
  },
  {
   "cell_type": "code",
   "execution_count": null,
   "metadata": {},
   "outputs": [],
   "source": [
    "conda create -n gym python=3 pip\n",
    "conda activate gym\n",
    "conda config --append channels conda-forge"
   ]
  },
  {
   "cell_type": "markdown",
   "metadata": {},
   "source": [
    "安装 Pytorch 的包。这里自行在 Pytorch 官网查看适合自己系统的安装方式。\n",
    "\n",
    "安装 Tensorflow"
   ]
  },
  {
   "cell_type": "code",
   "execution_count": null,
   "metadata": {},
   "outputs": [],
   "source": [
    "pip install --upgrade tensorflow"
   ]
  },
  {
   "cell_type": "markdown",
   "metadata": {},
   "source": [
    "安装一些常用的基本库"
   ]
  },
  {
   "cell_type": "code",
   "execution_count": null,
   "metadata": {},
   "outputs": [],
   "source": [
    "conda install ipython numpy scipy pandas matplotlib seaborn -y\n",
    "conda install pytest psutil joblib tqdm mpi4py -y"
   ]
  },
  {
   "cell_type": "markdown",
   "metadata": {},
   "source": [
    "安装 Jupyter Notebook"
   ]
  },
  {
   "cell_type": "code",
   "execution_count": null,
   "metadata": {},
   "outputs": [],
   "source": [
    "conda install -c conda-forge notebook"
   ]
  },
  {
   "cell_type": "markdown",
   "metadata": {},
   "source": [
    "为环境配置 Jupyter Kernel"
   ]
  },
  {
   "cell_type": "code",
   "execution_count": null,
   "metadata": {},
   "outputs": [],
   "source": [
    "python -m ipykernel install --user --name=gym"
   ]
  },
  {
   "cell_type": "markdown",
   "metadata": {},
   "source": [
    "然后开始安装 gym，首先安装 gym 中的基本功能。"
   ]
  },
  {
   "cell_type": "code",
   "execution_count": null,
   "metadata": {},
   "outputs": [],
   "source": [
    "pip install gym"
   ]
  },
  {
   "cell_type": "markdown",
   "metadata": {},
   "source": [
    "【选择性安装】 安装 gym 中的 box2d\n",
    "\n",
    "![](./pics/box2d.jpg)"
   ]
  },
  {
   "cell_type": "code",
   "execution_count": null,
   "metadata": {},
   "outputs": [],
   "source": [
    "conda install -c conda-forge gym-box2d"
   ]
  },
  {
   "cell_type": "markdown",
   "metadata": {},
   "source": [
    "【选择性安装】然后安装 gym 中的 atari，这个在 linux 上不会报错。\n",
    "\n",
    "![](./pics/Atari.png)"
   ]
  },
  {
   "cell_type": "code",
   "execution_count": null,
   "metadata": {},
   "outputs": [],
   "source": [
    "pip install gym[atari]\n",
    "pip install gym[accept-rom-license]"
   ]
  },
  {
   "cell_type": "markdown",
   "metadata": {},
   "source": [
    "【选择性安装】然后安装 MoJoCo\n",
    "\n",
    "![](./pics/MoJoCo.gif)\n",
    "\n",
    "在 [MuJoCo Github Realease](https://github.com/deepmind/mujoco/releases)下载 MuJoCo 的安装包。并且在 `~/.mujoco/mujoco210` 路径下解压。"
   ]
  },
  {
   "cell_type": "code",
   "execution_count": null,
   "metadata": {},
   "outputs": [],
   "source": [
    "mkdir -p .mujoco/mujoco210\n",
    "tar -zxvf xxx.tar.gz\n",
    "pip3 install -U 'mujoco-py'\n",
    "python3 -c 'import mujoco_py'\n",
    "pip3 install gym[mujoco]"
   ]
  },
  {
   "cell_type": "markdown",
   "metadata": {},
   "source": [
    "安装 RL 的算法库"
   ]
  },
  {
   "cell_type": "code",
   "execution_count": null,
   "metadata": {},
   "outputs": [],
   "source": [
    "pip install stable-baselines3[extra]"
   ]
  },
  {
   "cell_type": "markdown",
   "metadata": {},
   "source": [
    "- 下篇：[PWG 1. 初识强化学习代码](https://zhuanlan.zhihu.com/p/484023706)"
   ]
  }
 ],
 "metadata": {
  "language_info": {
   "name": "python"
  },
  "orig_nbformat": 4
 },
 "nbformat": 4,
 "nbformat_minor": 2
}
