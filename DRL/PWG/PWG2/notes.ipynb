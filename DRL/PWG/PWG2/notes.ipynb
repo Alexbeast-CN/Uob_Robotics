{
 "cells": [
  {
   "cell_type": "markdown",
   "metadata": {},
   "source": [
    "# PWG2. Atari Space Invader | DQN\n",
    "\n",
    "> 本文的 [代码仓库](https://github.com/Alexbeast-CN/Uob_Robotics/tree/main/DRL/PWG/PWG2) 位于 Github，具体的代码实现请查看 [Colab 笔记本](https://colab.research.google.com/drive/1n0kyQJMHU2TTb-cZS0BgHAJsBfFg_AYh#scrollTo=08EF8L72NOM4)\n",
    "\n",
    "![](./pics/blue.png)"
   ]
  },
  {
   "cell_type": "markdown",
   "metadata": {},
   "source": [
    "## 0. 准备\n",
    "\n",
    "> 这里由于我自己的电脑没有 GPU 因此我选择在 Colab 上运行，代码也只在 Colab 上测试过。我的 Colab 笔记本位于 [PWG2_Play_Atari](https://colab.research.google.com/drive/1n0kyQJMHU2TTb-cZS0BgHAJsBfFg_AYh?usp=sharing)，本文的 Github 页面位于 [PWG2](https://github.com/Alexbeast-CN/Uob_Robotics/tree/main/DRL/PWG/PWG2)\n",
    "\n",
    "Atari 是老版游戏机上的那种小游戏。这里我们使用 gym 作为载体，让强化学习的 agent 通过直接读取游戏的画面作为输入，来玩小游戏，并获取游戏内置的高分奖励。\n",
    "\n",
    "在开始之前，需要先提醒各位的是，Gym 的 atari 只在 Linux 和 MacOS 系统可以使用。如果你使用的是 Windows 电脑，那么则需要使用特别的安装方法：[How to Install OpenAI Gym in a Windows Environment](https://towardsdatascience.com/how-to-install-openai-gym-in-a-windows-environment-338969e24d30)。或者使用全平台通用的 docker，可以在 [Github | ALE/docker](https://github.com/mgbellemare/Arcade-Learning-Environment/tree/8a6c7701542b1c1aceb24e95f65df04d85900b63/docker) 获取 dockerfile\n",
    "\n",
    "另外对于 Windows 用户，我建议使用 WLS2 即 (Windows subsystem for Linux) 具体的使用方法。具体操作看视频：\n",
    "\n",
    "- 如果你是 Win10 系统 [Youtube | Developing on Windows with WSL2 (Subsystem for Linux), VS Code, Docker, and the Terminal](https://www.youtube.com/watch?v=A0eqZujVfYU&ab_channel=ScottHanselman)\n",
    "- 如果你是 Win11 系统 [Youtube | Windows 11 runs Graphical Linux Apps out of the box with WSLg](https://www.youtube.com/watch?v=b1YBx1L8op4&t=404s&ab_channel=ScottHanselman)\n",
    "\n",
    "此外如果你是 Win11 的系统，那么恭喜你，通过 WLS2 你的电脑可以无缝在 Windows 图形化应用和 Linux 图形化应用之间切换。且可以直接使用 Vscode 连接 Linux 虚拟机。具体操作方法请查看 [Visual Studio Code Remote - WSL](https://code.visualstudio.com/docs/remote/wsl)\n",
    "\n",
    "关于游戏这里作为演示，我选择太空侵略者 [SpaceInvaders](https://gym.openai.com/envs/SpaceInvaders-v0/)，但根据 DeepMind 2015 年的 Nature 论文 [Human-level control through deep reinforcement learning](https://www.nature.com/articles/nature14236?wm=book_wap_0005)，一套 DRL 算法在不该超参的情况下可以直接训练大多数 Atari 游戏。关于算法，我打算直接使用 [Stable Baselines3](https://stable-baselines3.readthedocs.io/en/master/) 提供的 DQN 算法作为模型进行训练。\n",
    "\n",
    "为了让 Atari 能够在 Colab 上正常运行，我们需要先让 gym[Atari] 获取Colab 的 ROM。具体操作如下：\n",
    "\n",
    "> 该段代码来自此 [Github](https://github.com/openai/atari-py/issues/83)"
   ]
  },
  {
   "cell_type": "code",
   "execution_count": null,
   "metadata": {
    "vscode": {
     "languageId": "python"
    }
   },
   "outputs": [],
   "source": [
    "! wget http://www.atarimania.com/roms/Roms.rar\n",
    "! mkdir /content/ROM/\n",
    "! unrar e /content/Roms.rar /content/ROM/ -y\n",
    "! python -m atari_py.import_roms /content/ROM/"
   ]
  },
  {
   "cell_type": "markdown",
   "metadata": {},
   "source": [
    "但是在正常的 Linux 或 Mac 系统下，只需要从 ALE 库中导入游戏即可，不需要执行上面的命令。而是使用下面的代码："
   ]
  },
  {
   "cell_type": "code",
   "execution_count": 5,
   "metadata": {
    "vscode": {
     "languageId": "python"
    }
   },
   "outputs": [],
   "source": [
    "!pip install ale-py\n",
    "from ale_py.roms import SpaceInvaders"
   ]
  },
  {
   "cell_type": "markdown",
   "metadata": {},
   "source": [
    "另外由于 Colab 无法弹窗展示游戏画面，因此需要写一个函数将游戏画面保存为视频。关于这段代码请查看我的 [Colab 笔记本](https://colab.research.google.com/drive/1n0kyQJMHU2TTb-cZS0BgHAJsBfFg_AYh#scrollTo=08EF8L72NOM4)\n",
    "\n",
    "至此，准备工作全部完成，开始具体的实验操作。\n",
    "\n",
    "![](./pics/green.png)\n",
    "\n",
    "## 1. 了解游戏\n",
    "\n",
    "首先我们利用下面的代码来查看游戏的基本信息：如动作，状态，奖励，初始画面，及其大小。"
   ]
  },
  {
   "cell_type": "code",
   "execution_count": 4,
   "metadata": {
    "vscode": {
     "languageId": "python"
    }
   },
   "outputs": [],
   "source": [
    "import gym\n",
    "import numpy as np\n",
    "import matplotlib.pyplot as plt\n",
    "%matplotlib inline\n",
    "\n",
    "def query_environment(name):\n",
    "  env = gym.make(name)\n",
    "  spec = gym.spec(name)\n",
    "  observation = env.reset()\n",
    "  print(f\"Action Space: {env.action_space}\")\n",
    "  print(f\"Observation Space: {env.observation_space.shape}\")\n",
    "  print(f\"Max Episode Steps: {spec.max_episode_steps}\")\n",
    "  print(f\"Nondeterministic: {spec.nondeterministic}\")\n",
    "  print(f\"Reward Range: {env.reward_range}\")\n",
    "  print(f\"Reward Threshold: {spec.reward_threshold}\")\n",
    "  plt.imshow(np.array(observation))\n",
    "  plt.show()\n"
   ]
  },
  {
   "cell_type": "code",
   "execution_count": 15,
   "metadata": {
    "vscode": {
     "languageId": "python"
    }
   },
   "outputs": [
    {
     "name": "stdout",
     "output_type": "stream",
     "text": [
      "Action Space: Discrete(6)\n",
      "Observation Space: (210, 160, 3)\n",
      "Max Episode Steps: 10000\n",
      "Nondeterministic: False\n",
      "Reward Range: (-inf, inf)\n",
      "Reward Threshold: None\n"
     ]
    },
    {
     "data": {
      "image/png": "[encoded data removed]",
      "text/plain": [
       "<Figure size 432x288 with 1 Axes>"
      ]
     },
     "metadata": {
      "needs_background": "light"
     },
     "output_type": "display_data"
    }
   ],
   "source": [
    "query_environment('SpaceInvaders-v0')"
   ]
  },
  {
   "cell_type": "markdown",
   "metadata": {},
   "source": [
    "对上面的输出一一翻译：\n",
    "- 动作空间：Agent 共可以采用 6 种动作。从 [ALE/SpaceInvaders-v0](https://github.com/mgbellemare/Arcade-Learning-Environment/blob/8a6c7701542b1c1aceb24e95f65df04d85900b63/src/games/supported/SpaceInvaders.cpp) 的代码中可知，这六个动作分别是：\n",
    "  - 不动\n",
    "  - 左移\n",
    "  - 右移\n",
    "  - 开火\n",
    "  - 左移且开火\n",
    "  - 右移且开火\n",
    "- 观测空间，即画面是 RGB 三通道，大小是一个 210 x 160 大小的矩阵。\n",
    "- 最大步长：10000\n",
    "- 每一步都是确定的\n",
    "- 奖励空间从负无穷到正无穷，但实际游戏的奖励获取自 Atari 自带的分数系统。\n",
    "- 没有奖励阈值"
   ]
  },
  {
   "cell_type": "markdown",
   "metadata": {},
   "source": [
    "下面我们让用随机动作试玩一下这个游戏："
   ]
  },
  {
   "cell_type": "code",
   "execution_count": 19,
   "metadata": {
    "vscode": {
     "languageId": "python"
    }
   },
   "outputs": [
    {
     "name": "stdout",
     "output_type": "stream",
     "text": [
      "Your Score at end of game is: 45\n"
     ]
    }
   ],
   "source": [
    "def random_play(name):\n",
    "    env = gym.make(name)\n",
    "    score = 0\n",
    "    env.reset()\n",
    "    while True:\n",
    "        env.render()\n",
    "        action = env.action_space.sample()\n",
    "        state, reward, done, _ = env.step(action)\n",
    "        score += reward\n",
    "        if done:\n",
    "            env.close()\n",
    "            print(\"Your Score at end of game is: \", score)\n",
    "            break\n",
    "            \n",
    "random_play('SpaceInvaders-v0')"
   ]
  },
  {
   "cell_type": "markdown",
   "metadata": {},
   "source": [
    "![随机策略的游戏画面](./gifs/SpaceInvaders.gif)"
   ]
  },
  {
   "cell_type": "markdown",
   "metadata": {},
   "source": [
    "![](./pics/green.png)\n",
    "\n",
    "## 2. 创建强化学习模型\n",
    "\n",
    "这里我选择直接从 Stable-Baselines 强化学习库中调用 DQN 算法。\n",
    "\n",
    "> 关于 DQN 算法的 [官方说明](https://stable-baselines3.readthedocs.io/en/master/modules/dqn.html?highlight=dqn)\n",
    "\n",
    "关于算法的详细解释请查看论文 [Playing Atari with Deep Reinforcement Learning](https://arxiv.org/abs/1312.5602)。 Q-learning 的基本原理为：\n",
    "\n",
    "![](./pics/deep_q-learning.png)\n",
    "\n",
    "深度 Q—NetWork 的原理为：\n",
    "\n",
    "![](./pics/deep_q-network.png)"
   ]
  },
  {
   "cell_type": "markdown",
   "metadata": {},
   "source": [
    "首先引用库文件"
   ]
  },
  {
   "cell_type": "code",
   "execution_count": 9,
   "metadata": {
    "vscode": {
     "languageId": "python"
    }
   },
   "outputs": [],
   "source": [
    "!pip install stable-baselines3[extra]\n",
    "# import the DQN model form stable-baselines\n",
    "from stable_baselines3 import DQN\n",
    "# DummyVecEnv can help train multiple agents at the same time\n",
    "from stable_baselines3.common.vec_env import DummyVecEnv\n",
    "# import evaluation methdos\n",
    "from stable_baselines3.common.evaluation import evaluate_policy\n",
    "import os"
   ]
  },
  {
   "cell_type": "markdown",
   "metadata": {},
   "source": [
    "创建参数表。"
   ]
  },
  {
   "cell_type": "code",
   "execution_count": 2,
   "metadata": {
    "vscode": {
     "languageId": "python"
    }
   },
   "outputs": [],
   "source": [
    "ENVIRONMENT = \"SpaceInvaders-v0\"\n",
    "# Change the path to your drive\n",
    "PATH = \"/content/drive/MyDrive/Reinforcement_Learning/SpaceInvaders\"\n",
    "GAMMA = 0.99           # discount factor\n",
    "BUFFER_SIZE = 100000   # replay buffer size\n",
    "BATCH_SIZE = 32        # Update batch size\n",
    "LR = 0.0001            # learning rate \n",
    "TAU = 0.1               # for soft update of target parameters\n",
    "UPDATE_EVERY = 100     # how often to update the network\n",
    "UPDATE_TARGET = 10000  # After which thershold replay to be started \n",
    "EPS_START = 0.99       # starting value of epsilon\n",
    "EPS_END = 0.01         # Ending value of epsilon\n",
    "EPS_DECAY = 0.01        # Rate by which epsilon to be decayed"
   ]
  },
  {
   "cell_type": "markdown",
   "metadata": {},
   "source": [
    "> 注意：对模型训练的缓存为 100000，这意味着电脑至少需要 24G 的 RAM 才能带的动该模型，使用大一些的缓存通常可以获得较好的训练效果。\n",
    "\n",
    "创建模型并设置模型的数据储存路径"
   ]
  },
  {
   "cell_type": "code",
   "execution_count": 7,
   "metadata": {
    "vscode": {
     "languageId": "python"
    }
   },
   "outputs": [
    {
     "name": "stderr",
     "output_type": "stream",
     "text": [
      "A.L.E: Arcade Learning Environment (version 0.7.4+069f8bd)\n",
      "[Powered by Stella]\n"
     ]
    }
   ],
   "source": [
    "# Create the environment\n",
    "env = gym.make(ENVIRONMENT)\n",
    "env = DummyVecEnv([lambda: env])"
   ]
  },
  {
   "cell_type": "code",
   "execution_count": 20,
   "metadata": {
    "vscode": {
     "languageId": "python"
    }
   },
   "outputs": [],
   "source": [
    "model = DQN('CnnPolicy', \n",
    "          env, learning_rate=LR, \n",
    "          buffer_size=BUFFER_SIZE, \n",
    "          learning_starts=UPDATE_TARGET, \n",
    "          batch_size=BATCH_SIZE, tau=TAU, \n",
    "          gamma= GAMMA, \n",
    "          target_update_interval=UPDATE_EVERY, \n",
    "          exploration_fraction=EPS_DECAY, \n",
    "          exploration_initial_eps=EPS_START, \n",
    "          exploration_final_eps=EPS_END, \n",
    "          tensorboard_log=PATH)"
   ]
  },
  {
   "cell_type": "markdown",
   "metadata": {},
   "source": [
    "训练模型，以 10 万次为一组进行训练，每训练完一组就保存一次模型，共训练 40 次。"
   ]
  },
  {
   "cell_type": "code",
   "execution_count": null,
   "metadata": {
    "vscode": {
     "languageId": "python"
    }
   },
   "outputs": [],
   "source": [
    "for i in range(40):\n",
    "    model.learn(total_timesteps=100000)\n",
    "    model.save(f\"{PATH}/model_{i}\")\n",
    "    evaluate_policy(model, env, n_eval_episodes=10)"
   ]
  },
  {
   "cell_type": "markdown",
   "metadata": {},
   "source": [
    "![](./pics/green.png)\n",
    "\n",
    "## 3. 结果演示\n",
    "\n",
    "这里我们选取第 100k 次，1m 次，2.5m 次， 3m 次以及 第 4m 次的模型进行演示。\n",
    "\n",
    "首先我们要读取模型，这里只演示读取一个模型的方法。"
   ]
  },
  {
   "cell_type": "code",
   "execution_count": null,
   "metadata": {
    "vscode": {
     "languageId": "python"
    }
   },
   "outputs": [],
   "source": [
    "ENVIRONMENT = \"SpaceInvaders-v0\"\n",
    "env = gym.make(ENVIRONMENT)\n",
    "env = gym.wrappers.Monitor(env, \"videos\", force = True)\n",
    "model = DQN.load(\"./model_29.zip\",env=env)"
   ]
  },
  {
   "cell_type": "markdown",
   "metadata": {},
   "source": [
    "然后对每一个模型采样 5 次。"
   ]
  },
  {
   "cell_type": "code",
   "execution_count": null,
   "metadata": {
    "vscode": {
     "languageId": "python"
    }
   },
   "outputs": [],
   "source": [
    "episodes = 5\n",
    "# Loop the env for 5 episodes\n",
    "for episode in range(episodes):\n",
    "    # Initialize the environment and get first state\n",
    "    obs = env.reset()\n",
    "    done = False\n",
    "    sorce = 0\n",
    "\n",
    "    while not done:\n",
    "        # Render(渲染) the environment\n",
    "        env.render(mode='human')\n",
    "        # Random actions\n",
    "        action, _ = model.predict(obs)\n",
    "        obs, reward, done, info = env.step(action)\n",
    "        sorce += reward\n",
    "    print(\"Episode {}  score: {}\".format(episode, sorce))\n",
    "env.close()"
   ]
  },
  {
   "cell_type": "markdown",
   "metadata": {},
   "source": [
    "下面是实验结果：\n",
    "\n",
    "- 没有训练的 AI 还是个傻子\n",
    "\n",
    "![](./gifs/SpaceInvaders.gif)\n",
    "\n",
    "- 经过 100K 次训练后，AI 稍微会玩了，但看起来还是笨笨的，不灵活。\n",
    "\n",
    "![](./gifs/100k_1_AdobeCreativeCloudExpress.gif)\n",
    "\n",
    "- 经过 1m 次训练后，AI 明显变强了，并且知道了打气球可以获得更高的分数。但总体来说依然不是很灵活。\n",
    "\n",
    "![](./gifs/1m_2_AdobeCreativeCloudExpress.gif)\n",
    "\n"
   ]
  },
  {
   "cell_type": "markdown",
   "metadata": {},
   "source": [
    "- 经过 2.5m 次训练后，虽然分数没有 1m 高，但是 AI 明显变得更加灵活了。\n",
    "  \n",
    "![](./gifs/2_5m_1_AdobeCreativeCloudExpress.gif)"
   ]
  },
  {
   "cell_type": "markdown",
   "metadata": {},
   "source": [
    "- 经过 3m 次训练后，AI 以及可以拿到很高的分数了。\n",
    "\n",
    "![](./gifs/3m_AdobeCreativeCloudExpress.gif)"
   ]
  },
  {
   "cell_type": "markdown",
   "metadata": {},
   "source": [
    "- 最后 4m 次的训练对于 AI 没有明显的帮助。\n",
    "\n",
    "![](./gifs/4m_2_AdobeCreativeCloudExpress.gif)"
   ]
  }
 ],
 "metadata": {
  "kernelspec": {
   "display_name": "gym",
   "language": "python",
   "name": "gym"
  },
  "orig_nbformat": 4
 },
 "nbformat": 4,
 "nbformat_minor": 2
}
