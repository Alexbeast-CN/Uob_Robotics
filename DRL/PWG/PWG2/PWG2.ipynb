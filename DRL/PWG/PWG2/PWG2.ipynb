{
 "cells": [
  {
   "cell_type": "markdown",
   "metadata": {},
   "source": [
    "# PWG2. Play Atari in the gym\n",
    "\n",
    "> 本文是基于华盛顿大学 [Jeff Heaton](https://sites.wustl.edu/jeffheaton/)教授的 课程 [Applications of Deep Neural Networks](https://sites.wustl.edu/jeffheaton/t81-558/)。课程视频位于 [Youtube | Course on the Application of Deep Neural Networks ](https://www.youtube.com/watch?v=sRy26qWejOI&list=PLjy4p-07OYzulelvJ5KVaT2pDlxivl_BN&ab_channel=JeffHeaton)。代码仓库位于 [Github | t81_558_deep_learning](https://github.com/jeffheaton/t81_558_deep_learning)。本文的 Colab 链接位于：[Colab | AI_GYM.ipynb](https://colab.research.google.com/github/jeffheaton/t81_558_deep_learning/blob/master/t81_558_class_12_01_ai_gym.ipynb#scrollTo=dnID4yguIeX7)"
   ]
  },
  {
   "cell_type": "markdown",
   "metadata": {},
   "source": [
    "check this [Github](https://github.com/openai/atari-py/issues/83)"
   ]
  },
  {
   "cell_type": "code",
   "execution_count": null,
   "metadata": {},
   "outputs": [],
   "source": [
    "import gym\n",
    "from gym.wrappers import Monitor\n",
    "from IPython.display import HTML\n",
    "from pyvirtualdisplay import Display\n",
    "from IPython import display as ipythondisplay\n",
    "\n",
    "display = Display(visible=0, size=(1400, 900))\n",
    "display.start()"
   ]
  }
 ],
 "metadata": {
  "interpreter": {
   "hash": "c6d9031e658debb2ea8943e06a648314df12deac922ea91a3af9df8928bf1d5c"
  },
  "kernelspec": {
   "display_name": "Python 3.9.7 ('base')",
   "language": "python",
   "name": "python3"
  },
  "language_info": {
   "codemirror_mode": {
    "name": "ipython",
    "version": 3
   },
   "file_extension": ".py",
   "mimetype": "text/x-python",
   "name": "python",
   "nbconvert_exporter": "python",
   "pygments_lexer": "ipython3",
   "version": "3.9.7"
  },
  "orig_nbformat": 4
 },
 "nbformat": 4,
 "nbformat_minor": 2
}
