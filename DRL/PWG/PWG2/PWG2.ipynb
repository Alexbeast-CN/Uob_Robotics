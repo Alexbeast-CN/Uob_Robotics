{
 "cells": [
  {
   "cell_type": "markdown",
   "metadata": {},
   "source": [
    "# PWG2. Play Atari in the gym\n",
    "\n",
    "> 本文是基于华盛顿大学 [Jeff Heaton](https://sites.wustl.edu/jeffheaton/)教授的 课程 [Applications of Deep Neural Networks](https://sites.wustl.edu/jeffheaton/t81-558/)。\n",
    "> - 该课程视频位于 [Youtube | Course on the Application of Deep Neural Networks ](https://www.youtube.com/watch?v=sRy26qWejOI&list=PLjy4p-07OYzulelvJ5KVaT2pDlxivl_BN&ab_channel=JeffHeaton)。\n",
    "> - 该课程的代码仓库位于 [Github | t81_558_deep_learning](https://github.com/jeffheaton/t81_558_deep_learning)。\n",
    "> - 该课程的 Colab 链接位于：[Colab | AI_GYM.ipynb](https://colab.research.google.com/github/jeffheaton/t81_558_deep_learning/blob/master/t81_558_class_12_01_ai_gym.ipynb#scrollTo=dnID4yguIeX7)\n",
    "> \n",
    "> 此外还参考了 MIT 大佬 PhD [Alexander Amini](https://www.mit.edu/~amini/) 开设的 [Introduction to Deep Learning](http://introtodeeplearning.com/)\n",
    "> - 课程的视频位于 [Youtube | MIT Introduction to Deep Learning | 6.S191](https://www.youtube.com/watch?v=7sB052Pz0sQ&list=PLtBw6njQRU-rwp5__7C0oIVt26ZgjG9NI&ab_channel=AlexanderAmini)\n",
    "> - 课程的代码仓库位于 [Github | Aamini/introtodeeplearning](https://github.com/aamini/introtodeeplearning)\n",
    "> - 本文参考的 Colab 笔记链接为 [Colab | Laboratory 3: Reinforcement Learning](https://colab.research.google.com/github/aamini/introtodeeplearning/blob/master/lab3/solutions/RL_Solution.ipynb)"
   ]
  },
  {
   "cell_type": "markdown",
   "metadata": {},
   "source": [
    "![](./pics/blue.png)\n",
    "\n",
    "## 0. 使用前的一些建议\n",
    "\n",
    "Atari 是老版游戏机上的那种小游戏。这里我们使用 gym 作为载体，让强化学习的 agent 通过直接读取游戏的画面作为输入，来玩小游戏，并获取游戏内置的高分奖励。\n",
    "\n",
    "在开始之前，需要先提醒各位的是，Gym 的 atari 只在 Linux 和 MacOS 系统可以使用。另外最好有显卡加速训练。这里由于我自己的电脑没有 GPU 因此我选择在 Colab 上运行。我的 Colab 笔记本位于 [PWG2_Play_Atari](https://colab.research.google.com/drive/12OWnh6p0Yp5JZFsfH9Nojd4ymyTUIrtL?usp=sharing)\n",
    "\n",
    "如果你使用的是 Windows 电脑，那么则需要使用特别的安装方法：[How to Install OpenAI Gym in a Windows Environment](https://towardsdatascience.com/how-to-install-openai-gym-in-a-windows-environment-338969e24d30) \n",
    "\n",
    "我试了一下上面的方法，对于我 Win11 系统来说似乎并不有效，Win10 我并不了解。但我建议各位如果没有Linux 系统的话可以尝试使用 WLS2 即 (Windows subsystem for Linux) 具体的使用方法。具体操作看视频：\n",
    "- 如果你是 Win10 系统 [Youtube | Developing on Windows with WSL2 (Subsystem for Linux), VS Code, Docker, and the Terminal](https://www.youtube.com/watch?v=A0eqZujVfYU&ab_channel=ScottHanselman)\n",
    "- 如果你是 Win11 系统 [Youtube | Windows 11 runs Graphical Linux Apps out of the box with WSLg](https://www.youtube.com/watch?v=b1YBx1L8op4&t=404s&ab_channel=ScottHanselman)\n",
    "\n",
    "其实操作非常简单，只需要在 Windows 自带的应用商店里先下载一个 Windows terminal:\n",
    "\n",
    "![Windows terminal](./pics/terminal.png)\n",
    "\n",
    "搜索 Ubuntu，然后下载你喜欢的 Ubuntu 版本。\n",
    "\n",
    "![ubuntu](./pics/ubuntu.png)\n",
    "\n",
    "然后，当你打开 Windows Terminal 的时候就可以看到一个 Ubuntu 的图标了：\n",
    "\n",
    "![WSL](./pics/ubuntu_in_terminal.png)\n",
    "\n",
    "我这里说的比较概括，具体的操作建议跟着视频教程做。另外如果你是 Win11 的系统，那么恭喜你，你的电脑可以无缝在 Windows 图形化应用和 Linux 图形化应用之间切换。\n",
    "\n",
    "如果你更喜欢使用 Vscode 而不是终端的话，建议看这个 VScode 官网文档： [Visual Studio Code Remote - WSL](https://code.visualstudio.com/docs/remote/wsl)"
   ]
  },
  {
   "cell_type": "markdown",
   "metadata": {},
   "source": [
    "![](./pics/green.png)\n",
    "\n",
    "## 1. 准备工作\n",
    "\n",
    "为了让 Atari 能够在 Colab 上正常运行，我们需要先让 gym[Atari] 获取Colab 的 ROM在。具体操作如下：\n",
    "\n",
    "> 该段代码来自此 [Github](https://github.com/openai/atari-py/issues/83) page"
   ]
  },
  {
   "cell_type": "code",
   "execution_count": null,
   "metadata": {},
   "outputs": [],
   "source": [
    "! wget http://www.atarimania.com/roms/Roms.rar\n",
    "! mkdir /content/ROM/\n",
    "! unrar e /content/Roms.rar /content/ROM/ -All\n",
    "! python -m atari_py.import_roms /content/ROM/"
   ]
  },
  {
   "cell_type": "markdown",
   "metadata": {},
   "source": []
  },
  {
   "cell_type": "code",
   "execution_count": 1,
   "metadata": {},
   "outputs": [],
   "source": [
    "import gym\n",
    "\n",
    "def query_environment(name):\n",
    "  env = gym.make(name)\n",
    "  spec = gym.spec(name)\n",
    "  print(f\"Action Space: {env.action_space}\")\n",
    "  print(f\"Observation Space: {env.observation_space}\")\n",
    "  print(f\"Max Episode Steps: {spec.max_episode_steps}\")\n",
    "  print(f\"Nondeterministic: {spec.nondeterministic}\")\n",
    "  print(f\"Reward Range: {env.reward_range}\")\n",
    "  print(f\"Reward Threshold: {spec.reward_threshold}\")"
   ]
  },
  {
   "cell_type": "code",
   "execution_count": 7,
   "metadata": {},
   "outputs": [
    {
     "ename": "NameNotFound",
     "evalue": "The environment `Breakout` has been moved out of Gym to the package `ale-py`. Please install the package via `pip install ale-py`. You can instantiate the new namespaced environment as `ALE/Breakout`.",
     "output_type": "error",
     "traceback": [
      "\u001b[1;31m---------------------------------------------------------------------------\u001b[0m",
      "\u001b[1;31mNameNotFound\u001b[0m                              Traceback (most recent call last)",
      "\u001b[1;32mc:\\Users\\Daoming Chen\\Documents\\GitHub\\Uob_Robotics\\DRL\\PWG\\PWG2\\PWG2.ipynb Cell 7'\u001b[0m in \u001b[0;36m<cell line: 1>\u001b[1;34m()\u001b[0m\n\u001b[1;32m----> <a href='vscode-notebook-cell:/c%3A/Users/Daoming%20Chen/Documents/GitHub/Uob_Robotics/DRL/PWG/PWG2/PWG2.ipynb#ch0000006?line=0'>1</a>\u001b[0m query_environment(\u001b[39m\"\u001b[39;49m\u001b[39mBreakout-v0\u001b[39;49m\u001b[39m\"\u001b[39;49m)\n",
      "\u001b[1;32mc:\\Users\\Daoming Chen\\Documents\\GitHub\\Uob_Robotics\\DRL\\PWG\\PWG2\\PWG2.ipynb Cell 6'\u001b[0m in \u001b[0;36mquery_environment\u001b[1;34m(name)\u001b[0m\n\u001b[0;32m      <a href='vscode-notebook-cell:/c%3A/Users/Daoming%20Chen/Documents/GitHub/Uob_Robotics/DRL/PWG/PWG2/PWG2.ipynb#ch0000004?line=2'>3</a>\u001b[0m \u001b[39mdef\u001b[39;00m \u001b[39mquery_environment\u001b[39m(name):\n\u001b[1;32m----> <a href='vscode-notebook-cell:/c%3A/Users/Daoming%20Chen/Documents/GitHub/Uob_Robotics/DRL/PWG/PWG2/PWG2.ipynb#ch0000004?line=3'>4</a>\u001b[0m   env \u001b[39m=\u001b[39m gym\u001b[39m.\u001b[39;49mmake(name)\n\u001b[0;32m      <a href='vscode-notebook-cell:/c%3A/Users/Daoming%20Chen/Documents/GitHub/Uob_Robotics/DRL/PWG/PWG2/PWG2.ipynb#ch0000004?line=4'>5</a>\u001b[0m   spec \u001b[39m=\u001b[39m gym\u001b[39m.\u001b[39mspec(name)\n\u001b[0;32m      <a href='vscode-notebook-cell:/c%3A/Users/Daoming%20Chen/Documents/GitHub/Uob_Robotics/DRL/PWG/PWG2/PWG2.ipynb#ch0000004?line=5'>6</a>\u001b[0m   \u001b[39mprint\u001b[39m(\u001b[39mf\u001b[39m\u001b[39m\"\u001b[39m\u001b[39mAction Space: \u001b[39m\u001b[39m{\u001b[39;00menv\u001b[39m.\u001b[39maction_space\u001b[39m}\u001b[39;00m\u001b[39m\"\u001b[39m)\n",
      "File \u001b[1;32mC:\\Softwares\\Anaconda\\envs\\gym\\lib\\site-packages\\gym\\envs\\registration.py:676\u001b[0m, in \u001b[0;36mmake\u001b[1;34m(id, **kwargs)\u001b[0m\n\u001b[0;32m    <a href='file:///c%3A/Softwares/Anaconda/envs/gym/lib/site-packages/gym/envs/registration.py?line=674'>675</a>\u001b[0m \u001b[39mdef\u001b[39;00m \u001b[39mmake\u001b[39m(\u001b[39mid\u001b[39m: \u001b[39mstr\u001b[39m, \u001b[39m*\u001b[39m\u001b[39m*\u001b[39mkwargs) \u001b[39m-\u001b[39m\u001b[39m>\u001b[39m \u001b[39m\"\u001b[39m\u001b[39mEnv\u001b[39m\u001b[39m\"\u001b[39m:\n\u001b[1;32m--> <a href='file:///c%3A/Softwares/Anaconda/envs/gym/lib/site-packages/gym/envs/registration.py?line=675'>676</a>\u001b[0m     \u001b[39mreturn\u001b[39;00m registry\u001b[39m.\u001b[39mmake(\u001b[39mid\u001b[39m, \u001b[39m*\u001b[39m\u001b[39m*\u001b[39mkwargs)\n",
      "File \u001b[1;32mC:\\Softwares\\Anaconda\\envs\\gym\\lib\\site-packages\\gym\\envs\\registration.py:490\u001b[0m, in \u001b[0;36mEnvRegistry.make\u001b[1;34m(self, path, **kwargs)\u001b[0m\n\u001b[0;32m    <a href='file:///c%3A/Softwares/Anaconda/envs/gym/lib/site-packages/gym/envs/registration.py?line=486'>487</a>\u001b[0m namespace, name, version \u001b[39m=\u001b[39m parse_env_id(path)\n\u001b[0;32m    <a href='file:///c%3A/Softwares/Anaconda/envs/gym/lib/site-packages/gym/envs/registration.py?line=488'>489</a>\u001b[0m \u001b[39m# Get all versions of this spec.\u001b[39;00m\n\u001b[1;32m--> <a href='file:///c%3A/Softwares/Anaconda/envs/gym/lib/site-packages/gym/envs/registration.py?line=489'>490</a>\u001b[0m versions \u001b[39m=\u001b[39m \u001b[39mself\u001b[39;49m\u001b[39m.\u001b[39;49menv_specs\u001b[39m.\u001b[39;49mversions(namespace, name)\n\u001b[0;32m    <a href='file:///c%3A/Softwares/Anaconda/envs/gym/lib/site-packages/gym/envs/registration.py?line=491'>492</a>\u001b[0m \u001b[39m# We check what the latest version of the environment is and display\u001b[39;00m\n\u001b[0;32m    <a href='file:///c%3A/Softwares/Anaconda/envs/gym/lib/site-packages/gym/envs/registration.py?line=492'>493</a>\u001b[0m \u001b[39m# a warning if the user is attempting to initialize an older version\u001b[39;00m\n\u001b[0;32m    <a href='file:///c%3A/Softwares/Anaconda/envs/gym/lib/site-packages/gym/envs/registration.py?line=493'>494</a>\u001b[0m \u001b[39m# or an unversioned one.\u001b[39;00m\n\u001b[0;32m    <a href='file:///c%3A/Softwares/Anaconda/envs/gym/lib/site-packages/gym/envs/registration.py?line=494'>495</a>\u001b[0m latest_versioned_spec \u001b[39m=\u001b[39m \u001b[39mmax\u001b[39m(\n\u001b[0;32m    <a href='file:///c%3A/Softwares/Anaconda/envs/gym/lib/site-packages/gym/envs/registration.py?line=495'>496</a>\u001b[0m     \u001b[39mfilter\u001b[39m(\u001b[39mlambda\u001b[39;00m spec: spec\u001b[39m.\u001b[39mversion, versions),\n\u001b[0;32m    <a href='file:///c%3A/Softwares/Anaconda/envs/gym/lib/site-packages/gym/envs/registration.py?line=496'>497</a>\u001b[0m     key\u001b[39m=\u001b[39m\u001b[39mlambda\u001b[39;00m spec: cast(\u001b[39mint\u001b[39m, spec\u001b[39m.\u001b[39mversion),\n\u001b[0;32m    <a href='file:///c%3A/Softwares/Anaconda/envs/gym/lib/site-packages/gym/envs/registration.py?line=497'>498</a>\u001b[0m     default\u001b[39m=\u001b[39m\u001b[39mNone\u001b[39;00m,\n\u001b[0;32m    <a href='file:///c%3A/Softwares/Anaconda/envs/gym/lib/site-packages/gym/envs/registration.py?line=498'>499</a>\u001b[0m )\n",
      "File \u001b[1;32mC:\\Softwares\\Anaconda\\envs\\gym\\lib\\site-packages\\gym\\envs\\registration.py:220\u001b[0m, in \u001b[0;36mEnvSpecTree.versions\u001b[1;34m(self, namespace, name)\u001b[0m\n\u001b[0;32m    <a href='file:///c%3A/Softwares/Anaconda/envs/gym/lib/site-packages/gym/envs/registration.py?line=202'>203</a>\u001b[0m \u001b[39mdef\u001b[39;00m \u001b[39mversions\u001b[39m(\u001b[39mself\u001b[39m, namespace: Optional[\u001b[39mstr\u001b[39m], name: \u001b[39mstr\u001b[39m) \u001b[39m-\u001b[39m\u001b[39m>\u001b[39m Sequence[EnvSpec]:\n\u001b[0;32m    <a href='file:///c%3A/Softwares/Anaconda/envs/gym/lib/site-packages/gym/envs/registration.py?line=203'>204</a>\u001b[0m     \u001b[39m\"\"\"\u001b[39;00m\n\u001b[0;32m    <a href='file:///c%3A/Softwares/Anaconda/envs/gym/lib/site-packages/gym/envs/registration.py?line=204'>205</a>\u001b[0m \u001b[39m    Returns the versions associated with a namespace and name.\u001b[39;00m\n\u001b[0;32m    <a href='file:///c%3A/Softwares/Anaconda/envs/gym/lib/site-packages/gym/envs/registration.py?line=205'>206</a>\u001b[0m \n\u001b[1;32m   (...)\u001b[0m\n\u001b[0;32m    <a href='file:///c%3A/Softwares/Anaconda/envs/gym/lib/site-packages/gym/envs/registration.py?line=217'>218</a>\u001b[0m \u001b[39m    See `gym/envs/__relocated__.py` for more info.\u001b[39;00m\n\u001b[0;32m    <a href='file:///c%3A/Softwares/Anaconda/envs/gym/lib/site-packages/gym/envs/registration.py?line=218'>219</a>\u001b[0m \u001b[39m    \"\"\"\u001b[39;00m\n\u001b[1;32m--> <a href='file:///c%3A/Softwares/Anaconda/envs/gym/lib/site-packages/gym/envs/registration.py?line=219'>220</a>\u001b[0m     \u001b[39mself\u001b[39;49m\u001b[39m.\u001b[39;49m_assert_name_exists(namespace, name)\n\u001b[0;32m    <a href='file:///c%3A/Softwares/Anaconda/envs/gym/lib/site-packages/gym/envs/registration.py?line=221'>222</a>\u001b[0m     versions \u001b[39m=\u001b[39m \u001b[39mlist\u001b[39m(\u001b[39mself\u001b[39m\u001b[39m.\u001b[39mtree[namespace][name]\u001b[39m.\u001b[39mvalues())\n\u001b[0;32m    <a href='file:///c%3A/Softwares/Anaconda/envs/gym/lib/site-packages/gym/envs/registration.py?line=223'>224</a>\u001b[0m     \u001b[39mif\u001b[39;00m namespace \u001b[39mis\u001b[39;00m \u001b[39mNone\u001b[39;00m \u001b[39mand\u001b[39;00m name \u001b[39min\u001b[39;00m internal_env_relocation_map:\n",
      "File \u001b[1;32mC:\\Softwares\\Anaconda\\envs\\gym\\lib\\site-packages\\gym\\envs\\registration.py:297\u001b[0m, in \u001b[0;36mEnvSpecTree._assert_name_exists\u001b[1;34m(self, namespace, name)\u001b[0m\n\u001b[0;32m    <a href='file:///c%3A/Softwares/Anaconda/envs/gym/lib/site-packages/gym/envs/registration.py?line=294'>295</a>\u001b[0m         message \u001b[39m+\u001b[39m\u001b[39m=\u001b[39m \u001b[39mf\u001b[39m\u001b[39m\"\u001b[39m\u001b[39m Did you mean: `\u001b[39m\u001b[39m{\u001b[39;00msuggestions[\u001b[39m0\u001b[39m]\u001b[39m}\u001b[39;00m\u001b[39m`?\u001b[39m\u001b[39m\"\u001b[39m\n\u001b[0;32m    <a href='file:///c%3A/Softwares/Anaconda/envs/gym/lib/site-packages/gym/envs/registration.py?line=295'>296</a>\u001b[0m \u001b[39m# Throw the error\u001b[39;00m\n\u001b[1;32m--> <a href='file:///c%3A/Softwares/Anaconda/envs/gym/lib/site-packages/gym/envs/registration.py?line=296'>297</a>\u001b[0m \u001b[39mraise\u001b[39;00m error\u001b[39m.\u001b[39mNameNotFound(message)\n",
      "\u001b[1;31mNameNotFound\u001b[0m: The environment `Breakout` has been moved out of Gym to the package `ale-py`. Please install the package via `pip install ale-py`. You can instantiate the new namespaced environment as `ALE/Breakout`."
     ]
    }
   ],
   "source": [
    "query_environment(\"Breakout-v0\")"
   ]
  }
 ],
 "metadata": {
  "interpreter": {
   "hash": "c6d9031e658debb2ea8943e06a648314df12deac922ea91a3af9df8928bf1d5c"
  },
  "kernelspec": {
   "display_name": "Python 3.9.7 ('base')",
   "language": "python",
   "name": "python3"
  },
  "language_info": {
   "codemirror_mode": {
    "name": "ipython",
    "version": 3
   },
   "file_extension": ".py",
   "mimetype": "text/x-python",
   "name": "python",
   "nbconvert_exporter": "python",
   "pygments_lexer": "ipython3",
   "version": "3.9.11"
  },
  "orig_nbformat": 4
 },
 "nbformat": 4,
 "nbformat_minor": 2
}
