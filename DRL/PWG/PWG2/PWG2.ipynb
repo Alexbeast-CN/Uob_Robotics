{
 "cells": [
  {
   "cell_type": "markdown",
   "metadata": {},
   "source": [
    "# PWG2. Play Atari in the gym\n"
   ]
  },
  {
   "cell_type": "markdown",
   "metadata": {},
   "source": [
    "![](./pics/blue.png)\n",
    "\n",
    "## 0. 准备\n",
    "\n",
    "> 这里由于我自己的电脑没有 GPU 因此我选择在 Colab 上运行，代码也只在 Colab 上测试过。我的 Colab 笔记本位于 [PWG2_Play_Atari](https://colab.research.google.com/drive/1n0kyQJMHU2TTb-cZS0BgHAJsBfFg_AYh?usp=sharing)，本文的 Github 页面位于 [PWG2](https://github.com/Alexbeast-CN/Uob_Robotics/tree/main/DRL/PWG/PWG2)\n",
    "\n",
    "Atari 是老版游戏机上的那种小游戏。这里我们使用 gym 作为载体，让强化学习的 agent 通过直接读取游戏的画面作为输入，来玩小游戏，并获取游戏内置的高分奖励。\n",
    "\n",
    "在开始之前，需要先提醒各位的是，Gym 的 atari 只在 Linux 和 MacOS 系统可以使用。如果你使用的是 Windows 电脑，那么则需要使用特别的安装方法：[How to Install OpenAI Gym in a Windows Environment](https://towardsdatascience.com/how-to-install-openai-gym-in-a-windows-environment-338969e24d30) \n",
    "\n",
    "另外对于 Windows 用户，我建议使用 WLS2 即 (Windows subsystem for Linux) 具体的使用方法。具体操作看视频：\n",
    "- 如果你是 Win10 系统 [Youtube | Developing on Windows with WSL2 (Subsystem for Linux), VS Code, Docker, and the Terminal](https://www.youtube.com/watch?v=A0eqZujVfYU&ab_channel=ScottHanselman)\n",
    "- 如果你是 Win11 系统 [Youtube | Windows 11 runs Graphical Linux Apps out of the box with WSLg](https://www.youtube.com/watch?v=b1YBx1L8op4&t=404s&ab_channel=ScottHanselman)\n",
    "\n",
    "另外如果你是 Win11 的系统，那么恭喜你，通过 WLS2 你的电脑可以无缝在 Windows 图形化应用和 Linux 图形化应用之间切换。且可以直接使用 Vscode 连接 Linux 虚拟机。具体操作方法请查看 [Visual Studio Code Remote - WSL](https://code.visualstudio.com/docs/remote/wsl)。\n",
    "\n",
    "关于游戏这里作为演示，我选择太空侵略者 [SpaceInvaders](https://gym.openai.com/envs/SpaceInvaders-v0/)，但根据 DeepMind 2015 年的 Nature 论文 [Human-level control through deep reinforcement learning](https://www.nature.com/articles/nature14236?wm=book_wap_0005)，一套 DRL 算法在不该超参的情况下可以直接训练大多数 Atari 游戏。关于算法，我打算直接使用 [Stable Baselines3](https://stable-baselines3.readthedocs.io/en/master/) 提供的 PPO 算法作为模型进行训练。\n",
    "\n",
    "![SpaceInvaders](./pics/SpaceInvaders.gif)"
   ]
  },
  {
   "cell_type": "markdown",
   "metadata": {},
   "source": [
    "为了让 Atari 能够在 Colab 上正常运行，我们需要先让 gym[Atari] 获取Colab 的 ROM。具体操作如下：\n",
    "\n",
    "> 该段代码来自此 [Github](https://github.com/openai/atari-py/issues/83) page"
   ]
  },
  {
   "cell_type": "code",
   "execution_count": null,
   "metadata": {},
   "outputs": [],
   "source": [
    "! wget http://www.atarimania.com/roms/Roms.rar\n",
    "! mkdir /content/ROM/\n",
    "! unrar e /content/Roms.rar /content/ROM/ -y\n",
    "! python -m atari_py.import_roms /content/ROM/"
   ]
  },
  {
   "cell_type": "markdown",
   "metadata": {},
   "source": [
    "但是在正常的 Linux 或 Mac 系统下，只需要从 ALE 库中导入游戏即可，不需要执行上面的命令"
   ]
  },
  {
   "cell_type": "code",

   "execution_count": null,
   "metadata": {
    "vscode": {
     "languageId": "python"
    }
   },
   "outputs": [],

   "execution_count": 1,
   "metadata": {},
   "outputs": [
    {
     "name": "stdout",
     "output_type": "stream",
     "text": [
      "True\n"
     ]
    }
   ],
   "source": [
    "import gym\n",
    "from gym import envs\n",
    "print(True if envs.registry.namespace('Adventure-v0') else False)"
   ]
  },
  {
   "cell_type": "markdown",
   "metadata": {},
   "source": [
    "假如没有的话，也许是版本改变了，我们可以使用下面的代码查看环境的正确名称："
   ]
  },
  {
   "cell_type": "code",
   "execution_count": 44,
   "metadata": {},
   "outputs": [
    {
     "name": "stdout",
     "output_type": "stream",
     "text": [
      "[EnvSpec(Breakout-v0), EnvSpec(BreakoutDeterministic-v0), EnvSpec(BreakoutNoFrameskip-v0), EnvSpec(Breakout-v4), EnvSpec(BreakoutDeterministic-v4), EnvSpec(BreakoutNoFrameskip-v4), EnvSpec(Breakout-ram-v0), EnvSpec(Breakout-ramDeterministic-v0), EnvSpec(Breakout-ramNoFrameskip-v0), EnvSpec(Breakout-ram-v4), EnvSpec(Breakout-ramDeterministic-v4), EnvSpec(Breakout-ramNoFrameskip-v4)]\n"
     ]
    }
   ],

   "source": [
    "!pip install ale-py\n",
    "from ale_py.roms import SpaceInvaders"
   ]
  },
  {
   "cell_type": "markdown",
   "metadata": {},
   "source": [

    "另外由于 Colab 无法弹窗展示游戏画面，因此需要写一个方程将游戏画面保存为视频。此段代码可以在我的 [Github](https://github.com/Alexbeast-CN/Uob_Robotics/tree/main/DRL/PWG/PWG2) 中找到。这里不再展示。\n",
    "\n",
    "至此，准备工作全部完成，开始具体的实验操作。"

    "然后我们可以查看一个环境的基本信息。"
   ]
  },
  {
   "cell_type": "code",
   "execution_count": 3,
   "metadata": {},
   "outputs": [],
   "source": [
    "def query_environment(name):\n",
    "  env = gym.make(name)\n",
    "  spec = gym.spec(name)\n",
    "  print(f\"Action Space: {env.action_space}\")\n",
    "  print(f\"Observation Space: {env.observation_space}\")\n",
    "  print(f\"Max Episode Steps: {spec.max_episode_steps}\")\n",
    "  print(f\"Nondeterministic: {spec.nondeterministic}\")\n",
    "  print(f\"Reward Range: {env.reward_range}\")\n",
    "  print(f\"Reward Threshold: {spec.reward_threshold}\")"

   ]
  },
  {
   "cell_type": "markdown",
   "metadata": {},
   "source": [

    "![](./pics/green.png)\n",
    "\n",
    "## 1. 了解游戏\n",
    "\n",
    "太空侵略者的游戏窗口大小是 210 x 160，图像为 3 通道的 RGB 图像。模型的 Agent 所控制的是一个绿色的飞船，它共有 3 个动作，分别是，左移，右移和开枪"

   ]
  }
 ],
 "metadata": {
  "interpreter": {
   "hash": "c6d9031e658debb2ea8943e06a648314df12deac922ea91a3af9df8928bf1d5c"
  },
  "kernelspec": {
   "display_name": "gym",
   "language": "python",
   "name": "gym"
  },
  "language_info": {
   "codemirror_mode": {
    "name": "ipython",
    "version": 3
   },
   "file_extension": ".py",
   "mimetype": "text/x-python",
   "name": "python",
   "nbconvert_exporter": "python",
   "pygments_lexer": "ipython3",
   "version": "3.10.4"
  },
  "orig_nbformat": 4
 },
 "nbformat": 4,
 "nbformat_minor": 2
}
