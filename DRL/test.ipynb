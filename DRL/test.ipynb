{
 "cells": [
  {
   "cell_type": "code",
   "execution_count": null,
   "metadata": {},
   "outputs": [],
   "source": [
    "# Print Hello world\n",
    "print(\"Hello World\")\n",
    "\n",
    "# print from 1 to 100\n",
    "for i in range(1,101):\n",
    "    print(i)\n",
    "    "
   ]
  }
 ],
 "metadata": {
  "language_info": {
   "name": "python"
  },
  "orig_nbformat": 4
 },
 "nbformat": 4,
 "nbformat_minor": 2
}
