{
 "cells": [
  {
   "cell_type": "markdown",
   "metadata": {},
   "source": [
    "# DRL3 探索与开发 (exploration and exploitation)\n",
    "\n",
    "> Reference:\n",
    "> - [Reinforcement Learning: An introduction -- Richard S. Sutton](https://web.stanford.edu/class/psych209/Readings/SuttonBartoIPRLBook2ndEd.pdf)\n",
    "> - [DeepMind x UCL RL Lectures 2 -- Hado van Hasselt](https://www.youtube.com/watch?v=aQJP3Z2Ho8U&list=PLqYmG7hTraZDVH599EItlEWsUOsJbAodm&index=2&t=1417s)"
   ]
  },
  {
   "cell_type": "markdown",
   "metadata": {},
   "source": [
    "## 1. 多臂怪盗问题 (Multi-armed Bandits Problem)\n",
    "\n",
    "这里，我们通过讨论多臂怪盗问题来间接的探讨强化学习中的探索与开发难题。多臂怪盗，可以被看做是一个简化的强化学习问题，在怪盗问题中，并不存在学习，只是单纯让 agent 做出对自己有利的选择。下面我举一个例子。假如我们让一只猴子从两个箱子里中选一个，其中一个箱子里有一根香蕉，另外一个箱子里可能有三根香蕉也可能只有一个香蕉皮，出现香蕉和香蕉皮的可能性均为百分之五十。而猴子并不知道箱子里的香蕉数量。\n",
    "\n",
    "![](./pics/moneybanana.png)\n",
    "\n",
    "\n",
    "假设 A-1： 猴子第一次选择了一号箱子，他拿到了一根香蕉，他非常开心，于是以后每一次都选择一号箱子，并且稳定的拿到一根香蕉，他的平均收益为 1。\n",
    "\n",
    "![假设A](./pics/A1.png)"
   ]
  },
  {
   "cell_type": "markdown",
   "metadata": {},
   "source": [
    "假设 A-2：猴子第一次选择了二号箱子，得到三根香蕉，他非常开心，于是以后的每次选择都会选二号箱子，虽然偶然只能得到香蕉皮，但猴子依然会坚定的选择一号箱子。最终他的平均收益为 1.5。\n",
    "\n",
    "![](./pics/B2.png)"
   ]
  },
  {
   "cell_type": "markdown",
   "metadata": {},
   "source": [
    "假设 A-3：猴子第一次选择了二号箱子，只得到了香蕉皮。猴子非常生气，于是以后的每一次都会选择一号箱子，并且稳定的得到一根香蕉。他的平均收益小于但接近 1.\n",
    "\n",
    "![](./pics/B.png)"
   ]
  },
  {
   "cell_type": "markdown",
   "metadata": {},
   "source": [
    "假设 B-1：猴子第一次选择了一号箱子发现里面有一根香蕉，他很开心，但他依然好奇二号箱子有什么，于是第二次选择了二号箱子，发现里面有三根香蕉，于是猴子第三次依然选择了二号箱子，但这次只有一个香蕉皮，但二号箱子的平均收益还是比一号要高，所以猴子以后每次都会选择二号箱子。最终的平均收益趋近 1.5。\n",
    "\n",
    "![](./pics/B3.png)"
   ]
  },
  {
   "cell_type": "markdown",
   "metadata": {},
   "source": [
    "假设 B-2：猴子第一次选择了二号箱子，得到三根香蕉，他很开心，但他依然好奇一号箱子有什么，于是第二次选择了一号箱子，发现里面只有一根香蕉。于是从第三次之后，每一次都会选择一号箱子。最后的平均收益略大于 1."
   ]
  },
  {
   "cell_type": "markdown",
   "metadata": {},
   "source": [
    "假设 B-3：猴子第一次选择了一号箱子，得到一根香蕉之后，第二次选择了二号箱子，而只得到了香蕉皮。猴子非常生气，于是以后的每一次都会选择一号箱子，平均收益小于但接近 1."
   ]
  }
 ],
 "metadata": {
  "language_info": {
   "name": "python"
  },
  "orig_nbformat": 4
 },
 "nbformat": 4,
 "nbformat_minor": 2
}
