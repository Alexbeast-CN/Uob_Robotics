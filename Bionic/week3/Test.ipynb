{
 "cells": [
  {
   "cell_type": "markdown",
   "metadata": {},
   "source": [
    "# BIONIC.2 人工进化(Artificial evolution) -- 2\n",
    "\n",
    "## 4. 代码示例"
   ]
  },
  {
   "cell_type": "markdown",
   "metadata": {},
   "source": [
    "###  4.1 设计拟合函数\n",
    "\n",
    "首先创建一个用于计算两个字符串之间字符差异的函数"
   ]
  },
  {
   "cell_type": "code",
   "execution_count": 1,
   "metadata": {},
   "outputs": [],
   "source": [
    "import numpy as np \n",
    "\n",
    "def hamming_distance(string1,string2): \n",
    "    \"\"\"Returns the hamming distance between two strings\"\"\"    \n",
    "    #The hamming distance between two strings of equal length is the number of positions \n",
    "    #at which characters in the string vary.\n",
    "    #Eg. AAA and BAB have a hamming distance of 2 as two characters \n",
    "    #(the first and last characters) are different.\n",
    "\n",
    "    if len(string1)!= len(string2):\n",
    "        print(\"Cannot calculate hamming distance, strings {} are different lengths {}\".format((string1,string2),(len(string1),len(string2))))\n",
    "    different_chars = 0        \n",
    "    for i in range(len(string1)):\n",
    "        if string1[i] != string2[i]:\n",
    "            different_chars+=1\n",
    "    return different_chars"
   ]
  },
  {
   "cell_type": "markdown",
   "metadata": {},
   "source": [
    "下面用 INSPIRED 和 ARMOURED 为例测试该函数。"
   ]
  },
  {
   "cell_type": "code",
   "execution_count": 2,
   "metadata": {},
   "outputs": [
    {
     "name": "stdout",
     "output_type": "stream",
     "text": [
      "There are 5 characters that are different between strings A and B\n",
      "There are 3 characters that are the same between strings A and B\n"
     ]
    }
   ],
   "source": [
    "#Calculating the length of a string\n",
    "string_A = \"INSPIRED\"\n",
    "string_B = \"ARMOURED\"\n",
    "\n",
    "#Calculating the difference betweeen two strings\n",
    "#hamming_distance(string1,string2) returns the number of characters that are different between two strings \n",
    "diff_chars = hamming_distance(string_A,string_B)\n",
    "print(\"There are {} characters that are different between strings A and B\".format(diff_chars))\n",
    "same_chars = len(string_A) - hamming_distance(string_A,string_B)\n",
    "print(\"There are {} characters that are the same between strings A and B\".format(same_chars))"
   ]
  },
  {
   "cell_type": "markdown",
   "metadata": {},
   "source": [
    "测试通过。接下来计算一下两个字符串之间的拟合度。拟合度是用来评估遗传算法中样本好坏的指标。拟合度公式为：\n",
    "\n",
    "$$\n",
    "f(i) = L(i)^2 + 1\n",
    "$$\n",
    "\n",
    "其中 L 是与目标字符中字母一致的个数。比如：\n",
    "\n",
    "![示例](./pics/fitness.png)\n",
    "\n",
    "下面来构建评估函数："
   ]
  },
  {
   "cell_type": "code",
   "execution_count": 3,
   "metadata": {},
   "outputs": [
    {
     "name": "stdout",
     "output_type": "stream",
     "text": [
      "The fitness of ABCPIRBE as calculated is evaluate() is 10\n",
      "The fitness of ABCCAREA as calculated is evaluate() is 5\n",
      "The fitness of INSPIABC as calculated is evaluate() is 26\n",
      "The fitness of AAAAAAAA as calculated is evaluate() is 1\n",
      "The fitness of IABABABA as calculated is evaluate() is 2\n",
      "The fitness of AAAPIREA as calculated is evaluate() is 17\n"
     ]
    }
   ],
   "source": [
    "def evaluate(individual_string):\n",
    "    \"\"\"Returns the value of the fitness function f(i) = L(i)^2 +1 when applied to a genome\n",
    "    \n",
    "    Parameters:\n",
    "      individual_string - A string genome representing a word\n",
    "    Returns:\n",
    "      The fitness according to the fitness function (float)\n",
    "    \"\"\"\n",
    "    \n",
    "    correct_word = \"INSPIRED\"\n",
    "    matching_letters = (len(correct_word) - hamming_distance(individual_string,correct_word)) #Take away the number of letter that are wrong from the length of the word to give how many letters are correct\n",
    "    ####################Enter your code here###################\n",
    "    fitness = matching_letters**2 + 1\n",
    "    ###########################################################\n",
    "    return fitness\n",
    "\n",
    "population = np.array([\"ABCPIRBE\",\"ABCCAREA\",\"INSPIABC\",\"AAAAAAAA\",\"IABABABA\",\"AAAPIREA\"])\n",
    "#Loop through the population of solutions and display their fitness. Use this to verify your fitness function is working correctly.\n",
    "for individual in population:\n",
    "  print(\"The fitness of {} as calculated is evaluate() is {}\".format(individual,evaluate(individual)))"
   ]
  },
  {
   "cell_type": "markdown",
   "metadata": {},
   "source": [
    "由此我们便得到了下表：\n",
    "\n",
    "|Individual|Fitness|\n",
    "|:-|:-:|\n",
    "|ABCPIRBE|10|\n",
    "|ABCCAREA|5|\n",
    "|INSPIABC|26|\n",
    "|AAAAAAAA|1|\n",
    "|IABABABA|2|\n",
    "|AAAPIREA|17|\n",
    "\n",
    "\n",
    "<p><center>Table 1 - 遗传算法的原始种群与拟合度.</center></p>"
   ]
  },
  {
   "cell_type": "markdown",
   "metadata": {},
   "source": [
    "### 4.2 创建初始种群\n",
    "\n",
    "一般来说，初始种群是随机生成的。可以使用下面的代码完成此项任务："
   ]
  },
  {
   "cell_type": "code",
   "execution_count": 62,
   "metadata": {},
   "outputs": [
    {
     "data": {
      "text/plain": [
       "array(['UNKKYMCX', 'ZDKCHUYW', 'TEAIUHUV', 'XZWIYAYY', 'XCIWYDEE',\n",
       "       'HHJHNLQY'], dtype='<U8')"
      ]
     },
     "execution_count": 62,
     "metadata": {},
     "output_type": "execute_result"
    }
   ],
   "source": [
    "def generate_population(population_size,genome_size = 8):\n",
    "  \"\"\"\n",
    "  Generates a new population of genomes of letter strings\n",
    "\n",
    "  Parameters:\n",
    "    population_size - The size of the new population\n",
    "    genome_size (optional) (default = 8) - The size of each genome string\n",
    "  \n",
    "  Returns:\n",
    "    The new population\n",
    "  \"\"\"\n",
    "\n",
    "  #Adds randomly generated individuals to a list representing the population\n",
    "  population = []\n",
    "  for i in range(population_size):\n",
    "\n",
    "    new_individual = \"\" #The genome starts as an empty string\n",
    "    for c in range(genome_size):#loops through each gene in the genome\n",
    "      random_char =  generate_random_char()#generates a random gene and appends it to the new genome\n",
    "      new_individual+= random_char\n",
    "    #Once created the genome is added to the population\n",
    "    population.append(new_individual)\n",
    "\n",
    "  return np.array(population) #Convert the list into a numpy array as this is what the other functions expect\n",
    "\n",
    "generate_population(6)"
   ]
  },
  {
   "cell_type": "markdown",
   "metadata": {},
   "source": [
    "但是，为了减小计算量，这里我们人为的创建一个初始种群。并且将种群的拟合度储存在一个数列中，便于以后的操作。"
   ]
  },
  {
   "cell_type": "code",
   "execution_count": 23,
   "metadata": {},
   "outputs": [
    {
     "data": {
      "text/plain": [
       "array([10.,  5., 26.,  1.,  2., 17.])"
      ]
     },
     "execution_count": 23,
     "metadata": {},
     "output_type": "execute_result"
    }
   ],
   "source": [
    "def get_fitnesses(population):\n",
    "    \"\"\"Returns an array of the fitnesses of each individual in the population\"\"\"\n",
    "    return np.array([evaluate(individual)  for individual in population],dtype = 'float')\n",
    "\n",
    "\n",
    "population = np.array([\"ABCPIRBE\",\"ABCCAREA\",\"INSPIABC\",\"AAAAAAAA\",\"IABABABA\",\"AAAPIREA\"])\n",
    "get_fitnesses(population)"
   ]
  },
  {
   "cell_type": "markdown",
   "metadata": {},
   "source": [
    "### 4.3 设计遗传算子 \n",
    "\n",
    "选择算子在 GA 中用于选择应该将哪些解决方案传递到下一代。\n",
    "\n",
    "应用选择算子后，在对幸存者使用交叉和变异算子，便可以得到新一代解决方案。这些练习将演示选择操作员的工作方式，并将比较他们的特点。\n",
    "\n",
    "首先使用**比例算子**来做选择。比例算子的公式为：\n",
    "\n",
    "$$\n",
    "p(i) = \\frac{f(i)}{\\sum_{n=1}^{N} f(n)} \n",
    "$$"
   ]
  },
  {
   "cell_type": "markdown",
   "metadata": {},
   "source": [
    "下面由拟合度来计算个体存活的可能性："
   ]
  },
  {
   "cell_type": "code",
   "execution_count": 26,
   "metadata": {},
   "outputs": [
    {
     "name": "stdout",
     "output_type": "stream",
     "text": [
      "[0.16393443 0.08196721 0.42622951 0.01639344 0.03278689 0.27868852]\n"
     ]
    }
   ],
   "source": [
    "def get_proportionate_select_prob(population,fitnesses):\n",
    "    \"\"\" Returns the selection probabilities for individuals in a population \n",
    "    according to proportianate selection\n",
    "    Parameters:\n",
    "      population - the population to calculate selection probabilities\n",
    "      fitnesses - array of fitnesses assocoiated with the individuals in old_population\n",
    "    \n",
    "    Returns\n",
    "      The selection probabilities for each individual\n",
    "    \"\"\"    \n",
    "\n",
    "    total_fitness = np.sum(fitnesses)\n",
    "    prob_of_selection = fitnesses/total_fitness\n",
    "    return prob_of_selection\n",
    "\n",
    "fitness = get_fitnesses(population)\n",
    "\n",
    "proportionate_prob = get_proportionate_select_prob(population,fitness)\n",
    "\n",
    "print(proportionate_prob)\n",
    "\n"
   ]
  },
  {
   "cell_type": "markdown",
   "metadata": {},
   "source": [
    "|Individual|Fitness|Probability of selection (proportionate)|\n",
    "|:-       |:-:|:-:|\n",
    "|ABCPIRBE |10 |0.16|\n",
    "|ABCCAREA |5  |0.08|\n",
    "|INSPIABC |26 |0.42|\n",
    "|AAAAAAAA |1  |0.02|\n",
    "|IABABABA |2  |0.03|\n",
    "|AAAPIREA |17 |0.28|\n",
    "|**Total**|61 |  1 |\n",
    "\n",
    "<p><center>Table 2 - 根据比例选择的初始总体的选择概率。</center></p>"
   ]
  },
  {
   "cell_type": "markdown",
   "metadata": {},
   "source": [
    "然后使用**等级算子**来做选择：\n",
    "\n",
    "$$\n",
    "p(i) = \\frac{N - R_i + 1}{\\sum_{n = 1}^{N} R(n)}\n",
    "$$\n",
    "\n",
    "具有最高适应度的个人有一个排名\n",
    "$R(i)$=1\n",
    "对于最不适合的人\n",
    "$R(i)=N$"
   ]
  },
  {
   "cell_type": "code",
   "execution_count": 27,
   "metadata": {},
   "outputs": [
    {
     "name": "stdout",
     "output_type": "stream",
     "text": [
      "[0.19047619 0.14285714 0.28571429 0.04761905 0.0952381  0.23809524]\n"
     ]
    }
   ],
   "source": [
    "def get_rank_select_prob(population,fitnesses):\n",
    "    \"\"\" Returns the selection probabilities for individuals in a population \n",
    "    according to rank based selection\n",
    "    Parameters:\n",
    "      population - the population to calculate selection probabilities\n",
    "      fitnesses - array of fitnesses assocoiated with the individuals in old_population\n",
    "    \n",
    "    Returns\n",
    "      The selection probabilities for each individual\n",
    "    \"\"\"    \n",
    "    #NOTE: This code does not work correctly for instances where fitnesses are exactly equal. \n",
    "    #      Idealy two indentical solutions would be ranked equally such that they have an equal chance of being selected.\n",
    "    #      However for the porposes of this excerise the code performs correctly \n",
    "    \n",
    "    if np.isnan(fitnesses).any():#If the fitness values aren't valid return an array filled with NaNs for the probabilities\n",
    "      prob_of_selection = np.full(fitnesses.shape,fill_value = np.nan)\n",
    "      return prob_of_selection\n",
    "    \n",
    "    order = np.array(-fitnesses).argsort() #returns indexes which would sort the array highest to lowest \n",
    "    ranks = (order.argsort() +1).astype('float')#sorting the indexes lowest to highest gives us the rank, add one to account for first index being zero\n",
    "                            \n",
    "    prob_of_selection = (population.size - ranks + 1.0)/np.sum(ranks)\n",
    "    return prob_of_selection\n",
    "\n",
    "rank_prob = get_rank_select_prob(population,fitness)\n",
    "print(rank_prob)\n"
   ]
  },
  {
   "cell_type": "markdown",
   "metadata": {},
   "source": [
    "|Individual|Fitness|Rank|Probability of selection (Rank-based)|\n",
    "|:-       |:-:|:-:|:-:|\n",
    "|ABCPIRBE |10 |3|0.19|\n",
    "|ABCCAREA |5  |4|0.14|\n",
    "|INSPIABC |26 |1|0.29|\n",
    "|AAAAAAAA |1  |6|0.05|\n",
    "|IABABABA |2  |5|0.10|\n",
    "|AAAPIREA |17 |2|0.24|\n",
    "|**Total**|61|15| 1  |\n",
    "\n",
    "<p><center>Table 3 - 基于秩选择的初始总体的选择概率</center></p>"
   ]
  },
  {
   "cell_type": "markdown",
   "metadata": {},
   "source": [
    "### 4.4 遗传过程\n",
    "\n",
    "下面将展示三种选择方式，分别是概率选择，秩选择，锦标赛选择："
   ]
  },
  {
   "cell_type": "markdown",
   "metadata": {},
   "source": [
    "首先是概率选择，在获取上一个种群后，先判断其是否还能进行迭代，如何可以就使用 `np.random.choice()` 根据每一个个体的存活率随机生成新一代的种群。"
   ]
  },
  {
   "cell_type": "code",
   "execution_count": 28,
   "metadata": {},
   "outputs": [
    {
     "name": "stdout",
     "output_type": "stream",
     "text": [
      "Original population: ['ABCPIRBE' 'ABCCAREA' 'INSPIABC' 'AAAAAAAA' 'IABABABA' 'AAAPIREA']\n",
      "Population after proportionate selection ['AAAPIREA' 'IABABABA' 'INSPIABC' 'INSPIABC' 'INSPIABC' 'INSPIABC']\n"
     ]
    }
   ],
   "source": [
    "def proportionate_selection(old_population,fitnesses):\n",
    "    \"\"\"Performs proportional based selection on a population, returns the new population\n",
    "    Parameters:\n",
    "        old_population - the population to perform selection on\n",
    "        fitnesses - array of fitnesses assocoiated with the individuals in old_population\n",
    "    \n",
    "    Returns:\n",
    "        The new population\n",
    "    \"\"\"\n",
    "    if np.isnan(fitnesses).any():\n",
    "      print(\"ERROR - Some fitnesses are NaN. Cannot calculate selection probabilities returning original population\")\n",
    "      return old_population\n",
    "\n",
    "    prob_of_selection = get_proportionate_select_prob(old_population,fitnesses)\n",
    "    new_population = np.random.choice(old_population, size = len(old_population),p = prob_of_selection)\n",
    "    return new_population\n",
    "\n",
    "#Demostrates selection\n",
    "population = np.array([\"ABCPIRBE\",\"ABCCAREA\",\"INSPIABC\",\"AAAAAAAA\",\"IABABABA\",\"AAAPIREA\"])\n",
    "print(\"Original population: {}\".format(population))\n",
    "\n",
    "new_population = proportionate_selection(population,get_fitnesses(population))\n",
    "\n",
    "#probabilities = get_proportionate_select_prob(population,get_fitnesses(population))\n",
    "#print(\"Selection probabilities {}\".format(probabilities))\n",
    "\n",
    "print(\"Population after proportionate selection {}\".format(new_population))"
   ]
  },
  {
   "cell_type": "markdown",
   "metadata": {},
   "source": [
    "秩选择与概率选择类似。代码如下："
   ]
  },
  {
   "cell_type": "code",
   "execution_count": 29,
   "metadata": {},
   "outputs": [
    {
     "name": "stdout",
     "output_type": "stream",
     "text": [
      "Original population: ['ABCPIRBE' 'ABCCAREA' 'INSPIABC' 'AAAAAAAA' 'IABABABA' 'AAAPIREA']\n",
      "Population after rank-based selection ['AAAPIREA' 'INSPIABC' 'INSPIABC' 'AAAPIREA' 'INSPIABC' 'IABABABA']\n"
     ]
    }
   ],
   "source": [
    "def rank_based_selection(old_population,fitnesses):\n",
    "    \"\"\"Performs rank based selection on a population, returns the new population\n",
    "    Parameters:\n",
    "        old_population - the population to perform selection on\n",
    "        fitnesses - array of fitnesses assocoiated with the individuals in old_population\n",
    "    Returns:\n",
    "        The new population\n",
    "    \"\"\"\n",
    "\n",
    "    if np.isnan(fitnesses).any():\n",
    "      print(\"ERROR - Some fitnesses are NaN. Cannot calculate selection probabilities returning original population\")\n",
    "      return old_population\n",
    "    \n",
    "    prob_of_selection = get_rank_select_prob(old_population,fitnesses)\n",
    "    new_population = np.random.choice(old_population, size = len(old_population),p = prob_of_selection)\n",
    "\n",
    "    return new_population\n",
    "  \n",
    "#Demostrates selection\n",
    "population = np.array([\"ABCPIRBE\",\"ABCCAREA\",\"INSPIABC\",\"AAAAAAAA\",\"IABABABA\",\"AAAPIREA\"])\n",
    "print(\"Original population: {}\".format(population))\n",
    "\n",
    "new_population = rank_based_selection(population,get_fitnesses(population))\n",
    "\n",
    "#probabilities = get_rank_select_prob(population,get_fitnesses(population))\n",
    "#print(\"Selection probabilities {}\".format(probabilities))\n",
    "\n",
    "print(\"Population after rank-based selection {}\".format(new_population))"
   ]
  },
  {
   "cell_type": "markdown",
   "metadata": {},
   "source": [
    "最后是锦标赛选择，这种方法不需要计算个体的生存概率，只需要随机选择一组组个体进行比较，让拟合度较大的个体存活。然后生成新一代的种群："
   ]
  },
  {
   "cell_type": "code",
   "execution_count": 31,
   "metadata": {},
   "outputs": [
    {
     "name": "stdout",
     "output_type": "stream",
     "text": [
      "Original population: ['ABCPIRBE' 'ABCCAREA' 'INSPIABC' 'AAAAAAAA' 'IABABABA' 'AAAPIREA']\n",
      "Population after tournament selection (t_size = 2) ['ABCPIRBE' 'ABCPIRBE' 'AAAPIREA' 'ABCPIRBE' 'ABCPIRBE' 'AAAPIREA']\n"
     ]
    }
   ],
   "source": [
    "def tournament_selection(old_population,fitnesses,t_size = 2):\n",
    "    \"\"\"Performs tournament based selection on a population, returns the new population\n",
    "    Parameters:\n",
    "        old_population - the population to perform selection on\n",
    "        fitnesses - array of fitnesses assocoiated with the individuals in old_population\n",
    "        t_size - the tournament size\n",
    "    Returns:\n",
    "        The new population\n",
    "    \"\"\"\n",
    "    if np.isnan(fitnesses).any():\n",
    "      print(\"ERROR - Some fitnesses are NaN. Returning original population\")\n",
    "      return old_population\n",
    "    new_population = []\n",
    "    pop_size = old_population.size\n",
    "    if t_size > pop_size:\n",
    "        print(\"Tournament size too big, larger than population size\")\n",
    "        t_size = pop_size\n",
    "    for i in range(pop_size):\n",
    "        #pick contentenders for tournament\n",
    "        contender_indexs = np.random.choice(range(pop_size), replace = False,size = t_size)\n",
    "        #pick winner aka one with largest fitness of the contenders\n",
    "        winner_index = contender_indexs[np.argmax(fitnesses[contender_indexs])]\n",
    "\n",
    "        new_population.append(old_population[winner_index])\n",
    "    return np.array(new_population)\n",
    "\n",
    "#Demostrates selection\n",
    "population = np.array([\"ABCPIRBE\",\"ABCCAREA\",\"INSPIABC\",\"AAAAAAAA\",\"IABABABA\",\"AAAPIREA\"])\n",
    "tournament_size = 2\n",
    "\n",
    "print(\"Original population: {}\".format(population))\n",
    "new_population = tournament_selection(population,get_fitnesses(population),t_size = tournament_size)\n",
    "print(\"Population after tournament selection (t_size = {}) {}\".format(tournament_size,new_population))"
   ]
  },
  {
   "cell_type": "markdown",
   "metadata": {},
   "source": [
    "为了使我们能够轻松地在选择方法之间切换，我们将编写一个选择函数，其中选择方法是一个参数。"
   ]
  },
  {
   "cell_type": "code",
   "execution_count": 32,
   "metadata": {},
   "outputs": [],
   "source": [
    "def perform_selection(old_population,fitnesses,selection_method,selection_params=None):\n",
    "    \"\"\"Applies a selection operator on a population, returns the new population\n",
    "    Parameters:\n",
    "        old_population - the population to perform selection on\n",
    "        selection_method - The selection operator to be applied, valid values are:\n",
    "                           \"proportionate\",\"rank\" or \"tournament\"\n",
    "        selection_params - Dictionary of parameters for selection operators \n",
    "    Returns:\n",
    "        The new population\n",
    "    \"\"\" \n",
    "    if selection_method == \"proportionate\":\n",
    "        new_population = proportionate_selection(old_population,fitnesses)\n",
    "    elif selection_method == \"rank\":\n",
    "        new_population = rank_based_selection(old_population,fitnesses)\n",
    "    elif selection_method == \"tournament\":\n",
    "        new_population = tournament_selection(old_population,fitnesses,selection_params[\"tournament_size\"])\n",
    "    else:\n",
    "        print(\"\\\"{}\\\" is not recognised as a selection method. Returning original population\".format(selection_method))\n",
    "        new_population = old_population\n",
    "    return new_population"
   ]
  },
  {
   "cell_type": "markdown",
   "metadata": {},
   "source": [
    "### 4.5 种群衡量指标\n",
    "\n",
    "我们还将提供种群多样性的衡量标准。 这衡量了种群中所有个体的差异程度："
   ]
  },
  {
   "cell_type": "code",
   "execution_count": 40,
   "metadata": {},
   "outputs": [
    {
     "name": "stdout",
     "output_type": "stream",
     "text": [
      "Diversity of proportionate selection 116\n",
      "Diversity of rank based selection 156\n",
      "Diversity of tournament selection 142\n"
     ]
    }
   ],
   "source": [
    "def get_diversity(population):\n",
    "    \"\"\"Returns the diversity measure of a population (pair-wise sum of hamming distances)\n",
    "    Parameters:\n",
    "      population - The population to calculate the diversity for\n",
    "    Returns\n",
    "      The diversity in the population\n",
    "    \"\"\"\n",
    "    #One diversity measure is the all-possible-pairs diversity. \n",
    "    #For our genotype this can be defined as the sum of hamming distances between every possible pair of individauls in the population\n",
    "    sum_of_hamming = 0\n",
    "    for individual1 in population:\n",
    "         for individual2 in population:\n",
    "            sum_of_hamming+=hamming_distance(individual1,individual2)\n",
    "    return sum_of_hamming\n",
    "\n",
    "prop_population = perform_selection(population,fitness,selection_method = \"proportionate\")\n",
    "diversity1 = get_diversity(prop_population)\n",
    "\n",
    "rank_population = perform_selection(population,fitness,selection_method = \"rank\")\n",
    "diversity2 = get_diversity(rank_population)\n",
    "\n",
    "tournament_population = perform_selection(population,fitness,selection_method = \"tournament\",selection_params = {\"tournament_size\":2})\n",
    "diversity3 = get_diversity(tournament_population)\n",
    "\n",
    "print(\"Diversity of proportionate selection {}\".format(diversity1))\n",
    "print(\"Diversity of rank based selection {}\".format(diversity2))\n",
    "print(\"Diversity of tournament selection {}\".format(diversity3))\n"
   ]
  },
  {
   "cell_type": "markdown",
   "metadata": {},
   "source": [
    "下面的代码单元将选择运算符应用于群体以创建新群体。 然后显示每个种群的适应度、多样性和个体。"
   ]
  },
  {
   "cell_type": "code",
   "execution_count": 52,
   "metadata": {},
   "outputs": [
    {
     "name": "stdout",
     "output_type": "stream",
     "text": [
      "----------- Selection method: proportionate -----------\n",
      "Original population: ['ABCPIRBE' 'ABCCAREA' 'INSPIABC' 'AAAAAAAA' 'IABABABA' 'AAAPIREA']    Diversity  : 166.00\n",
      "Original fitnesses : [10.  5. 26.  1.  2. 17.]    Avg fitness: 10.17\n",
      "New population     : ['AAAPIREA' 'AAAPIREA' 'INSPIABC' 'INSPIABC' 'INSPIABC' 'INSPIABC']    Diversity  : 96.00\n",
      "New fitnesses      : [17. 17. 26. 26. 26. 26.]    Avg fitness: 23.00\n"
     ]
    }
   ],
   "source": [
    "selection_method = \"proportionate\" #valid values are \"proportionate\",\"rank\" or \"tournament\"\n",
    "selection_params = {\"tournament_size\" : 2}\n",
    "\n",
    "#The old population and their fitnesses\n",
    "population = np.array([\"ABCPIRBE\",\"ABCCAREA\",\"INSPIABC\",\"AAAAAAAA\",\"IABABABA\",\"AAAPIREA\"])\n",
    "fitnesses  = get_fitnesses(population)\n",
    "\n",
    "#The new population is formed by applying the selection operator\n",
    "new_population = perform_selection(population,fitnesses,selection_method,selection_params)\n",
    "new_fitnesses = get_fitnesses(new_population)\n",
    "\n",
    "print(\"----------- Selection method: {} -----------\".format(selection_method))\n",
    "\n",
    "print(\"Original population: {}    Diversity  : {:4.2f}\".format(population,get_diversity(population)))\n",
    "print(\"Original fitnesses : {}    Avg fitness: {:4.2f}\".format(fitnesses,np.mean(fitnesses)))    \n",
    "\n",
    "print(\"New population     : {}    Diversity  : {:4.2f}\".format(new_population,get_diversity(new_population)))\n",
    "print(\"New fitnesses      : {}    Avg fitness: {:4.2f}\".format(new_fitnesses,np.mean(new_fitnesses)))\n"
   ]
  },
  {
   "cell_type": "markdown",
   "metadata": {},
   "source": [
    "### 4.6 交叉互换和突变\n",
    "\n",
    "经过上面的操作之后，新一代的种群平均拟合度要高于上一代，但是多样性减少了。为了增加一些多样性，我们引入了交叉互换和突变。以 INSPRIABC 与 AAAPIREA 为例，按下图的方式交叉互换后，我们便得到了 AAAPRIABC 与 INSPIREA。\n",
    "\n",
    "![交叉互换](./pics/crossover_ex.png)\n",
    "\n",
    "下面我们使用代码实现这个功能："
   ]
  },
  {
   "cell_type": "code",
   "execution_count": 60,
   "metadata": {},
   "outputs": [
    {
     "name": "stdout",
     "output_type": "stream",
     "text": [
      "Results of crossover = ('AAABBBBB', 'BBBAAAAA')\n",
      "New fitnesses = [1. 1.]\n"
     ]
    }
   ],
   "source": [
    "def one_point_crossover(individual1,individual2,crossover_point = -1):\n",
    "  \"\"\"Applies one point crossover to two individual genomes\n",
    "  Parameters:\n",
    "    individual1 - Genome1\n",
    "    individual2 - Genome2\n",
    "    crossover_point (optional, default = -1) - The crossover point in the genome string ie. the position in the string before which the crossover is applied. \n",
    "                                               If set to -1 a random crossover point will be used. \n",
    "  Returns:\n",
    "     The two individuals \n",
    "  \"\"\" \n",
    "  if (len(individual1)!=len(individual2) or len(individual1) == 0 or len(individual2) == 0):\n",
    "    print(\"Individual genome sizes must be equal and larger than zero\")\n",
    "    return individual1,individual2\n",
    "  if crossover_point == -1:#No crossover point set, generate a random one\n",
    "    crossover_point = np.random.randint(1,len(individual1))\n",
    "\n",
    "  if crossover_point > len(individual1) or crossover_point > len(individual2):\n",
    "    print(\"Crossover point {} larger than genome sizes ({})\".format(crossover_point,individual1,individual2))\n",
    "  \n",
    "  #Select the appropriate sections of the genome string and exchange them\n",
    "  new_individual1 = individual1[:crossover_point] + individual2[crossover_point:]\n",
    "  new_individual2 = individual2[:crossover_point] + individual1[crossover_point:]\n",
    "  \n",
    "  return new_individual1,new_individual2\n",
    "\n",
    "\n",
    "#The two genomes to apply crossover to\n",
    "individual1 = \"AAAAAAAA\"\n",
    "individual2 = \"BBBBBBBB\"\n",
    "\n",
    "#Applies one point crossover to the individuals new_individual1 and new_individual2\n",
    "#Note: A crossover point between the 1st and 2nd characters in genome would be 1\n",
    "new_individual1,new_individual2 = one_point_crossover(individual1,individual2,-1)\n",
    "\n",
    "print(\"Results of crossover = {}\".format((new_individual1,new_individual2)))\n",
    "print(\"New fitnesses = {}\".format(get_fitnesses([new_individual1,new_individual2])))"
   ]
  },
  {
   "cell_type": "markdown",
   "metadata": {},
   "source": [
    "下面是用于产生突变的函数："
   ]
  },
  {
   "cell_type": "code",
   "execution_count": 61,
   "metadata": {},
   "outputs": [
    {
     "data": {
      "text/plain": [
       "'INSPIWAA'"
      ]
     },
     "execution_count": 61,
     "metadata": {},
     "output_type": "execute_result"
    }
   ],
   "source": [
    "def generate_random_char():\n",
    "  \"\"\"Returns a random capital letter character\"\"\"\n",
    "  random_char = chr(np.random.randint(65,91))#First a random number above 65 and including 90 is generated then covertted to an ASCII symbol\n",
    "                                             #ASCII character 65 = A ASCII character 90 = Z, symbols between these are all capital letters\n",
    "  return random_char\n",
    "def mutate(individual):\n",
    "  #Generates a random number between zero and eight, this is the gene we will mutate\n",
    "  gene_num = np.random.randint(0,8)\n",
    "\n",
    "  #puts a randomly generated genome (character) at the position specified by gene_num\n",
    "  individual = individual[:gene_num] + generate_random_char() + individual[gene_num+1:] \n",
    "  return individual\n",
    "\n",
    "mutate(\"INSPIAAA\")"
   ]
  },
  {
   "cell_type": "markdown",
   "metadata": {},
   "source": [
    "### 4.7 完整程序"
   ]
  },
  {
   "cell_type": "code",
   "execution_count": 66,
   "metadata": {},
   "outputs": [
    {
     "name": "stdout",
     "output_type": "stream",
     "text": [
      "-----------Initial population-----------\n",
      "['CVSHNXVB' 'YZKQXTUU' 'KKRKSTUN' 'PPSBBNWL' 'HLDQQXPJ' 'GBRFSXSF']\n",
      "-----------End population-----------\n",
      "['INSPIRED' 'INSPIRED' 'INSPIRED' 'INSPIRED' 'INSPIRED' 'INSPIRED']\n"
     ]
    }
   ],
   "source": [
    "#How many generations the GA will be run for\n",
    "generation_num = 50000\n",
    "\n",
    "selection_method = \"rank\" #valid values are \"proportionate\",\"rank\" and \"tournament\"\n",
    "selection_params = {\"tournament_size\" : 2}#parameters for the selection method \n",
    "\n",
    "#These probabilities decide how often to apply the crossover and mutation operators to the selected population\n",
    "#In this implimentation crossover and mutation occur sequentially\n",
    "crossover_rate = 0.1 #The probability of performing crossover on a individual per generation\n",
    "mutation_rate = 0.01 #The probability of performing mutation on an individual per generation\n",
    "\n",
    "#Initialise the population\n",
    "\n",
    "# population = np.array([\"ABCPIRBE\",\"ABCCAREA\",\"INSPIABC\",\"AAAAAAAA\",\"IABABABA\",\"AAAPIREA\"]) # The population examined in the previous excersises\n",
    "population = generate_population(6) #Uncomment this line to generate a random population of 6 individuals\n",
    "\n",
    "print(\"-----------Initial population-----------\")\n",
    "print(population)\n",
    "# print_population_stats(population)\n",
    "\n",
    "#Begin the evolution loop\n",
    "for g in range(generation_num):\n",
    "\n",
    "  #Evaluate the individuals\n",
    "  fitnesses = get_fitnesses(population)\n",
    "  if np.isnan(fitnesses).any():#Breaks the loop if the fitness function isn't implimented\n",
    "    print(\"ERROR - Fitness function not implimented!\")\n",
    "    break\n",
    "  #Select the fitest individuals\n",
    "  population = perform_selection(population,fitnesses,selection_method,selection_params)\n",
    "  \n",
    "  #Apply crossover operations\n",
    "  for individual1_index in range(population.size):\n",
    "\n",
    "    if np.random.random() < crossover_rate: #Crossover happens with a certain probability\n",
    "      \n",
    "      #Select an individual to do crossover with\n",
    "      potential_individuals = list(range(population.size))\n",
    "      potential_individuals.remove(individual1_index)     #can't do crossover with the same individual (nothing would change)\n",
    "      individual2_index = np.random.choice(potential_individuals)\n",
    "\n",
    "      #Apply one point crossover to produce new individuals\n",
    "      new_individual1,new_individual2 = one_point_crossover(population[individual1_index],population[individual2_index])\n",
    "      \n",
    "      #Insert the new individuals back into the population\n",
    "      population[individual1_index] = new_individual1\n",
    "      population[individual2_index] = new_individual2\n",
    "\n",
    "  \n",
    "  #Apply mutation operations\n",
    "  for individual_index in range(population.size):\n",
    "    if np.random.random() < mutation_rate:#Decide to apply a mutation or not   \n",
    "      population[individual_index] = mutate(population[individual_index])\n",
    "\n",
    "\n",
    "print(\"-----------End population-----------\")\n",
    "print(population)\n",
    "# print_population_stats(population)"
   ]
  },
  {
   "cell_type": "markdown",
   "metadata": {},
   "source": [
    "希望本节能让您更深入地了解 GA 的内部工作原理。 在本练习中检查的 GA 相当简单，因为我们已经知道我们想要发展的解决方案是什么。 但是，当我们不知道问题的解决方案是什么时，GA 会更加有用。"
   ]
  },
  {
   "cell_type": "markdown",
   "metadata": {},
   "source": [
    "- 上篇：[BIONIC.2 人工进化(Artificial evolution) -- 1](https://zhuanlan.zhihu.com/p/465160379)\n",
    "- 下篇：[BIONIC.2 人工进化(Artificial evolution) -- 3]()"
   ]
  }
 ],
 "metadata": {
  "interpreter": {
   "hash": "c6d9031e658debb2ea8943e06a648314df12deac922ea91a3af9df8928bf1d5c"
  },
  "kernelspec": {
   "display_name": "Python 3.9.7 ('base')",
   "language": "python",
   "name": "python3"
  },
  "language_info": {
   "codemirror_mode": {
    "name": "ipython",
    "version": 3
   },
   "file_extension": ".py",
   "mimetype": "text/x-python",
   "name": "python",
   "nbconvert_exporter": "python",
   "pygments_lexer": "ipython3",
   "version": "3.9.7"
  },
  "orig_nbformat": 4
 },
 "nbformat": 4,
 "nbformat_minor": 2
}
