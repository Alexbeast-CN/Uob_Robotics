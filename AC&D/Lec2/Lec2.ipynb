{
 "cells": [
  {
   "cell_type": "markdown",
   "metadata": {},
   "source": [
    "# ACnD 2. 稳定性 (Stability)\n",
    "\n",
    "对于一个简单系统 $\\dot{x} = Ax$ 的来说，要判断其是否稳定，就需要得到系统状态关于时间的方程:\n",
    "\n",
    "$$x(t) = e^{At}x(0)$$\n",
    "\n",
    "而该方程中参数 $e^{At}$ 直接计算非常复杂：\n",
    "\n",
    "$$e^{At} = I + At + \\frac{A^2t^2}{2!} + \\frac{A^3t^3}{3!} + ...$$\n",
    "\n",
    "但，如果我们对 A 矩阵做特征向量变换，则会相对好计算一些。\n",
    "\n",
    "## 1. 特征值和特征向量 (Eigen Value and Eigen Vector)\n",
    "\n",
    "### 1.1 概念解释\n",
    "\n",
    "特征向量和特征值是共生关系，他们有一个简单的性质：\n",
    "\n",
    "$$\n",
    "A\\vec{v} = \\lambda\\vec{v}\n",
    "$$\n",
    "\n",
    "即如下图所示，一个矩阵乘以其特征向量 $\\vec{v}$ 后，会得到一个与其特征向量方向相同的向量 $\\lambda\\vec{v}$。特征值 $\\lambda$ 为该向量是缩放倍数。\n",
    "\n",
    "![特征值和特征向量](./pics/Eigen.png)"
   ]
  },
  {
   "cell_type": "markdown",
   "metadata": {},
   "source": [
    "在本节中，我们称特征向量矩阵为: $T$，特征值矩阵为 $D$\n",
    "\n",
    "$$\n",
    "T = \\begin{bmatrix}\n",
    "    \\vec{v_1} & \\vec{v_2} & ... & \\vec{v_n}\n",
    "\\end{bmatrix}\n",
    "$$\n",
    "\n",
    "$$\n",
    "D = \\begin{bmatrix}\n",
    "    \\lambda_{1} & 0  & \\cdots   & 0   \\\\\n",
    "    0 & \\lambda_{2}  & \\cdots   & 0  \\\\\n",
    "    \\vdots & \\vdots  & \\ddots   & \\vdots  \\\\\n",
    "    0 & 0  & \\cdots\\  & \\lambda_{n}  \\\\\n",
    "    \\end{bmatrix}\n",
    "$$"
   ]
  },
  {
   "cell_type": "markdown",
   "metadata": {},
   "source": [
    "T 和 D 的关系可以写为：\n",
    "\n",
    "$$\n",
    "\\begin{aligned}\n",
    "AT &=TD\\\\\n",
    "T^{-1}AT &= D\n",
    "\\end{aligned}\n",
    "$$"
   ]
  },
  {
   "cell_type": "markdown",
   "metadata": {},
   "source": [
    "### 1.2 在控制系统中的用处\n",
    "\n",
    "为了方便计算系统的稳定性，我们对系统状态量 x 进行线性变换，转换到以其特征向量为基的空间。其变化过程的推导为：\n",
    "\n",
    "$$\n",
    "\\begin{aligned}\n",
    "    x &= Tz\\\\\n",
    "    \\dot{x} &= T\\dot{z} = Ax\\\\\n",
    "    T\\dot{z} &= ATz\\\\\n",
    "    \\dot{z} &= T^{-1}ATz\\\\\n",
    "    \\dot{z} &= Dz\n",
    "\\end{aligned}\n",
    "$$\n",
    "\n",
    "由此，我们便得到了一个容易计算的公式：\n",
    "\n",
    "$$\n",
    "\\boxed{\\dot{z} = Dz}\n",
    "$$"
   ]
  },
  {
   "cell_type": "markdown",
   "metadata": {},
   "source": [
    "### 1.3 Matlab 函数\n",
    "\n",
    "假设我们有一个矩阵 A：\n",
    "\n",
    "$$\n",
    "A= \\begin{bmatrix}\n",
    "    1 & -1\\\\\n",
    "    3 & 4\n",
    "\\end{bmatrix}\n",
    "$$\n",
    "\n",
    "我要计算其特征值和特征向量只需要使用方程 `eig( )` 即可："
   ]
  },
  {
   "cell_type": "code",
   "execution_count": 2,
   "metadata": {},
   "outputs": [
    {
     "name": "stdout",
     "output_type": "stream",
     "text": [
      "\n",
      "T =\n",
      "\n",
      "  -0.4330 + 0.2500i  -0.4330 - 0.2500i\n",
      "   0.8660 + 0.0000i   0.8660 + 0.0000i\n",
      "\n",
      "\n",
      "D =\n",
      "\n",
      "   2.5000 + 0.8660i   0.0000 + 0.0000i\n",
      "   0.0000 + 0.0000i   2.5000 - 0.8660i\n",
      "\n",
      "\n"
     ]
    }
   ],
   "source": [
    "A = [1 -1; 3 4];\n",
    "[T,D] = eig(A)"
   ]
  },
  {
   "cell_type": "markdown",
   "metadata": {},
   "source": [
    "## 2. 系统的稳定性\n",
    "\n",
    "### 2.1 系统状态表达式\n",
    "\n",
    "通过将 x 转换成 z 后，计算系统状态关于时间的函数便容易很多：\n",
    "\n",
    "$$\n",
    "z(t) = e^{Dt}z(0)\n",
    "\\begin{bmatrix}\n",
    "    e^{\\lambda_{1}t} & 0  & \\cdots   & 0   \\\\\n",
    "    0 & e^{\\lambda_{2}t}  & \\cdots   & 0  \\\\\n",
    "    \\vdots & \\vdots  & \\ddots   & \\vdots  \\\\\n",
    "    0 & 0  & \\cdots\\  & e^{\\lambda_{n}t}  \\\\\n",
    "\\end{bmatrix}\n",
    "z(0)\n",
    "$$"
   ]
  },
  {
   "cell_type": "markdown",
   "metadata": {},
   "source": [
    "其中 $\\lambda$ 是一个复数，即：\n",
    "\n",
    "$$\n",
    "\\lambda = a + bi\n",
    "$$"
   ]
  },
  {
   "cell_type": "markdown",
   "metadata": {},
   "source": [
    "如果我们想要系统的原始状态量方程 $x(t)$ 的话，也非常容易：\n",
    "\n",
    "$$\n",
    "x(t) = Te^{Dt}T^{-1}x(0) \n",
    "$$\n",
    "\n",
    "$$\n",
    "x(t) = Te^{Dt}z(0)\n",
    "$$"
   ]
  },
  {
   "cell_type": "markdown",
   "metadata": {},
   "source": [
    "### 2.2 稳定与不稳定\n",
    "\n",
    "从系统状态表达式中，我们可以看出，系统的状态是与指数 e 的级数相关的。当时间趋于无穷的时候，假如 $\\lambda$ 的实部 $a>0$，$x( \\infty )\\rightarrow \\infty$。对于这样的系统，我们就称其为不稳定的系统。而当 $a<0$ 是时候 $x( \\infty )\\rightarrow constant$。系统最终会稳定一个状态不再发生改变。\n",
    "\n",
    "![系统的稳定与不稳定](./pics/stable.png)"
   ]
  },
  {
   "cell_type": "markdown",
   "metadata": {},
   "source": [
    "> 上图中的坐标系为复数坐标系，横轴为实轴(Re)，纵轴为虚轴(Im)\n",
    "\n",
    "在复数坐标系，如果 $\\lambda$ 在左半侧，系统稳定，右半侧不稳定。"
   ]
  },
  {
   "cell_type": "markdown",
   "metadata": {},
   "source": [
    "从状态方程（暂时不考虑输入） $\\dot{x} = Ax$ 的角度来看。我们可以画出下面几种类型的相图(Phase diagram) 来看系统的稳定与否\n",
    "\n",
    "其中：$x_2 = \\frac{dx_1}{dt}$\n",
    "\n",
    "![ ](./pics/phase1.png)\n",
    "\n",
    "![相图类型](./pics/phase2.png)\n",
    "\n"
   ]
  },
  {
   "cell_type": "markdown",
   "metadata": {},
   "source": [
    "### 2.3 离散时间表达式 (Discrete time expression)\n",
    "\n",
    "之前的所有表达式都是基于连续时间写出来的。而在离散时间（计算系统）中，我们的系统表达式为：\n",
    "\n",
    "$$\n",
    "x_{k+1} = \\tilde{A}x_k\\qquad x_k = x(k\\Delta t)\n",
    "$$\n",
    "\n",
    "$$\n",
    "\\tilde{A} = e^{A\\Delta t}\n",
    "$$"
   ]
  },
  {
   "cell_type": "markdown",
   "metadata": {},
   "source": [
    "由此可得系统状态随时间变化的表达式为：\n",
    "\n",
    "$$\n",
    "\\begin{aligned}\n",
    "x_1 &= \\tilde{A}^1 x_0 \\\\   \n",
    "x_2 &= \\tilde{A}^2 x_0  \\\\  \n",
    "\\vdots\\\\\n",
    "x_N &= \\tilde{A}^N x_0    \\\\\n",
    "\\end{aligned}\n",
    "$$"
   ]
  },
  {
   "cell_type": "markdown",
   "metadata": {},
   "source": [
    "当 $t=N, N\\rightarrow \\infty$ 的时候，$x_N \\propto \\lambda ^N$ 。\n",
    "\n",
    "这时，我们用欧拉方程可以得到：\n",
    "\n",
    "$$\\lambda = Re^{i\\theta}$$\n",
    "\n",
    "![欧拉角](./pics/euler.png)\n",
    "\n",
    "则：\n",
    "\n",
    "$$\\lambda^N = R^Ne^{Ni\\theta}$$\n"
   ]
  },
  {
   "cell_type": "markdown",
   "metadata": {},
   "source": [
    "这里的 $e^{Ni\\theta}$ 只会改变向量的角度。而$R^N$ 则会改变 $\\lambda$ 的大小。因此，要想使得系统稳定，则需要使得 $R<1$。\n",
    "\n",
    "![离散系统的稳定性图](./pics/Stable-and-unstable-regions-for-pole-locations-in-the-z-plane.png)"
   ]
  },
  {
   "cell_type": "markdown",
   "metadata": {},
   "source": [
    "## 3. Matlab \n",
    "\n",
    "在 Matlab 中也可以使用 `pzmap( )` 画出动态系统的极点和零点图，比如："
   ]
  },
  {
   "cell_type": "code",
   "execution_count": 3,
   "metadata": {},
   "outputs": [
    {
     "name": "stdout",
     "output_type": "stream",
     "text": [
      "\n",
      "H =\n",
      " \n",
      "  2 s^2 + 5 s + 1\n",
      "  ---------------\n",
      "   s^2 + 3 s + 5\n",
      " \n",
      "Continuous-time transfer function.\n",
      "\n",
      "\n"
     ]
    },
    {
     "data": {
      "image/png": "[encoded data removed]",
      "text/plain": [
       "<IPython.core.display.Image object>"
      ]
     },
     "metadata": {},
     "output_type": "display_data"
    }
   ],
   "source": [
    "H = tf([2 5 1],[1 3 5])\n",
    "pzmap(H)\n",
    "grid on"
   ]
  },
  {
   "cell_type": "markdown",
   "metadata": {},
   "source": [
    "- 上篇：[ACnD 1. 状态空间 -- 练习](https://zhuanlan.zhihu.com/p/467039497)\n",
    "- 下篇：[]()"
   ]
  }
 ],
 "metadata": {
  "kernelspec": {
   "display_name": "Matlab",
   "language": "matlab",
   "name": "matlab"
  },
  "language_info": {
   "codemirror_mode": "octave",
   "file_extension": ".m",
   "help_links": [
    {
     "text": "MetaKernel Magics",
     "url": "https://metakernel.readthedocs.io/en/latest/source/README.html"
    }
   ],
   "mimetype": "text/x-octave",
   "name": "matlab",
   "version": "0.16.11"
  },
  "orig_nbformat": 4
 },
 "nbformat": 4,
 "nbformat_minor": 2
}
