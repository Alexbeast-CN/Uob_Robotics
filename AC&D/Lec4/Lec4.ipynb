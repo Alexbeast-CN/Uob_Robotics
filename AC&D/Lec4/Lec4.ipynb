{
 "cells": [
  {
   "cell_type": "markdown",
   "metadata": {},
   "source": [
    "# ACnD 4. 设计控制器 (Contorller Design)\n",
    "\n",
    "## 1. 引例\n",
    "\n",
    "### 1.1 问题描述\n",
    "\n",
    "现在我们要设计一个控制器，使一个小车上的倒单摆 (Inverted Pendulum) 可以保持平衡（不倒）。该示例如下图所示：\n",
    "\n",
    "![倒单摆平衡车参数说明](./pics/pendulum1.png)"
   ]
  },
  {
   "cell_type": "markdown",
   "metadata": {},
   "source": [
    "参数描述：\n",
    "\n",
    "|符号|描述|量|\n",
    "| - | - | - |\n",
    "|(M)       |车的质量             |5 kg|\n",
    "|(m)       |摆的质量             |1 kg|\n",
    "|(b)       |推车摩擦系数         |1 N/m/sec|\n",
    "|(l)       |到摆质心的长度        |2 m|\n",
    "|(g)       |重力                 |-10 m/s^2|\n",
    "|(F)       |施加在推车上的力| |\n",
    "|(x)       |车位置坐标| |\n",
    "|(theta)   |摆角| |"
   ]
  },
  {
   "cell_type": "markdown",
   "metadata": {},
   "source": [
    "### 1.2 问题分析和建模\n",
    "\n",
    "该例题的状态可以由车的位置，速度，摆的角度和角速度来描述：\n",
    "\n",
    "$$\n",
    "x = \\begin{bmatrix}\n",
    "    x \\\\ \\dot{x} \\\\ \\theta \\\\ \\dot{\\theta}\n",
    "\\end{bmatrix}\n",
    "$$\n",
    "\n",
    "现在我们对系统进行力学分析，可以得到以下的非线性方程：\n",
    "\n",
    "$$\n",
    "\\begin{aligned}\n",
    "    &\\dot{x} = v\\\\\n",
    "    &\\ddot{x} = \\frac{-m^2L^2gcos(\\theta)+mL^2(mL\\omega^2sin(\\theta)-\\delta v)+mL^2u}{mL^2(M+m(1-cos(\\theta)^2))}\\\\\n",
    "    &\\dot{\\theta} = \\omega\\\\\n",
    "    &\\ddot{\\theta} = \\frac{(M+m)mgLsin(\\theta)-mLcos(\\theta)(mL\\omega^2sin(\\theta)-\\delta v)+mLcos(\\theta)u}{mL^2(M+m(1-cos(\\theta)^2))}\n",
    "\\end{aligned}\n",
    "$$\n",
    "\n",
    "> 想要了解具体怎么算出来的同学可以查看:\n",
    "> - [MIT Opencourseware | R8. Cart and Pendulum, Lagrange Method](https://www.youtube.com/watch?v=-QVENB3aEvY&ab_channel=MITOpenCourseWare)\n",
    "> - [Control Tutorials for Matlab](https://ctms.engin.umich.edu/CTMS/index.php?example=InvertedPendulum&section=SystemModeling)\n",
    "\n"
   ]
  },
  {
   "cell_type": "markdown",
   "metadata": {},
   "source": [
    "然后我们来找一下此问题的平衡点(Fixed points)。很明显的，当单摆垂直向下且静止或垂直向上且静止的时候，该系统处于平衡状态。且该状态不论小车在哪里都可能存在，即 $x$ 在不受约束。现在我们设定，当单摆向上静止的时候，$\\theta = \\pi$，向下为 $\\theta = 0$。此时，其他的状态量为：$\\dot{\\theta} = 0, \\dot{x} = 0$。\n",
    "\n",
    "除此之外，系统在此平衡点附近时，可以较为轻松将非线性的状态方程转换成线性的。因为，在 $\\theta = \\pi$ 附近，三角函数有以下的近似关系：\n",
    "\n",
    "$$\n",
    "\\begin{aligned}\n",
    "&cos\\theta = cos(\\pi + \\Phi) \\approx -1\\\\\n",
    "&sin\\theta = sin(\\pi + \\Phi) \\approx -\\Phi\\\\\n",
    "&\\dot{\\theta}^2 = \\dot{\\Phi}^2 \\approx 0\n",
    "\\end{aligned}\n",
    "$$\n",
    "\n",
    "在 $\\theta = 0$ 附近时：\n",
    "\n",
    "$$\n",
    "\\begin{aligned}\n",
    "&cos\\theta = cos(\\Phi) \\approx 1\\\\\n",
    "&sin\\theta = sin(\\Phi) \\approx \\Phi\\\\\n",
    "&\\dot{\\theta}^2 = \\dot{\\Phi}^2 \\approx 0\n",
    "\\end{aligned}\n",
    "$$"
   ]
  },
  {
   "cell_type": "markdown",
   "metadata": {},
   "source": [
    "由此我们可以得到系统的状态方程：\n",
    "\n",
    "$$\n",
    "\\frac{d}{dt}\\begin{bmatrix}\n",
    "    x_1 \\\\ x_2 \\\\ x_3 \\\\ x_4\n",
    "\\end{bmatrix} = \n",
    "\\begin{bmatrix}\n",
    "    0 & 1 & 0 & 0\\\\\n",
    "    0 & -\\frac{\\delta}{M} & b\\frac{mg}{M} & 0\\\\\n",
    "    0 & 0 & 0 & 1\\\\\n",
    "    0 & -b\\frac{\\delta}{ML} & -b\\frac{(m+M)g}{ML} & 0\n",
    "\\end{bmatrix}\n",
    "\\begin{bmatrix}\n",
    "    x_1 \\\\ x_2 \\\\ x_3 \\\\ x_4\n",
    "\\end{bmatrix} + \n",
    "\\begin{bmatrix}\n",
    "    0 \\\\ \\frac{1}{M} \\\\ 0 \\\\ b\\frac{1}{ML}\n",
    "\\end{bmatrix} u, \\,\n",
    "for \\,\n",
    "\\begin{bmatrix}\n",
    "    x_1 \\\\ x_2 \\\\ x_3 \\\\ x_4\n",
    "\\end{bmatrix} = \n",
    "\\begin{bmatrix}\n",
    "    x \\\\ v \\\\ \\theta \\\\ \\omega\n",
    "\\end{bmatrix}\n",
    "$$"
   ]
  },
  {
   "cell_type": "markdown",
   "metadata": {},
   "source": [
    "其中当 b = 1 时，代表 $\\theta \\approx \\pi$，即接近上平衡点； b = -1 时，代表 $\\theta \\approx 0$，即接近下平衡点。"
   ]
  },
  {
   "cell_type": "markdown",
   "metadata": {},
   "source": [
    "### 1.3 Matlab 实现\n",
    "\n",
    "> 在进行下面的部分之前，请先下载 [本例题的代码仓库](https://github.com/rsatwik/Steve_Brunton_Control_Bootcamp)。后续代码中的一些函数会直接从该仓库中调用。\n",
    "\n",
    "\n",
    "下面将之前已经得出的式子输入到 Matlab 中：\n",
    "\n",
    "首先是非线性的系统方程："
   ]
  },
  {
   "cell_type": "code",
   "execution_count": null,
   "metadata": {},
   "outputs": [],
   "source": [
    "function dy = cartpend(y,m,M,L,g,d,u)\n",
    "\n",
    "    Sy = sin(y(3));\n",
    "    Cy = cos(y(3));\n",
    "    D = m*L*L*(M+m*(1-Cy^2));\n",
    "    \n",
    "    dy(1,1) = y(2);\n",
    "    dy(2,1) = (1/D)*(-m^2*L^2*g*Cy*Sy + m*L^2*(m*L*y(4)^2*Sy - d*y(2))) + m*L*L*(1/D)*u;\n",
    "    dy(3,1) = y(4);\n",
    "    dy(4,1) = (1/D)*((m+M)*m*g*L*Sy - m*L*Cy*(m*L*y(4)^2*Sy - d*y(2))) - m*L*Cy*(1/D)*u +.01*randn;"
   ]
  },
  {
   "cell_type": "markdown",
   "metadata": {},
   "source": [
    "然后是在上平衡点附近的系统方程："
   ]
  },
  {
   "cell_type": "code",
   "execution_count": 2,
   "metadata": {},
   "outputs": [
    {
     "name": "stdout",
     "output_type": "stream",
     "text": [
      "\n"
     ]
    }
   ],
   "source": [
    "clear all, close all, clc\n",
    "m = 1; M = 5; L = 2; g = -10; d = 1;\n",
    "b = 1; % Pendulum up (b=1)\n",
    "A = [0 1 0 0;\n",
    "    0 -d/M b*m*g/M 0;\n",
    "    0 0 0 1;\n",
    "    0 -b*d/(M*L) -b*(m+M)*g/(M*L) 0];\n",
    "B = [0; 1/M; 0; b*1/(M*L)];"
   ]
  },
  {
   "cell_type": "markdown",
   "metadata": {},
   "source": [
    "然后，我们可以通过之前学过的知识，查看开环系统的稳定性和可控性："
   ]
  },
  {
   "cell_type": "code",
   "execution_count": 3,
   "metadata": {},
   "outputs": [
    {
     "name": "stdout",
     "output_type": "stream",
     "text": [
      "\n",
      "lambda =\n",
      "\n",
      "         0\n",
      "   -2.4311\n",
      "   -0.2336\n",
      "    2.4648\n",
      "\n",
      "\n"
     ]
    }
   ],
   "source": [
    "lambda = eig(A)"
   ]
  },
  {
   "cell_type": "markdown",
   "metadata": {},
   "source": [
    "由于 $\\lambda$ 的最后一项为正，因此开环系统是不稳定的。\n",
    "\n",
    "再看其可控性："
   ]
  },
  {
   "cell_type": "code",
   "execution_count": 4,
   "metadata": {},
   "outputs": [
    {
     "name": "stdout",
     "output_type": "stream",
     "text": [
      "The system is controllable\n",
      "\n"
     ]
    }
   ],
   "source": [
    "P = ctrb(A,B);\n",
    "\n",
    "[c,r] = size(P);\n",
    "if rank(P) == min(c,r)\n",
    "    disp('The system is controllable');\n",
    "else\n",
    "    disp('The system is not controllable');\n",
    "end"
   ]
  },
  {
   "cell_type": "markdown",
   "metadata": {},
   "source": [
    "很好，系统是可控的，那么接下来我们就要设计一个控制器使得系统可以稳定在上平衡点。如下图所示：\n",
    "\n",
    "![倒单摆平衡车](./pics/inverted_Pendulum_on_a_Cart.gif)\n",
    "\n"
   ]
  },
  {
   "cell_type": "markdown",
   "metadata": {},
   "source": [
    "## 2. 控制器的设计\n",
    "\n",
    "设计控制器，实际上就是找到一个合适的输入量 $u(t)$ 使得系统在指定时间或限定能量下达到我们预期的状态或输出。\n",
    "\n",
    "![控制器框图](./pics/control_sys.png)\n",
    "\n",
    "本文主要介绍**全状态反馈控制** (full state feedback control)\n",
    "\n",
    "其框图如下：\n",
    "\n",
    "![全状态反馈控制](./pics/full-state.png)"
   ]
  },
  {
   "cell_type": "markdown",
   "metadata": {},
   "source": [
    "全状态反馈控制，顾名思义就是将系统的所有状态量输入到反馈环节，经过一定程度的放大后再作为系统的输入量，输入模型。因此模型输入量的表达式为：$u = -kx$。那么系统的状态方程就可以写作：\n",
    "\n",
    "$$\n",
    "\\begin{aligned}    \n",
    "\\dot{x} &= Ax - Bkx\\\\\n",
    "\\dot{x} &= (A-Bk)x\n",
    "\\end{aligned}\n",
    "$$\n",
    "\n",
    "而，$A-Bk$ 即为闭环系统 (Closed loop system) 的状态矩阵，记作：$A_{cl}=A-Bk$。"
   ]
  },
  {
   "cell_type": "markdown",
   "metadata": {},
   "source": [
    "### 2.1 极点布置 (Pole Placement)\n",
    "\n",
    "之前讲稳定性的时候提到过，当系统的特征值 $\\lambda$ 都为负数时，系统便是稳定的。而极点布置的意思，就是通过改变 $k$ 值，从而将 $A_{cl}$ 的特征值转变为我们需要的值，从而改变系统的稳定性和时域表现。\n",
    "\n",
    "依然以上面的倒单摆为例，之前我们的特质值为："
   ]
  },
  {
   "cell_type": "code",
   "execution_count": 5,
   "metadata": {},
   "outputs": [
    {
     "name": "stdout",
     "output_type": "stream",
     "text": [
      "\n",
      "lambda =\n",
      "\n",
      "         0\n",
      "   -2.4311\n",
      "   -0.2336\n",
      "    2.4648\n",
      "\n",
      "\n"
     ]
    }
   ],
   "source": [
    "lambda"
   ]
  },
  {
   "cell_type": "markdown",
   "metadata": {},
   "source": [
    "现在我们通过极点布置的方法让特征值变成：[-1.1; -1.2; -1.3; -1.4]。在 Matlab 中，我们只需要使用方程 `K = place(A,B,eigs)` 便可以求出一个能改变特征值的 `K` 值。"
   ]
  },
  {
   "cell_type": "code",
   "execution_count": 6,
   "metadata": {},
   "outputs": [
    {
     "name": "stdout",
     "output_type": "stream",
     "text": [
      "\n",
      "K =\n",
      "\n",
      "   -1.7160   -6.5357  156.9320   61.0714\n",
      "\n",
      "\n"
     ]
    }
   ],
   "source": [
    "eigs = [-1.1; -1.2; -1.3; -1.4];\n",
    "K = place(A,B,eigs)"
   ]
  },
  {
   "cell_type": "markdown",
   "metadata": {},
   "source": [
    "现在我们再来看一下闭环系统的特征值："
   ]
  },
  {
   "cell_type": "code",
   "execution_count": 7,
   "metadata": {},
   "outputs": [
    {
     "name": "stdout",
     "output_type": "stream",
     "text": [
      "\n",
      "ans =\n",
      "\n",
      "   -1.4000\n",
      "   -1.3000\n",
      "   -1.2000\n",
      "   -1.1000\n",
      "\n",
      "\n"
     ]
    }
   ],
   "source": [
    "eig(A-B*K)"
   ]
  },
  {
   "cell_type": "markdown",
   "metadata": {},
   "source": [
    "我们之所以能做到通过修改 k 而改变特征值，是因为我们的系统是可控的。\n",
    "\n",
    "> 这里我也不知道为什么的出来的值与我设置的顺序相反。\n",
    "\n",
    "下面，我们就利用这个控制器，设置初始条件为：\n",
    "\n",
    "$$\n",
    "x_0 = \n",
    "\\begin{bmatrix}\n",
    "    x \\\\ v \\\\ \\theta \\\\ \\omega\n",
    "\\end{bmatrix}=\n",
    "\\begin{bmatrix}\n",
    "    -3\\\\ 0\\\\ \\pi+0.1(rad)\\\\ 0\n",
    "\\end{bmatrix}\n",
    "$$"
   ]
  },
  {
   "cell_type": "code",
   "execution_count": null,
   "metadata": {},
   "outputs": [],
   "source": [
    "tspan = 0:.001:10;\n",
    "if(s==-1)\n",
    "    y0 = [0; 0; 0; 0];\n",
    "    [t,y] = ode45(@(t,y)cartpend(y,m,M,L,g,d,-K*(y-[4; 0; 0; 0])),tspan,y0);\n",
    "elseif(s==1)\n",
    "    y0 = [-3; 0; pi+.1; 0];\n",
    "%     [t,y] = ode45(@(t,y)cartpend(y,m,M,L,g,d,-K*(y-[1; 0; pi; 0])),tspan,y0);\n",
    "    [t,y] = ode45(@(t,y)cartpend(y,m,M,L,g,d,-K*(y-[1; 0; pi; 0])),tspan,y0);\n",
    "else \n",
    "end\n",
    "\n",
    "for k=1:100:length(t)\n",
    "    drawcartpend_bw(y(k,:),m,M,L);\n",
    "end"
   ]
  },
  {
   "cell_type": "markdown",
   "metadata": {},
   "source": [
    "> - 这里我们调用的 `cartpend()` 是非线性方程\n",
    "> - 因此我们使用 `ode45` 来求解非线性方程\n",
    "> - 最后使用 `drawcartpend_bw()` 将模型的演示画出来\n",
    "> - 其中 `cartpend()` 和 `drawcartpend_bw()` 来自 [本例题的代码仓库](https://github.com/rsatwik/Steve_Brunton_Control_Bootcamp)，后文中也有类似情况，不再注释。"
   ]
  },
  {
   "cell_type": "markdown",
   "metadata": {},
   "source": [
    "![极点布置](./pics/poleplacement.gif)"
   ]
  },
  {
   "cell_type": "markdown",
   "metadata": {},
   "source": [
    "看起来效果很不错，那么我们修改一下特征值再试一下：\n",
    "\n",
    "- eigs = [-2; -2.1; -2.2; -2.3]\n",
    "\n",
    "\n",
    "![更快的稳定](./pics/poleplacement2.gif)\n"
   ]
  },
  {
   "cell_type": "markdown",
   "metadata": {},
   "source": [
    "- eigs = [-0.3; -0.4; -0.5; -0.6]\n",
    "\n",
    "![很慢的平衡](./pics/poleplacement3.gif)"
   ]
  },
  {
   "cell_type": "markdown",
   "metadata": {},
   "source": [
    "- eigs = [-0.01; -0.02; -0.03; -0.04]\n",
    "\n",
    "![无法平衡](./pics/unstable.gif)"
   ]
  },
  {
   "cell_type": "markdown",
   "metadata": {},
   "source": [
    "由上面的几次测试可以看出，当我们布置的极点的实部越靠左，系统稳定的就越快，而越靠近虚轴，则稳定性越差。因此我们通常会选择一个速度合适的可以收敛到稳定状态的极点。\n",
    "\n",
    "![稳定性坐标轴](./pics/pole_cor.png)"
   ]
  },
  {
   "cell_type": "markdown",
   "metadata": {},
   "source": [
    "> 值得注意的是，极值越靠左，对电脑性能的要求越高，我的 12 代 i7 在 p = -8 的时候就算不出来。由于模型系统的非线性，过猛的操作在现实中可能会使得模型坏掉。"
   ]
  },
  {
   "cell_type": "markdown",
   "metadata": {},
   "source": [
    "### 2.2. LQR 控制器\n",
    "\n",
    "在使用极点布置的过程中，我们说要选择一个合适的极点。但选择合适极点的方式则是通过不断的试错。最后虽然找到了不错的极点，但这种试错的方式实在不雅观。所以，为了量化这个这个过程，我们引入了LQR 控制器。 LQR 是 Linear Quadratic Regulator 的缩写，中文意思是线性二次型调节器。之所以这么叫是因为该控制器的核心是一个代价函数：\n",
    "\n",
    "$$\n",
    "min(J) = \\int_0^\\infty(x^TQx+u^TRu)dt\n",
    "$$"
   ]
  },
  {
   "cell_type": "markdown",
   "metadata": {},
   "source": [
    "其中 $Q$ 是一个非负的对角矩阵，比如：\n",
    "\n",
    "$$\n",
    "Q = \\begin{bmatrix}\n",
    "    1 & & &\\\\\n",
    "    & 1 & &\\\\\n",
    "    & & 10 &\\\\\n",
    "    & & & 100\n",
    "\\end{bmatrix}\n",
    "$$\n",
    "\n",
    "我们越看重某一个状态量，我们就应该给那个状态量越大的 Q 值。\n",
    "\n",
    "$R$ 是一个矢量，比如 $R = 0.001$。这个值用于衡量输入量/能量，对我们的价值。如果我们的能力非常的贵，比如一枚火星探测器的能量，那我们就会给系统一个较大的 $R$。"
   ]
  },
  {
   "cell_type": "markdown",
   "metadata": {},
   "source": [
    "通过对 $R$ 和 $Q$ 的设置，我们可以计算出一个 $K$ 矩阵，使得我们的代价函数 $J$ 最小。\n",
    "\n",
    "在 Matlab 中，我们只需要使用函数 `K = lqr(A,B,Q,R)` 便可以得到我们想要的 K 值。"
   ]
  },
  {
   "cell_type": "markdown",
   "metadata": {},
   "source": [
    "现在我们将 $Q$ 和 $R$ 分别按照上面示例的数值进行设置，然后计算 K 值\n",
    "\n"
   ]
  },
  {
   "cell_type": "code",
   "execution_count": 4,
   "metadata": {},
   "outputs": [
    {
     "name": "stdout",
     "output_type": "stream",
     "text": [
      "   1.0e+03 *\n",
      "\n",
      "   -0.1000   -0.2280    2.9670    1.5006\n",
      "\n",
      "\n"
     ]
    }
   ],
   "source": [
    "Q = [1 0 0 0;\n",
    "    0 1 0 0;\n",
    "    0 0 10 0;\n",
    "    0 0 0 100];\n",
    "\n",
    "R = .0001;\n",
    "\n",
    "K = lqr(A,B,Q,R);\n",
    "\n",
    "disp(K)"
   ]
  },
  {
   "cell_type": "markdown",
   "metadata": {},
   "source": [
    "在将 K 输入到我们的模拟器中，便可以得到一个效果不错的仿真动画：\n",
    "\n",
    "![LQR控制器仿真](./pics/lqr_sim.gif)"
   ]
  },
  {
   "cell_type": "markdown",
   "metadata": {},
   "source": [
    "此外，我们也可以通过计算出的 K 值，找到当前参数下系统的特征值："
   ]
  },
  {
   "cell_type": "code",
   "execution_count": 5,
   "metadata": {},
   "outputs": [
    {
     "name": "stdout",
     "output_type": "stream",
     "text": [
      "\n",
      "eigs =\n",
      "\n",
      "   1.0e+02 *\n",
      "\n",
      "  -1.0204 + 0.0000i\n",
      "  -0.0088 + 0.0090i\n",
      "  -0.0088 - 0.0090i\n",
      "  -0.0087 + 0.0000i\n",
      "\n",
      "\n"
     ]
    }
   ],
   "source": [
    "eigs = eig(A-B*K)"
   ]
  },
  {
   "cell_type": "markdown",
   "metadata": {},
   "source": [
    "> 但 LQR 的计算量很大，其时间复杂度为 $O(n^3)$，其中 $n$ 是状态量 $x$ 的维度。所以，假如我们的系统有 1000 个状态量，那么计算这个值还是比较耗时的。"
   ]
  }
 ],
 "metadata": {
  "kernelspec": {
   "display_name": "Matlab",
   "language": "matlab",
   "name": "matlab"
  },
  "language_info": {
   "codemirror_mode": "octave",
   "file_extension": ".m",
   "help_links": [
    {
     "text": "MetaKernel Magics",
     "url": "https://metakernel.readthedocs.io/en/latest/source/README.html"
    }
   ],
   "mimetype": "text/x-octave",
   "name": "matlab",
   "version": "0.16.11"
  },
  "orig_nbformat": 4
 },
 "nbformat": 4,
 "nbformat_minor": 2
}
