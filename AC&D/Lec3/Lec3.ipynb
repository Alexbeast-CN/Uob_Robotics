{
 "cells": [
  {
   "cell_type": "markdown",
   "metadata": {},
   "source": [
    "# ACnD 3. 可控性与可观测性 (Controllablity and Obeservablity)\n",
    "\n",
    "## 1. 可控性 (Controllablity)\n",
    "\n",
    "### 1.1. 直观的理解\n",
    "\n",
    "对于一个状态空间系统来说，我们说一个系统是可控的，就是说系统的状态可以被输入量控制到我们想到的位置。\n",
    "\n",
    "比如，下面的一个水池灌水的例子：\n",
    "\n",
    "![例子](./pics/example.png)"
   ]
  },
  {
   "cell_type": "markdown",
   "metadata": {},
   "source": [
    "这里的输入量是水的净流入量 $u$（流入-流出）。而系统的状态是水池的深度 $x$。那么系统的状态方程就可以被写成：\n",
    "\n",
    "$$\n",
    "\\dot{x} = Ax + Bu\n",
    "$$"
   ]
  },
  {
   "cell_type": "markdown",
   "metadata": {},
   "source": [
    "对于该系统来说，我们可以直观的感受到，水池的深度可以被输入量直接控制，所以是一个可控系统。"
   ]
  },
  {
   "cell_type": "markdown",
   "metadata": {},
   "source": [
    "关于可控性更加准确的定义是：\n",
    "\n",
    "**如果存在一个不受约束的控制量 $u(t)$，使得系统的初始状态 $x(t_0)$ 在有限时间 $t_0 \\leq t \\leq T$ 转变到一个我们期望的状态 $x(t)$，则称系统是可控的。**"
   ]
  },
  {
   "cell_type": "markdown",
   "metadata": {},
   "source": [
    "###  1.2 判断方法\n",
    "\n",
    "对于系统：\n",
    "\n",
    "$$\n",
    "\\dot{x} = Ax + Bu\n",
    "$$\n",
    "\n",
    "我们可以使用一个矩阵 $P$ 来判断：\n",
    "\n",
    "$$\n",
    "P = \n",
    "\\begin{bmatrix}\n",
    "    B &AB &A^2B &... & A^{n-1}B\n",
    "\\end{bmatrix}\n",
    "$$"
   ]
  },
  {
   "cell_type": "markdown",
   "metadata": {},
   "source": [
    "当 $P$ 满秩，则说明系统是可控的。\n",
    "\n",
    "我们来看一个例子：\n",
    "\n",
    "$$\n",
    "\\begin{bmatrix}\n",
    "    \\dot{x_1}\\\\\n",
    "    \\dot{x_2}\n",
    "\\end{bmatrix} = \n",
    "\\begin{bmatrix}\n",
    "    0 & 1\\\\\n",
    "    0 & 2\n",
    "\\end{bmatrix}\n",
    "\\begin{bmatrix}\n",
    "    x_1 \\\\ x_2\n",
    "\\end{bmatrix}+\n",
    "\\begin{bmatrix}\n",
    "    0 \\\\ 1\n",
    "\\end{bmatrix}u\n",
    "$$\n",
    "\n",
    "可以计算出 $P$:\n",
    "\n",
    "$$\n",
    "P =\n",
    "\\begin{bmatrix}\n",
    "    B & AB\n",
    "\\end{bmatrix}=\n",
    "\\begin{bmatrix}\n",
    "    \\begin{bmatrix}\n",
    "        0 \\\\ 1\n",
    "    \\end{bmatrix}\n",
    "    &\\begin{bmatrix}\n",
    "        1 & 0\\\\\n",
    "        0 & 2\\\\\n",
    "    \\end{bmatrix}\n",
    "    \\begin{bmatrix}\n",
    "        0 \\\\ 1\n",
    "    \\end{bmatrix}\n",
    "\\end{bmatrix}=\n",
    "\\begin{bmatrix}\n",
    "    0 & 0\\\\\n",
    "    1 & 2\\\\\n",
    "\\end{bmatrix}\n",
    "$$"
   ]
  },
  {
   "cell_type": "markdown",
   "metadata": {},
   "source": [
    "该矩阵的秩为 $Rank = 1$。因此该系统是不可控的。我们从系统状态方程也可以直观的感受出来，系统的 $\\dot{x_2}$ 是可以被 $u$ 影响的，但 $x_1$ 并不被影响。因此我们说系统不受控制。"
   ]
  },
  {
   "cell_type": "markdown",
   "metadata": {},
   "source": [
    "对于不受控的系统，我们也可以通过计算 $P$ 的行列式。如果 $det(P) = 0$，就说明 $P$ 不是满秩的。"
   ]
  },
  {
   "cell_type": "markdown",
   "metadata": {},
   "source": [
    "### 1.3 Matlab 实现\n",
    "\n",
    "我们举一个稍微复杂一点的例子：\n",
    "\n",
    "$$\n",
    "\\begin{bmatrix}\n",
    "    \\dot{x_1}\\\\\n",
    "    \\dot{x_2}\\\\\n",
    "    \\dot{x_3}\n",
    "\\end{bmatrix} =\n",
    "\\begin{bmatrix}\n",
    "    0 & 1 & 0\\\\\n",
    "    0 & 0 & 1\\\\\n",
    "    -2 & -3 & -5\n",
    "\\end{bmatrix}\n",
    "\\begin{bmatrix}\n",
    "    x_1 \\\\ x_2 \\\\ x_3\n",
    "\\end{bmatrix} +\n",
    "\\begin{bmatrix}\n",
    "    0\\\\0\\\\1\n",
    "\\end{bmatrix}u\n",
    "$$"
   ]
  },
  {
   "cell_type": "markdown",
   "metadata": {},
   "source": [
    "下面，我们用 Matlab 来判断该系统是否是可控的。"
   ]
  },
  {
   "cell_type": "code",
   "execution_count": 4,
   "metadata": {},
   "outputs": [
    {
     "name": "stdout",
     "output_type": "stream",
     "text": [
      "\n",
      "P =\n",
      "\n",
      "     0     0     1\n",
      "     0     1    -5\n",
      "     1    -5    22\n",
      "\n",
      "The system is controllable\n",
      "\n"
     ]
    }
   ],
   "source": [
    "A = [0 1 0; 0 0 1; -2 -3 -5];\n",
    "B = [0; 0; 1];\n",
    "\n",
    "P = ctrb(A,B)\n",
    "\n",
    "[c,r] = size(P);\n",
    "if rank(P) == min(c,r)\n",
    "    disp('The system is controllable');\n",
    "else\n",
    "    disp('The system is not controllable');\n",
    "end"
   ]
  },
  {
   "cell_type": "markdown",
   "metadata": {},
   "source": [
    "当然，我们也可以来计算一下 $P$ 的行列式"
   ]
  },
  {
   "cell_type": "code",
   "execution_count": 3,
   "metadata": {},
   "outputs": [
    {
     "name": "stdout",
     "output_type": "stream",
     "text": [
      "\n",
      "ans =\n",
      "\n",
      "    -1\n",
      "\n",
      "The system is controllable\n",
      "\n"
     ]
    }
   ],
   "source": [
    "det(P)\n",
    "\n",
    "if det(P) == 0\n",
    "    disp('The system is not controllable');\n",
    "else\n",
    "    disp('The system is controllable');\n",
    "end"
   ]
  },
  {
   "cell_type": "markdown",
   "metadata": {},
   "source": [
    "系统是可控的！现在我们回看该系统。我们发现，该系统只有一个输入输入量 $u_3$，且只能直接控制 $x_3$。但实际上，我们只用了着一个输入量控制了整个系统的三个状态量。因为其他两个状态也会影响到 $x_3$ 的变化，因此，$u_3$ 可以间接控制其他两个状态量。"
   ]
  },
  {
   "cell_type": "markdown",
   "metadata": {},
   "source": [
    "## 2. 可观测性 (Obeservablity)\n",
    "\n",
    "### 2.1 定义与判断：\n",
    "\n",
    "**当且仅当一个系统的初始状态 $x_0$ ，在给定控制量 $u(t)$ 的情况下，可以被在有限时间范围内的历史输出量 $y(t) \\quad 0  \\leq t \\leq T$ 得到。则说明该系统是可观测的。**\n",
    "\n",
    "要判读一个状态系统\n",
    "\n",
    "$$\n",
    "\\begin{aligned}\n",
    "\\dot{x} = Ax + Bu\\\\\n",
    "y = Cx + Du    \n",
    "\\end{aligned}\n",
    "$$\n",
    "\n",
    "是否可观测，可以通过 $R$ 矩阵实现。\n",
    "\n",
    "$$\n",
    "R = \\begin{bmatrix}\n",
    "    C\\\\\n",
    "    CA\\\\\n",
    "    \\vdots\\\\\n",
    "    CA^{n-1}\n",
    "\\end{bmatrix}\n",
    "$$"
   ]
  },
  {
   "cell_type": "markdown",
   "metadata": {},
   "source": [
    "如果 $R$ 矩阵是满秩的则说明系统是可观测的，相反则不可观测。"
   ]
  },
  {
   "cell_type": "markdown",
   "metadata": {},
   "source": [
    "### 2.2 例子\n",
    "\n",
    "这里我们依然用之前的三阶系统为例，用 Matlab 判断系统是否可观测。\n",
    "\n",
    "$$\n",
    "   \\begin{bmatrix}\n",
    "    \\dot{x_1}\\\\\n",
    "    \\dot{x_2}\\\\\n",
    "    \\dot{x_3}\n",
    "\\end{bmatrix} =\n",
    "\\begin{bmatrix}\n",
    "    0 & 1 & 0\\\\\n",
    "    0 & 0 & 1\\\\\n",
    "    -2 & -3 & -5\n",
    "\\end{bmatrix}\n",
    "\\begin{bmatrix}\n",
    "    x_1 \\\\ x_2 \\\\ x_3\n",
    "\\end{bmatrix} +\n",
    "\\begin{bmatrix}\n",
    "    0\\\\0\\\\1\n",
    "\\end{bmatrix}u\\\\\n",
    "$$\n",
    "\n",
    "$$\n",
    "y =\n",
    "\\begin{bmatrix}\n",
    "    1 & 0& 0\n",
    "\\end{bmatrix}x\n",
    "$$"
   ]
  },
  {
   "cell_type": "code",
   "execution_count": 2,
   "metadata": {},
   "outputs": [
    {
     "name": "stdout",
     "output_type": "stream",
     "text": [
      "\n",
      "R =\n",
      "\n",
      "     1     0     0\n",
      "     0     1     0\n",
      "     0     0     1\n",
      "\n",
      "The system is observable\n",
      "\n"
     ]
    }
   ],
   "source": [
    "A = [0 1 0; 0 0 1; -2 -3 -5];\n",
    "C = [1 0 0];\n",
    "\n",
    "R = obsv(A,C)\n",
    "\n",
    "[c,r] = size(R);\n",
    "\n",
    "if rank(R) == min(c,r)\n",
    "    disp('The system is observable');\n",
    "else\n",
    "    disp('The system is not observable');\n",
    "end"
   ]
  },
  {
   "cell_type": "markdown",
   "metadata": {},
   "source": [
    "- 上篇：[ACnD 2. 稳定性 (Stability)](https://zhuanlan.zhihu.com/p/467088278)\n",
    "- 下篇：[]()"
   ]
  }
 ],
 "metadata": {
  "kernelspec": {
   "display_name": "Matlab",
   "language": "matlab",
   "name": "matlab"
  },
  "language_info": {
   "codemirror_mode": "octave",
   "file_extension": ".m",
   "help_links": [
    {
     "text": "MetaKernel Magics",
     "url": "https://metakernel.readthedocs.io/en/latest/source/README.html"
    }
   ],
   "mimetype": "text/x-octave",
   "name": "matlab",
   "version": "0.16.11"
  },
  "orig_nbformat": 4
 },
 "nbformat": 4,
 "nbformat_minor": 2
}
