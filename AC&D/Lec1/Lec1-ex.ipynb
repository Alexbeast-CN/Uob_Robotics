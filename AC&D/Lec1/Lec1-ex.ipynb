{
 "cells": [
  {
   "cell_type": "markdown",
   "metadata": {},
   "source": [
    "# ACnD 1. 状态空间 -- 练习\n",
    "\n",
    "下方的 RLC 电路图为例。其输入量为一个恒流电源，输出量是电阻两端的电压。\n",
    "\n",
    "![RLC 电路图](./pics/net.png)\n",
    "\n",
    "我们首先我们来确定系统的状态量。这里我们选择两个状态量 $X(t) = (x_1(t), x_2(t))$，其中 $x_1(t)$ 是电容电压 (capacitor voltage) $v_c(t)$，$x_2(t)$ 是电感电流 (inductor  current) $i_L(t)$。这样选择是因为系统所储存的能量可以被这两个状态量所描述：\n",
    "\n",
    "$$\n",
    "E = \\frac{1}{2}L\\,i_L^2(t) + \\frac{1}{2}C\\,V_c^2(t)\n",
    "$$"
   ]
  },
  {
   "cell_type": "markdown",
   "metadata": {},
   "source": [
    "> 一般来说，系统状态量的数量与系统中储能元件的数量一致。\n",
    "\n",
    "对系统，在节点处应用基尔霍夫电流定律可以得到流经电容的电流量 $i_c(t)$：\n",
    "\n",
    "$$\n",
    "i_c(t) = C\\frac{dv_c(t)}{dt} = + u(t) - i_L(t)\n",
    "$$"
   ]
  },
  {
   "cell_type": "markdown",
   "metadata": {},
   "source": [
    "在对右侧的回路使用基尔霍夫电压定律可以得到等式：\n",
    "\n",
    "$$\n",
    "L\\frac{di_L(t)}{dt} = -Ri_L(t) + v_c(t)\n",
    "$$"
   ]
  },
  {
   "cell_type": "markdown",
   "metadata": {},
   "source": [
    "系统的输出量可以被表示为：\n",
    "\n",
    "$$\n",
    "v_o(t) = Ri_L(t)\n",
    "$$"
   ]
  },
  {
   "cell_type": "markdown",
   "metadata": {},
   "source": [
    "由上面的三个等式，我们可以推导处系统的状态变化方程，以及输出方程：\n",
    "\n",
    "$$\n",
    "\\begin{aligned}\n",
    "    \\frac{dx_1(t)}{dt} &= -\\frac{1}{C}x_2(t)  + \\frac{1}{C}u(t)\\\\\n",
    "    \\frac{dx_2(t)}{dt} &= +\\frac{1}{L}x_1(t) - \\frac{R}{L}x_2(t)\\\\\n",
    "    y(t) &= v_o(t) = Rx_2(t) \n",
    "\\end{aligned}\n",
    "$$\n",
    "\n"
   ]
  },
  {
   "cell_type": "markdown",
   "metadata": {},
   "source": [
    "写成矩阵形式就是：\n",
    "\n",
    "$$\n",
    "\\begin{aligned}\n",
    "\\begin{bmatrix}\n",
    "    \\dot{x_1} \\\\ \\dot{x_2}\n",
    "\\end{bmatrix} &= \n",
    "\\begin{bmatrix}\n",
    "    0 & -\\frac{1}{C}\\\\\n",
    "    \\frac{1}{L} & -\\frac{R}{L}\n",
    "\\end{bmatrix} \n",
    "\\begin{bmatrix}\n",
    "    x_1(t) \\\\ x_2(t)\n",
    "\\end{bmatrix}+ \n",
    "\\begin{bmatrix}\n",
    "    \\frac{1}{C} \\\\ 0\n",
    "\\end{bmatrix}\n",
    "u(t)\n",
    "\\\\\n",
    "y(t) &= \n",
    "\\begin{bmatrix}\n",
    "    0 & R\n",
    "\\end{bmatrix}\n",
    "\\begin{bmatrix}\n",
    "    x_1(t) \\\\ x_2(t)\n",
    "\\end{bmatrix}\n",
    "\\end{aligned}\n",
    "$$\n"
   ]
  },
  {
   "cell_type": "markdown",
   "metadata": {},
   "source": [
    "由状态方程可以计算出系统的拉普拉斯变换方程：\n",
    "\n",
    "$$\n",
    "G(s) =  C(SI -A)^{-1}B + D = \\frac{R/(LC)}{s^2 + (R/L)s + 1/(LC)}\n",
    "$$"
   ]
  },
  {
   "cell_type": "markdown",
   "metadata": {},
   "source": [
    "由拉普拉斯变换方程，我们可以画出系统的信号流动图以框图：\n",
    "\n",
    "![系统图](./pics/RLC_Graph.png)"
   ]
  },
  {
   "cell_type": "markdown",
   "metadata": {},
   "source": [
    "将变量输入 Matlab，并构建系统\n",
    "\n",
    "由于 Matlab 中的函数 `ss( )` 不支持符号语言，所以这里给令 C = 1, R = 2, L = 3。"
   ]
  },
  {
   "cell_type": "code",
   "execution_count": 2,
   "metadata": {},
   "outputs": [
    {
     "name": "stdout",
     "output_type": "stream",
     "text": [
      "\n"
     ]
    }
   ],
   "source": [
    "% Define system parameters\n",
    "C = 1;\n",
    "R = 2;\n",
    "L = 3;\n",
    "\n",
    "A = [0 -1/C; 1/L -R/L];\n",
    "B = [1/C; 0];\n",
    "C = [0 R];\n",
    "D = [0];\n",
    "\n",
    "% Create state space system\n",
    "sys = ss(A,B,C,D);"
   ]
  },
  {
   "cell_type": "code",
   "execution_count": 4,
   "metadata": {},
   "outputs": [
    {
     "name": "stdout",
     "output_type": "stream",
     "text": [
      "\n",
      "G =\n",
      " \n",
      "          0.6667\n",
      "  -----------------------\n",
      "  s^2 + 0.6667 s + 0.3333\n",
      " \n",
      "Continuous-time transfer function.\n",
      "\n",
      "\n"
     ]
    }
   ],
   "source": [
    "% Convert to transfer functions\n",
    "G = tf(sys)"
   ]
  },
  {
   "cell_type": "markdown",
   "metadata": {},
   "source": [
    "- 上篇： [ACnD 1. 状态空间模型 (State Space Model)](https://zhuanlan.zhihu.com/p/466790657)\n",
    "- 下篇： [ACnD 2. 极点布置 (Pole Placement)]()"
   ]
  }
 ],
 "metadata": {
  "kernelspec": {
   "display_name": "Matlab",
   "language": "matlab",
   "name": "matlab"
  },
  "language_info": {
   "codemirror_mode": "octave",
   "file_extension": ".m",
   "help_links": [
    {
     "text": "MetaKernel Magics",
     "url": "https://metakernel.readthedocs.io/en/latest/source/README.html"
    }
   ],
   "mimetype": "text/x-octave",
   "name": "matlab",
   "version": "0.16.11"
  },
  "orig_nbformat": 4
 },
 "nbformat": 4,
 "nbformat_minor": 2
}
