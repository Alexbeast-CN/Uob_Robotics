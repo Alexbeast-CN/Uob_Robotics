{
 "cells": [
  {
   "cell_type": "markdown",
   "metadata": {},
   "source": [
    "# AC&D 1. 状态空间 (State Space)\n",
    "\n",
    "> 参考：\n",
    "> - UWE 的课程视频以及笔记（非公开链接）\n",
    "> - Matlab Tech Talk [State Space](https://www.youtube.com/watch?v=hpeKrMG-WP0&t=53s&ab_channel=MATLAB)\n",
    "> - 书籍 [Modern Control Systems](https://www.amazon.co.uk/Modern-Control-Systems-Global-Richard/dp/1292152974/ref=sr_1_1?crid=J0DQPEBQ2PXP&keywords=modern+control+systems&qid=1644591893&sprefix=modern+control+system%2Caps%2C39&sr=8-1)\n",
    "\n",
    "状态空间关注的是基于时域的系统。系统的状态作为一组变量，其值与输入信号和描述动力学的方程一起，将提供系统的未来状态和输出。举一个简单的例子：\n",
    "\n",
    "![最简系统框图](./pics/Simple_system.png)\n",
    "\n",
    "在这里，所有的变量都有向量来描述：\n",
    "\n",
    "$$\n",
    "u(t) = \n",
    "\\begin{bmatrix}\n",
    "    u_1(t)\\\\u_2(t)\\\\...\\\\ u_n(t)\n",
    "\\end{bmatrix}\n",
    "\\qquad\n",
    "x(t) = \n",
    "\\begin{bmatrix}\n",
    "    x_1(t)\\\\x_2(t)\\\\...\\\\ x_n(t)\n",
    "\\end{bmatrix}\n",
    "\\qquad\n",
    "y(t) = \n",
    "\\begin{bmatrix}\n",
    "    y_1(t)\\\\y_2(t)\\\\...\\\\ y_n(t)\n",
    "\\end{bmatrix}\n",
    "$$\n",
    "\n",
    "作为初始条件来说"
   ]
  },
  {
   "cell_type": "markdown",
   "metadata": {},
   "source": [
    "$$\n",
    "x(t) = \n",
    "\\begin{bmatrix}\n",
    "    x_1(t)\\\\x_2(t)\\\\...\\\\ x_n(t)\n",
    "\\end{bmatrix}\n",
    "$$\n"
   ]
  },
  {
   "cell_type": "markdown",
   "metadata": {},
   "source": [
    "举一个更加具体的例子，一个弹簧阻尼质量系统 (Spring-Damper-Mass system) \n",
    "\n",
    "![弹簧阻尼质量系统](./pics/MSD.png)"
   ]
  },
  {
   "cell_type": "markdown",
   "metadata": {},
   "source": [
    "系统的输入 $u(t)$ 是质量块受到的力，而输出 $y(t)$ 是质量块的位移。"
   ]
  },
  {
   "cell_type": "markdown",
   "metadata": {},
   "source": [
    "这里我们用物体的位移和速度来表示系统的状态，即\n",
    "\n",
    "$$\n",
    "x(t) = \n",
    "\\begin{bmatrix}\n",
    "    x_1(t)\\\\x_2(t)\n",
    "\\end{bmatrix}\n",
    "\\qquad\n",
    "x_1(t) = y(t)\n",
    "\\qquad\n",
    "x_2(t) = \\frac{dy(t)}{dt}\n",
    "$$"
   ]
  },
  {
   "cell_type": "markdown",
   "metadata": {},
   "source": [
    "我们用以上向量来表示系统的状态方程则可以写成：\n",
    "\n",
    "$$\n",
    "M\\frac{d x_2(t)}{dt} + bx_2(t) + kx_1(t) = u(t)\n",
    "$$"
   ]
  },
  {
   "cell_type": "markdown",
   "metadata": {},
   "source": []
  }
 ],
 "metadata": {
  "interpreter": {
   "hash": "1baa965d5efe3ac65b79dfc60c0d706280b1da80fedb7760faf2759126c4f253"
  },
  "kernelspec": {
   "display_name": "Matlab",
   "language": "python",
   "name": "python3"
  },
  "language_info": {
   "codemirror_mode": "octave",
   "file_extension": ".m",
   "help_links": [
    {
     "text": "MetaKernel Magics",
     "url": "https://metakernel.readthedocs.io/en/latest/source/README.html"
    }
   ],
   "mimetype": "text/x-octave",
   "name": "python",
   "version": "3.8.10"
  },
  "orig_nbformat": 4
 },
 "nbformat": 4,
 "nbformat_minor": 2
}
